{
 "cells": [
  {
   "cell_type": "markdown",
   "source": [
    "# YOLOv8 for bubbles detection"
   ],
   "metadata": {
    "collapsed": false
   },
   "id": "a268f1e3a5c676bb"
  },
  {
   "cell_type": "markdown",
   "source": [
    "Set path to data.yaml file before training:\n",
    "\n",
    "\"/data/yolo/dataset/data.yaml\""
   ],
   "metadata": {
    "collapsed": false
   },
   "id": "ccb97af13ce2e751"
  },
  {
   "cell_type": "code",
   "execution_count": null,
   "outputs": [],
   "source": [
    "!yolo task=detect \\\n",
    "mode=train \\\n",
    "model=yolov8s.pt \\\n",
    "data=\"\" \\\n",
    "epochs=80 \\\n",
    "imgsz=800 "
   ],
   "metadata": {
    "collapsed": false
   },
   "id": "ec3d26e567bbfe61"
  },
  {
   "cell_type": "code",
   "execution_count": null,
   "outputs": [],
   "source": [],
   "metadata": {
    "collapsed": false
   },
   "id": "5c144e4579a2ac28"
  }
 ],
 "metadata": {
  "kernelspec": {
   "display_name": "Python 3",
   "language": "python",
   "name": "python3"
  },
  "language_info": {
   "codemirror_mode": {
    "name": "ipython",
    "version": 2
   },
   "file_extension": ".py",
   "mimetype": "text/x-python",
   "name": "python",
   "nbconvert_exporter": "python",
   "pygments_lexer": "ipython2",
   "version": "2.7.6"
  }
 },
 "nbformat": 4,
 "nbformat_minor": 5
}
