{
 "cells": [
  {
   "cell_type": "code",
   "execution_count": 30,
   "metadata": {
    "collapsed": true,
    "ExecuteTime": {
     "end_time": "2024-03-28T20:07:20.578651700Z",
     "start_time": "2024-03-28T20:07:20.495788800Z"
    }
   },
   "outputs": [],
   "source": [
    "import ultralytics"
   ]
  },
  {
   "cell_type": "code",
   "execution_count": 31,
   "outputs": [],
   "source": [
    "data = r\"C:\\Internship\\ITMO_ML\\CTCI\\src\\infrastructure\\configs\\training_configs\\yolov8_seg.yaml\"\n",
    "batch_size = 4\n",
    "save_period = 1\n",
    "save_json = True\n",
    "num_epochs = 1\n",
    "pretrained = True"
   ],
   "metadata": {
    "collapsed": false,
    "ExecuteTime": {
     "end_time": "2024-03-28T20:07:20.620067700Z",
     "start_time": "2024-03-28T20:07:20.536644800Z"
    }
   }
  },
  {
   "cell_type": "code",
   "execution_count": 32,
   "outputs": [],
   "source": [
    "model_type = {\n",
    "    'nano': 'yolov8n-seg.pt',\n",
    "    'small': 'yolov8s-seg.pt',\n",
    "    'medium': 'yolov8m-seg.pt',\n",
    "    'large': 'yolov8l-seg.pt',\n",
    "    'extra': 'yolov8x-seg.pt'\n",
    "}"
   ],
   "metadata": {
    "collapsed": false,
    "ExecuteTime": {
     "end_time": "2024-03-28T20:07:20.666692400Z",
     "start_time": "2024-03-28T20:07:20.582930400Z"
    }
   }
  },
  {
   "cell_type": "code",
   "execution_count": 33,
   "outputs": [],
   "source": [
    "model = ultralytics.YOLO(model_type['medium'])"
   ],
   "metadata": {
    "collapsed": false,
    "ExecuteTime": {
     "end_time": "2024-03-28T20:07:21.089962700Z",
     "start_time": "2024-03-28T20:07:20.636141500Z"
    }
   }
  },
  {
   "cell_type": "code",
   "execution_count": 34,
   "outputs": [
    {
     "name": "stdout",
     "output_type": "stream",
     "text": [
      "New https://pypi.org/project/ultralytics/8.1.36 available 😃 Update with 'pip install -U ultralytics'\n",
      "Ultralytics YOLOv8.1.35 🚀 Python-3.10.10 torch-2.2.2+cu118 CPU (Intel Core(TM) i5-8250U 1.60GHz)\n",
      "\u001B[34m\u001B[1mengine\\trainer: \u001B[0mtask=segment, mode=train, model=yolov8m-seg.pt, data=C:\\Internship\\ITMO_ML\\CTCI\\src\\infrastructure\\configs\\training_configs\\yolov8_seg.yaml, epochs=1, time=None, patience=100, batch=4, imgsz=640, save=True, save_period=-1, cache=False, device=None, workers=8, project=None, name=train6, exist_ok=False, pretrained=True, optimizer=auto, verbose=True, seed=0, deterministic=True, single_cls=False, rect=False, cos_lr=False, close_mosaic=10, resume=False, amp=True, fraction=1.0, profile=False, freeze=None, multi_scale=False, overlap_mask=True, mask_ratio=4, dropout=0.0, val=True, split=val, save_json=True, save_hybrid=False, conf=None, iou=0.7, max_det=300, half=False, dnn=False, plots=True, source=None, vid_stride=1, stream_buffer=False, visualize=False, augment=False, agnostic_nms=False, classes=None, retina_masks=False, embed=None, show=False, save_frames=False, save_txt=False, save_conf=False, save_crop=False, show_labels=True, show_conf=True, show_boxes=True, line_width=None, format=torchscript, keras=False, optimize=False, int8=False, dynamic=False, simplify=False, opset=None, workspace=4, nms=False, lr0=0.01, lrf=0.01, momentum=0.937, weight_decay=0.0005, warmup_epochs=3.0, warmup_momentum=0.8, warmup_bias_lr=0.1, box=7.5, cls=0.5, dfl=1.5, pose=12.0, kobj=1.0, label_smoothing=0.0, nbs=64, hsv_h=0.015, hsv_s=0.7, hsv_v=0.4, degrees=0.0, translate=0.1, scale=0.5, shear=0.0, perspective=0.0, flipud=0.0, fliplr=0.5, bgr=0.0, mosaic=1.0, mixup=0.0, copy_paste=0.0, auto_augment=randaugment, erasing=0.4, crop_fraction=1.0, cfg=None, tracker=botsort.yaml, save_dir=C:\\Internship\\ITMO_ML\\CTCI\\runs\\segment\\train6\n",
      "Overriding model.yaml nc=80 with nc=1\n",
      "\n",
      "                   from  n    params  module                                       arguments                     \n",
      "  0                  -1  1      1392  ultralytics.nn.modules.conv.Conv             [3, 48, 3, 2]                 \n",
      "  1                  -1  1     41664  ultralytics.nn.modules.conv.Conv             [48, 96, 3, 2]                \n",
      "  2                  -1  2    111360  ultralytics.nn.modules.block.C2f             [96, 96, 2, True]             \n",
      "  3                  -1  1    166272  ultralytics.nn.modules.conv.Conv             [96, 192, 3, 2]               \n",
      "  4                  -1  4    813312  ultralytics.nn.modules.block.C2f             [192, 192, 4, True]           \n",
      "  5                  -1  1    664320  ultralytics.nn.modules.conv.Conv             [192, 384, 3, 2]              \n",
      "  6                  -1  4   3248640  ultralytics.nn.modules.block.C2f             [384, 384, 4, True]           \n",
      "  7                  -1  1   1991808  ultralytics.nn.modules.conv.Conv             [384, 576, 3, 2]              \n",
      "  8                  -1  2   3985920  ultralytics.nn.modules.block.C2f             [576, 576, 2, True]           \n",
      "  9                  -1  1    831168  ultralytics.nn.modules.block.SPPF            [576, 576, 5]                 \n",
      " 10                  -1  1         0  torch.nn.modules.upsampling.Upsample         [None, 2, 'nearest']          \n",
      " 11             [-1, 6]  1         0  ultralytics.nn.modules.conv.Concat           [1]                           \n",
      " 12                  -1  2   1993728  ultralytics.nn.modules.block.C2f             [960, 384, 2]                 \n",
      " 13                  -1  1         0  torch.nn.modules.upsampling.Upsample         [None, 2, 'nearest']          \n",
      " 14             [-1, 4]  1         0  ultralytics.nn.modules.conv.Concat           [1]                           \n",
      " 15                  -1  2    517632  ultralytics.nn.modules.block.C2f             [576, 192, 2]                 \n",
      " 16                  -1  1    332160  ultralytics.nn.modules.conv.Conv             [192, 192, 3, 2]              \n",
      " 17            [-1, 12]  1         0  ultralytics.nn.modules.conv.Concat           [1]                           \n",
      " 18                  -1  2   1846272  ultralytics.nn.modules.block.C2f             [576, 384, 2]                 \n",
      " 19                  -1  1   1327872  ultralytics.nn.modules.conv.Conv             [384, 384, 3, 2]              \n",
      " 20             [-1, 9]  1         0  ultralytics.nn.modules.conv.Concat           [1]                           \n",
      " 21                  -1  2   4207104  ultralytics.nn.modules.block.C2f             [960, 576, 2]                 \n",
      " 22        [15, 18, 21]  1   5159603  ultralytics.nn.modules.head.Segment          [1, 32, 192, [192, 384, 576]] \n",
      "YOLOv8m-seg summary: 331 layers, 27240227 parameters, 27240211 gradients, 110.4 GFLOPs\n",
      "\n",
      "Transferred 531/537 items from pretrained weights\n",
      "Freezing layer 'model.22.dfl.conv.weight'\n"
     ]
    },
    {
     "name": "stderr",
     "output_type": "stream",
     "text": [
      "\u001B[34m\u001B[1mtrain: \u001B[0mScanning C:\\Internship\\ITMO_ML\\CTCI\\data\\yolo_seg_dataset\\labels\\train.cache... 0 images, 150 backgrounds, 0 corrupt: 100%|██████████| 150/150 [00:00<?, ?it/s]"
     ]
    },
    {
     "name": "stdout",
     "output_type": "stream",
     "text": [
      "WARNING ⚠️ No labels found in C:\\Internship\\ITMO_ML\\CTCI\\data\\yolo_seg_dataset\\labels\\train.cache, training may not work correctly. See https://docs.ultralytics.com/datasets/detect for dataset formatting guidance.\n",
      "\u001B[34m\u001B[1malbumentations: \u001B[0mBlur(p=0.01, blur_limit=(3, 7)), MedianBlur(p=0.01, blur_limit=(3, 7)), ToGray(p=0.01), CLAHE(p=0.01, clip_limit=(1, 4.0), tile_grid_size=(8, 8))\n"
     ]
    },
    {
     "name": "stderr",
     "output_type": "stream",
     "text": [
      "\n",
      "\u001B[34m\u001B[1mval: \u001B[0mScanning C:\\Internship\\ITMO_ML\\CTCI\\data\\yolo_seg_dataset\\labels\\val.cache... 0 images, 100 backgrounds, 0 corrupt: 100%|██████████| 100/100 [00:00<?, ?it/s]"
     ]
    },
    {
     "name": "stdout",
     "output_type": "stream",
     "text": [
      "WARNING ⚠️ No labels found in C:\\Internship\\ITMO_ML\\CTCI\\data\\yolo_seg_dataset\\labels\\val.cache, training may not work correctly. See https://docs.ultralytics.com/datasets/detect for dataset formatting guidance.\n"
     ]
    },
    {
     "name": "stderr",
     "output_type": "stream",
     "text": [
      "\n"
     ]
    },
    {
     "name": "stdout",
     "output_type": "stream",
     "text": [
      "Plotting labels to C:\\Internship\\ITMO_ML\\CTCI\\runs\\segment\\train6\\labels.jpg... \n",
      "zero-size array to reduction operation maximum which has no identity\n",
      "\u001B[34m\u001B[1moptimizer:\u001B[0m 'optimizer=auto' found, ignoring 'lr0=0.01' and 'momentum=0.937' and determining best 'optimizer', 'lr0' and 'momentum' automatically... \n",
      "\u001B[34m\u001B[1moptimizer:\u001B[0m AdamW(lr=0.002, momentum=0.9) with parameter groups 86 weight(decay=0.0), 97 weight(decay=0.0005), 96 bias(decay=0.0)\n",
      "Image sizes 640 train, 640 val\n",
      "Using 0 dataloader workers\n",
      "Logging results to \u001B[1mC:\\Internship\\ITMO_ML\\CTCI\\runs\\segment\\train6\u001B[0m\n",
      "Starting training for 1 epochs...\n",
      "\n",
      "      Epoch    GPU_mem   box_loss   seg_loss   cls_loss   dfl_loss  Instances       Size\n"
     ]
    },
    {
     "name": "stderr",
     "output_type": "stream",
     "text": [
      "        1/1         0G          0          0      15.11          0          0        640: 100%|██████████| 38/38 [13:01<00:00, 20.57s/it]\n",
      "                 Class     Images  Instances      Box(P          R      mAP50  mAP50-95)     Mask(P          R      mAP50  mAP50-95):   0%|          | 0/13 [00:00<?, ?it/s]"
     ]
    },
    {
     "name": "stdout",
     "output_type": "stream",
     "text": [
      "\u001B[31m\u001B[1mrequirements:\u001B[0m Ultralytics requirement ['pycocotools>=2.0.6'] not found, attempting AutoUpdate...\n",
      "Collecting pycocotools>=2.0.6\r\n",
      "  Downloading pycocotools-2.0.7-cp310-cp310-win_amd64.whl (84 kB)\r\n",
      "     -------------------------------------- 84.9/84.9 kB 478.6 kB/s eta 0:00:00\r\n",
      "Requirement already satisfied: numpy in c:\\internship\\itmo_ml\\ctci\\venv\\lib\\site-packages (from pycocotools>=2.0.6) (1.26.3)\r\n",
      "Requirement already satisfied: matplotlib>=2.1.0 in c:\\internship\\itmo_ml\\ctci\\venv\\lib\\site-packages (from pycocotools>=2.0.6) (3.8.3)\r\n",
      "Requirement already satisfied: packaging>=20.0 in c:\\internship\\itmo_ml\\ctci\\venv\\lib\\site-packages (from matplotlib>=2.1.0->pycocotools>=2.0.6) (24.0)\r\n",
      "Requirement already satisfied: cycler>=0.10 in c:\\internship\\itmo_ml\\ctci\\venv\\lib\\site-packages (from matplotlib>=2.1.0->pycocotools>=2.0.6) (0.12.1)\r\n",
      "Requirement already satisfied: contourpy>=1.0.1 in c:\\internship\\itmo_ml\\ctci\\venv\\lib\\site-packages (from matplotlib>=2.1.0->pycocotools>=2.0.6) (1.2.0)\r\n",
      "Requirement already satisfied: pyparsing>=2.3.1 in c:\\internship\\itmo_ml\\ctci\\venv\\lib\\site-packages (from matplotlib>=2.1.0->pycocotools>=2.0.6) (3.1.2)\r\n",
      "Requirement already satisfied: pillow>=8 in c:\\internship\\itmo_ml\\ctci\\venv\\lib\\site-packages (from matplotlib>=2.1.0->pycocotools>=2.0.6) (10.2.0)\r\n",
      "Requirement already satisfied: fonttools>=4.22.0 in c:\\internship\\itmo_ml\\ctci\\venv\\lib\\site-packages (from matplotlib>=2.1.0->pycocotools>=2.0.6) (4.50.0)\r\n",
      "Requirement already satisfied: python-dateutil>=2.7 in c:\\internship\\itmo_ml\\ctci\\venv\\lib\\site-packages (from matplotlib>=2.1.0->pycocotools>=2.0.6) (2.9.0.post0)\r\n",
      "Requirement already satisfied: kiwisolver>=1.3.1 in c:\\internship\\itmo_ml\\ctci\\venv\\lib\\site-packages (from matplotlib>=2.1.0->pycocotools>=2.0.6) (1.4.5)\r\n",
      "Requirement already satisfied: six>=1.5 in c:\\internship\\itmo_ml\\ctci\\venv\\lib\\site-packages (from python-dateutil>=2.7->matplotlib>=2.1.0->pycocotools>=2.0.6) (1.16.0)\r\n",
      "Installing collected packages: pycocotools\r\n",
      "Successfully installed pycocotools-2.0.7\r\n",
      "\n",
      "\u001B[31m\u001B[1mrequirements:\u001B[0m AutoUpdate success ✅ 15.0s, installed 1 package: ['pycocotools>=2.0.6']\n",
      "\u001B[31m\u001B[1mrequirements:\u001B[0m ⚠️ \u001B[1mRestart runtime or rerun command for updates to take effect\u001B[0m\n",
      "\n"
     ]
    },
    {
     "name": "stderr",
     "output_type": "stream",
     "text": [
      "                 Class     Images  Instances      Box(P          R      mAP50  mAP50-95)     Mask(P          R      mAP50  mAP50-95): 100%|██████████| 13/13 [05:31<00:00, 25.51s/it]"
     ]
    },
    {
     "name": "stdout",
     "output_type": "stream",
     "text": [
      "                   all        100          0          0          0          0          0          0          0          0          0\n",
      "WARNING ⚠️ no labels found in segment set, can not compute metrics without labels\n"
     ]
    },
    {
     "name": "stderr",
     "output_type": "stream",
     "text": [
      "\n"
     ]
    },
    {
     "name": "stdout",
     "output_type": "stream",
     "text": [
      "\n",
      "1 epochs completed in 0.311 hours.\n",
      "Optimizer stripped from C:\\Internship\\ITMO_ML\\CTCI\\runs\\segment\\train6\\weights\\last.pt, 54.8MB\n",
      "Optimizer stripped from C:\\Internship\\ITMO_ML\\CTCI\\runs\\segment\\train6\\weights\\best.pt, 54.8MB\n",
      "\n",
      "Validating C:\\Internship\\ITMO_ML\\CTCI\\runs\\segment\\train6\\weights\\best.pt...\n",
      "Ultralytics YOLOv8.1.35 🚀 Python-3.10.10 torch-2.2.2+cu118 CPU (Intel Core(TM) i5-8250U 1.60GHz)\n",
      "YOLOv8m-seg summary (fused): 245 layers, 27222963 parameters, 0 gradients, 110.0 GFLOPs\n"
     ]
    },
    {
     "name": "stderr",
     "output_type": "stream",
     "text": [
      "                 Class     Images  Instances      Box(P          R      mAP50  mAP50-95)     Mask(P          R      mAP50  mAP50-95): 100%|██████████| 13/13 [05:00<00:00, 23.13s/it]"
     ]
    },
    {
     "name": "stdout",
     "output_type": "stream",
     "text": [
      "                   all        100          0          0          0          0          0          0          0          0          0\n",
      "WARNING ⚠️ no labels found in segment set, can not compute metrics without labels\n"
     ]
    },
    {
     "name": "stderr",
     "output_type": "stream",
     "text": [
      "\n"
     ]
    },
    {
     "name": "stdout",
     "output_type": "stream",
     "text": [
      "Speed: 5.6ms preprocess, 1050.1ms inference, 0.0ms loss, 1.5ms postprocess per image\n",
      "Saving C:\\Internship\\ITMO_ML\\CTCI\\runs\\segment\\train6\\predictions.json...\n",
      "Results saved to \u001B[1mC:\\Internship\\ITMO_ML\\CTCI\\runs\\segment\\train6\u001B[0m\n"
     ]
    }
   ],
   "source": [
    "metrics = model.train(\n",
    "    data=data,\n",
    "    batch=batch_size,\n",
    "    save_json=save_json,\n",
    "    epochs=num_epochs,\n",
    "    pretrained=pretrained\n",
    ")"
   ],
   "metadata": {
    "collapsed": false,
    "ExecuteTime": {
     "end_time": "2024-03-28T20:31:21.008321Z",
     "start_time": "2024-03-28T20:07:21.096164200Z"
    }
   }
  }
 ],
 "metadata": {
  "kernelspec": {
   "display_name": "Python 3",
   "language": "python",
   "name": "python3"
  },
  "language_info": {
   "codemirror_mode": {
    "name": "ipython",
    "version": 2
   },
   "file_extension": ".py",
   "mimetype": "text/x-python",
   "name": "python",
   "nbconvert_exporter": "python",
   "pygments_lexer": "ipython2",
   "version": "2.7.6"
  }
 },
 "nbformat": 4,
 "nbformat_minor": 0
}
