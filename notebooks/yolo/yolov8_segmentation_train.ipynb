{
 "cells": [
  {
   "cell_type": "code",
   "execution_count": 30,
   "metadata": {
    "collapsed": true,
    "ExecuteTime": {
     "end_time": "2024-03-28T20:07:20.578651700Z",
     "start_time": "2024-03-28T20:07:20.495788800Z"
    }
   },
   "outputs": [],
   "source": [
    "import ultralytics"
   ]
  },
  {
   "cell_type": "code",
   "execution_count": 31,
   "outputs": [],
   "source": [
    "data = r\".\\CTCI\\src\\infrastructure\\configs\\training_configs\\yolov8_seg.yaml\"\n",
    "batch_size = 4\n",
    "save_period = 1\n",
    "save_json = True\n",
    "num_epochs = 1\n",
    "pretrained = True"
   ],
   "metadata": {
    "collapsed": false,
    "ExecuteTime": {
     "end_time": "2024-03-28T20:07:20.620067700Z",
     "start_time": "2024-03-28T20:07:20.536644800Z"
    }
   }
  },
  {
   "cell_type": "code",
   "execution_count": 32,
   "outputs": [],
   "source": [
    "model_type = {\n",
    "    'nano': 'yolov8n-seg.pt',\n",
    "    'small': 'yolov8s-seg.pt',\n",
    "    'medium': 'yolov8m-seg.pt',\n",
    "    'large': 'yolov8l-seg.pt',\n",
    "    'extra': 'yolov8x-seg.pt'\n",
    "}"
   ],
   "metadata": {
    "collapsed": false,
    "ExecuteTime": {
     "end_time": "2024-03-28T20:07:20.666692400Z",
     "start_time": "2024-03-28T20:07:20.582930400Z"
    }
   }
  },
  {
   "cell_type": "code",
   "execution_count": 33,
   "outputs": [],
   "source": [
    "model = ultralytics.YOLO(model_type['medium'])"
   ],
   "metadata": {
    "collapsed": false,
    "ExecuteTime": {
     "end_time": "2024-03-28T20:07:21.089962700Z",
     "start_time": "2024-03-28T20:07:20.636141500Z"
    }
   }
  },
  {
   "cell_type": "code",
   "execution_count": null,
   "outputs": [],
   "source": [
    "metrics = model.train(\n",
    "    data=data,\n",
    "    batch=batch_size,\n",
    "    save_json=save_json,\n",
    "    epochs=num_epochs,\n",
    "    pretrained=pretrained\n",
    ")"
   ],
   "metadata": {
    "collapsed": false
   }
  }
 ],
 "metadata": {
  "kernelspec": {
   "display_name": "Python 3",
   "language": "python",
   "name": "python3"
  },
  "language_info": {
   "codemirror_mode": {
    "name": "ipython",
    "version": 2
   },
   "file_extension": ".py",
   "mimetype": "text/x-python",
   "name": "python",
   "nbconvert_exporter": "python",
   "pygments_lexer": "ipython2",
   "version": "2.7.6"
  }
 },
 "nbformat": 4,
 "nbformat_minor": 0
}
