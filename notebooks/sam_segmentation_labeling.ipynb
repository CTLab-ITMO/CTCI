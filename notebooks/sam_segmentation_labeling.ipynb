{
 "cells": [
  {
   "cell_type": "markdown",
   "id": "9a93509566f2ac08",
   "metadata": {
    "collapsed": false
   },
   "source": [
    "# Imports"
   ]
  },
  {
   "cell_type": "code",
   "execution_count": 1,
   "id": "initial_id",
   "metadata": {
    "ExecuteTime": {
     "end_time": "2024-01-29T17:20:59.694334Z",
     "start_time": "2024-01-29T17:20:56.077333800Z"
    },
    "collapsed": true
   },
   "outputs": [],
   "source": [
    "import os\n",
    "import sys\n",
    "sys.path.append('..')\n",
    "\n",
    "import numpy as np\n",
    "from tqdm import tqdm\n",
    "import cv2\n",
    "import matplotlib.pyplot as plt\n",
    "\n",
    "from src.sam_segmentation.yolo import load_yolov8_detector, yolov8_detect\n",
    "from src.sam_segmentation.sam import load_sam_predictor, sam_segmentation\n",
    "from src.sam_segmentation.utils import unite_masks, masks_narrowing\n",
    "from src.processing.watershed import perform_watershed"
   ]
  },
  {
   "cell_type": "markdown",
   "id": "64138b686e0e43da",
   "metadata": {
    "collapsed": false
   },
   "source": [
    "# Data"
   ]
  },
  {
   "cell_type": "code",
   "execution_count": 2,
   "id": "94927a50811630a0",
   "metadata": {
    "ExecuteTime": {
     "end_time": "2024-01-29T17:21:13.385403700Z",
     "start_time": "2024-01-29T17:21:13.234426800Z"
    },
    "collapsed": false
   },
   "outputs": [],
   "source": [
    "DATA_DIR = r\"../data/interim/\""
   ]
  },
  {
   "cell_type": "code",
   "execution_count": 3,
   "id": "89bc4965",
   "metadata": {},
   "outputs": [],
   "source": [
    "def filter_hidden_folders(folder):\n",
    "    if folder[0] == '.':\n",
    "        return False\n",
    "    return True"
   ]
  },
  {
   "cell_type": "code",
   "execution_count": 4,
   "id": "c6c1ad79608d7671",
   "metadata": {
    "ExecuteTime": {
     "end_time": "2024-01-29T17:21:13.453381100Z",
     "start_time": "2024-01-29T17:21:13.431280500Z"
    },
    "collapsed": false
   },
   "outputs": [
    {
     "data": {
      "text/plain": [
       "['F4_1_1_1.ts-frames',\n",
       " 'F1_2_3_1.ts-frames',\n",
       " 'F4_1_3_2.ts-frames',\n",
       " 'F1_1_4_2.ts-frames',\n",
       " 'F2_2_2_1.ts-frames',\n",
       " 'F5_1_2_1.ts-frames',\n",
       " 'F7_1_2_2.ts-frames',\n",
       " 'F2_1_2_1.ts-frames',\n",
       " 'F5_2_2_1.ts-frames',\n",
       " 'F1_1_3_1.ts-frames',\n",
       " 'F4_2_3_2.ts-frames',\n",
       " 'F1_1_1_2.ts-frames',\n",
       " 'F1_2_4_2.ts-frames',\n",
       " 'F1_1_2_2.ts-frames',\n",
       " 'F1_2_5_1.ts-frames',\n",
       " 'F4_2_2_1.ts-frames',\n",
       " 'F7_2_1_2.ts-frames',\n",
       " 'F5_2_1_1.ts-frames',\n",
       " 'F2_1_1_1.ts-frames',\n",
       " 'F5_2_3_2.ts-frames',\n",
       " 'F7_1_1_2.ts-frames',\n",
       " 'F2_2_3_2.ts-frames',\n",
       " 'F5_1_1_1.ts-frames',\n",
       " 'F2_2_1_1.ts-frames',\n",
       " 'F1_2_2_2.ts-frames',\n",
       " 'F1_1_5_1.ts-frames',\n",
       " 'F4_1_2_1.ts-frames',\n",
       " 'F1_2_3_1.ts-frames_masks',\n",
       " 'F4_2_2_2.ts-frames',\n",
       " 'F1_2_5_2.ts-frames',\n",
       " 'F1_1_2_1.ts-frames',\n",
       " 'F5_2_3_1.ts-frames',\n",
       " 'F2_1_1_2.ts-frames',\n",
       " 'F5_2_1_2.ts-frames',\n",
       " 'F7_2_1_1.ts-frames',\n",
       " 'F5_1_3_1.ts-frames',\n",
       " 'F2_2_1_2.ts-frames',\n",
       " 'F5_1_1_2.ts-frames',\n",
       " 'F7_1_1_1.ts-frames',\n",
       " 'F2_2_3_1.ts-frames',\n",
       " 'F4_1_2_2.ts-frames',\n",
       " 'F1_1_5_2.ts-frames',\n",
       " 'F1_2_2_1.ts-frames',\n",
       " 'F1_1_4_1.ts-frames',\n",
       " 'F4_1_3_1.ts-frames',\n",
       " 'F4_1_1_2.ts-frames',\n",
       " 'F1_2_3_2.ts-frames',\n",
       " 'F7_1_2_1.ts-frames',\n",
       " 'F5_1_2_2.ts-frames',\n",
       " 'F2_2_2_2.ts-frames',\n",
       " 'F5_2_2_2.ts-frames',\n",
       " 'F2_1_2_2.ts-frames',\n",
       " 'F1_2_4_1.ts-frames',\n",
       " 'F4_2_3_1.ts-frames',\n",
       " 'F1_1_1_1.ts-frames',\n",
       " 'F1_1_3_2.ts-frames']"
      ]
     },
     "execution_count": 4,
     "metadata": {},
     "output_type": "execute_result"
    }
   ],
   "source": [
    "folders_list = os.listdir(DATA_DIR)\n",
    "folders_list = list(filter(filter_hidden_folders, folders_list))\n",
    "folders_list"
   ]
  },
  {
   "cell_type": "code",
   "execution_count": 5,
   "id": "f6586033c89806ea",
   "metadata": {
    "ExecuteTime": {
     "end_time": "2024-01-29T17:21:13.643872200Z",
     "start_time": "2024-01-29T17:21:13.622928100Z"
    },
    "collapsed": false
   },
   "outputs": [],
   "source": [
    "def count_images(image_folder_path):\n",
    "    images_num = len(os.listdir(image_folder_path))\n",
    "    return images_num\n",
    "\n",
    "def summarize_folders(data_dir, folders_list):\n",
    "    folders_info = {}\n",
    "    images_sum = 0\n",
    "    \n",
    "    for folder in folders_list:\n",
    "        images_num = count_images(os.path.join(data_dir, folder))\n",
    "        folders_info[folder] = images_num\n",
    "        images_sum += images_num\n",
    "        \n",
    "    print(f\"There is {images_sum} images:\")\n",
    "    for folder in folders_info.keys():\n",
    "        print(f\"\\t{folder} folder has {folders_info[folder]} images\")\n",
    "    "
   ]
  },
  {
   "cell_type": "code",
   "execution_count": 6,
   "id": "5a6d902ee413c57d",
   "metadata": {
    "ExecuteTime": {
     "end_time": "2024-01-29T17:21:14.798957200Z",
     "start_time": "2024-01-29T17:21:13.828399200Z"
    },
    "collapsed": false
   },
   "outputs": [
    {
     "name": "stdout",
     "output_type": "stream",
     "text": [
      "There is 20151 images:\n",
      "\tF4_1_1_1.ts-frames folder has 362 images\n",
      "\tF1_2_3_1.ts-frames folder has 360 images\n",
      "\tF4_1_3_2.ts-frames folder has 361 images\n",
      "\tF1_1_4_2.ts-frames folder has 363 images\n",
      "\tF2_2_2_1.ts-frames folder has 353 images\n",
      "\tF5_1_2_1.ts-frames folder has 363 images\n",
      "\tF7_1_2_2.ts-frames folder has 364 images\n",
      "\tF2_1_2_1.ts-frames folder has 352 images\n",
      "\tF5_2_2_1.ts-frames folder has 363 images\n",
      "\tF1_1_3_1.ts-frames folder has 358 images\n",
      "\tF4_2_3_2.ts-frames folder has 363 images\n",
      "\tF1_1_1_2.ts-frames folder has 364 images\n",
      "\tF1_2_4_2.ts-frames folder has 359 images\n",
      "\tF1_1_2_2.ts-frames folder has 359 images\n",
      "\tF1_2_5_1.ts-frames folder has 359 images\n",
      "\tF4_2_2_1.ts-frames folder has 362 images\n",
      "\tF7_2_1_2.ts-frames folder has 364 images\n",
      "\tF5_2_1_1.ts-frames folder has 362 images\n",
      "\tF2_1_1_1.ts-frames folder has 358 images\n",
      "\tF5_2_3_2.ts-frames folder has 365 images\n",
      "\tF7_1_1_2.ts-frames folder has 363 images\n",
      "\tF2_2_3_2.ts-frames folder has 361 images\n",
      "\tF5_1_1_1.ts-frames folder has 362 images\n",
      "\tF2_2_1_1.ts-frames folder has 356 images\n",
      "\tF1_2_2_2.ts-frames folder has 356 images\n",
      "\tF1_1_5_1.ts-frames folder has 360 images\n",
      "\tF4_1_2_1.ts-frames folder has 357 images\n",
      "\tF1_2_3_1.ts-frames_masks folder has 360 images\n",
      "\tF4_2_2_2.ts-frames folder has 362 images\n",
      "\tF1_2_5_2.ts-frames folder has 356 images\n",
      "\tF1_1_2_1.ts-frames folder has 355 images\n",
      "\tF5_2_3_1.ts-frames folder has 363 images\n",
      "\tF2_1_1_2.ts-frames folder has 348 images\n",
      "\tF5_2_1_2.ts-frames folder has 364 images\n",
      "\tF7_2_1_1.ts-frames folder has 363 images\n",
      "\tF5_1_3_1.ts-frames folder has 363 images\n",
      "\tF2_2_1_2.ts-frames folder has 355 images\n",
      "\tF5_1_1_2.ts-frames folder has 364 images\n",
      "\tF7_1_1_1.ts-frames folder has 364 images\n",
      "\tF2_2_3_1.ts-frames folder has 355 images\n",
      "\tF4_1_2_2.ts-frames folder has 357 images\n",
      "\tF1_1_5_2.ts-frames folder has 353 images\n",
      "\tF1_2_2_1.ts-frames folder has 350 images\n",
      "\tF1_1_4_1.ts-frames folder has 362 images\n",
      "\tF4_1_3_1.ts-frames folder has 364 images\n",
      "\tF4_1_1_2.ts-frames folder has 363 images\n",
      "\tF1_2_3_2.ts-frames folder has 355 images\n",
      "\tF7_1_2_1.ts-frames folder has 363 images\n",
      "\tF5_1_2_2.ts-frames folder has 364 images\n",
      "\tF2_2_2_2.ts-frames folder has 360 images\n",
      "\tF5_2_2_2.ts-frames folder has 363 images\n",
      "\tF2_1_2_2.ts-frames folder has 359 images\n",
      "\tF1_2_4_1.ts-frames folder has 352 images\n",
      "\tF4_2_3_1.ts-frames folder has 363 images\n",
      "\tF1_1_1_1.ts-frames folder has 362 images\n",
      "\tF1_1_3_2.ts-frames folder has 360 images\n"
     ]
    }
   ],
   "source": [
    "summarize_folders(DATA_DIR, folders_list)"
   ]
  },
  {
   "cell_type": "markdown",
   "id": "1d59d65d1c78526d",
   "metadata": {
    "collapsed": false
   },
   "source": [
    "# SAM+YOLO Labeling"
   ]
  },
  {
   "cell_type": "markdown",
   "id": "f94afe22ff89b906",
   "metadata": {
    "collapsed": false
   },
   "source": [
    "Yolo detector:"
   ]
  },
  {
   "cell_type": "code",
   "execution_count": 7,
   "id": "63db24b519d2ae6b",
   "metadata": {
    "ExecuteTime": {
     "end_time": "2024-01-29T17:21:14.937584600Z",
     "start_time": "2024-01-29T17:21:14.794966300Z"
    },
    "collapsed": false
   },
   "outputs": [],
   "source": [
    "custom_yolo_checkpoint_path = r\"../models/yolov8s_on_medium_large_bubbles/best-80.pt\"\n",
    "detector = load_yolov8_detector(custom_yolo_checkpoint_path)"
   ]
  },
  {
   "cell_type": "markdown",
   "id": "aa34121c96a97dbc",
   "metadata": {
    "collapsed": false
   },
   "source": [
    "SAM:"
   ]
  },
  {
   "cell_type": "code",
   "execution_count": 35,
   "id": "ac44a246ef8971ac",
   "metadata": {
    "ExecuteTime": {
     "end_time": "2024-01-29T17:21:19.633096500Z",
     "start_time": "2024-01-29T17:21:14.934593700Z"
    },
    "collapsed": false
   },
   "outputs": [],
   "source": [
    "sam_checkpoint = r\"../models/sam_vit_h_4b8939.pth\"\n",
    "model_type = \"vit_h\"\n",
    "device=\"mps\"\n",
    "\n",
    "predictor = load_sam_predictor(checkpoint_path=sam_checkpoint, model_type=model_type, device=device)"
   ]
  },
  {
   "cell_type": "markdown",
   "id": "486276d9a8073c3b",
   "metadata": {
    "collapsed": false
   },
   "source": [
    "## Labeling"
   ]
  },
  {
   "cell_type": "code",
   "execution_count": 45,
   "id": "8fe2b886619c6c82",
   "metadata": {
    "ExecuteTime": {
     "end_time": "2024-01-29T17:21:19.655544800Z",
     "start_time": "2024-01-29T17:21:19.634094300Z"
    },
    "collapsed": false
   },
   "outputs": [],
   "source": [
    "def segment_images_from_folder(folder, narrowing=0.20):\n",
    "    masks_folder_name = folder + \"_masks\"\n",
    "    dirlist = os.listdir(DATA_DIR)\n",
    "    if masks_folder_name not in dirlist:\n",
    "        os.mkdir(os.path.join(DATA_DIR, masks_folder_name))\n",
    "    \n",
    "    images_list = os.listdir(os.path.join(DATA_DIR, folder))\n",
    "    masks_list = os.listdir(os.path.join(DATA_DIR, masks_folder_name))\n",
    "    for image_name in tqdm(images_list):\n",
    "        if image_name in masks_list:\n",
    "            continue\n",
    "        image = cv2.imread(os.path.join(DATA_DIR, folder,image_name))\n",
    "        boxes = yolov8_detect(image=image, detector=detector, return_objects=False)\n",
    "        masks_list = sam_segmentation(image=image, predictor=predictor, boxes=boxes, prompt_point=True)\n",
    "        watershed = perform_watershed(cv2.cvtColor(image, cv2.COLOR_BGR2GRAY))\n",
    "\n",
    "        masks_united = []\n",
    "        for masks in masks_list:\n",
    "            masks_united.append(unite_masks(masks))\n",
    "        masks_narrowed = masks_narrowing(masks_united, narrowing=narrowing)\n",
    "        masks_sam = unite_masks(masks_narrowed)\n",
    "        mask = unite_masks([masks_sam, watershed])\n",
    "        kernel = cv2.getStructuringElement(cv2.MORPH_ELLIPSE, (3,3))\n",
    "        mask_final = cv2.erode(mask, kernel, iterations=2)\n",
    "        cv2.imwrite(filename=os.path.join(DATA_DIR, masks_folder_name, image_name), img=mask_final)\n",
    "\n",
    "    print(f\"Images from the folder {folder} were segmented!\")"
   ]
  },
  {
   "cell_type": "code",
   "execution_count": 46,
   "id": "e0f3ff791a275f70",
   "metadata": {
    "ExecuteTime": {
     "end_time": "2024-01-29T17:21:19.678482600Z",
     "start_time": "2024-01-29T17:21:19.649053900Z"
    },
    "collapsed": false
   },
   "outputs": [
    {
     "data": {
      "text/plain": [
       "'F1_1_4_2.ts-frames'"
      ]
     },
     "execution_count": 46,
     "metadata": {},
     "output_type": "execute_result"
    }
   ],
   "source": [
    "folder = folders_list[3]\n",
    "narrowing = 0.15\n",
    "folder"
   ]
  },
  {
   "cell_type": "code",
   "execution_count": 48,
   "id": "11258b21110d5ddc",
   "metadata": {
    "ExecuteTime": {
     "start_time": "2024-01-29T17:21:26.800377700Z"
    },
    "collapsed": false,
    "is_executing": true
   },
   "outputs": [
    {
     "name": "stderr",
     "output_type": "stream",
     "text": [
      "  0%|          | 0/363 [00:00<?, ?it/s]"
     ]
    },
    {
     "name": "stdout",
     "output_type": "stream",
     "text": [
      "\n",
      "0: 608x800 18 bubbles, 252.5ms\n",
      "Speed: 2.5ms preprocess, 252.5ms inference, 0.6ms postprocess per image at shape (1, 3, 608, 800)\n"
     ]
    },
    {
     "name": "stderr",
     "output_type": "stream",
     "text": [
      "  0%|          | 1/363 [00:38<3:53:36, 38.72s/it]"
     ]
    },
    {
     "name": "stdout",
     "output_type": "stream",
     "text": [
      "\n",
      "0: 608x800 35 bubbles, 327.4ms\n",
      "Speed: 2.2ms preprocess, 327.4ms inference, 3.5ms postprocess per image at shape (1, 3, 608, 800)\n"
     ]
    },
    {
     "name": "stderr",
     "output_type": "stream",
     "text": [
      "  1%|          | 2/363 [01:20<4:05:00, 40.72s/it]"
     ]
    },
    {
     "name": "stdout",
     "output_type": "stream",
     "text": [
      "\n",
      "0: 608x800 43 bubbles, 348.0ms\n",
      "Speed: 10.9ms preprocess, 348.0ms inference, 2.0ms postprocess per image at shape (1, 3, 608, 800)\n"
     ]
    },
    {
     "name": "stderr",
     "output_type": "stream",
     "text": [
      "  1%|          | 2/363 [01:27<4:22:43, 43.67s/it]\n"
     ]
    },
    {
     "ename": "KeyboardInterrupt",
     "evalue": "",
     "output_type": "error",
     "traceback": [
      "\u001b[0;31m---------------------------------------------------------------------------\u001b[0m",
      "\u001b[0;31mKeyboardInterrupt\u001b[0m                         Traceback (most recent call last)",
      "Cell \u001b[0;32mIn[48], line 1\u001b[0m\n\u001b[0;32m----> 1\u001b[0m \u001b[43msegment_images_from_folder\u001b[49m\u001b[43m(\u001b[49m\u001b[43mfolder\u001b[49m\u001b[43m,\u001b[49m\u001b[43m \u001b[49m\u001b[43mnarrowing\u001b[49m\u001b[38;5;241;43m=\u001b[39;49m\u001b[43mnarrowing\u001b[49m\u001b[43m)\u001b[49m\n",
      "Cell \u001b[0;32mIn[45], line 14\u001b[0m, in \u001b[0;36msegment_images_from_folder\u001b[0;34m(folder, narrowing)\u001b[0m\n\u001b[1;32m     12\u001b[0m image \u001b[38;5;241m=\u001b[39m cv2\u001b[38;5;241m.\u001b[39mimread(os\u001b[38;5;241m.\u001b[39mpath\u001b[38;5;241m.\u001b[39mjoin(DATA_DIR, folder,image_name))\n\u001b[1;32m     13\u001b[0m boxes \u001b[38;5;241m=\u001b[39m yolov8_detect(image\u001b[38;5;241m=\u001b[39mimage, detector\u001b[38;5;241m=\u001b[39mdetector, return_objects\u001b[38;5;241m=\u001b[39m\u001b[38;5;28;01mFalse\u001b[39;00m)\n\u001b[0;32m---> 14\u001b[0m masks_list \u001b[38;5;241m=\u001b[39m \u001b[43msam_segmentation\u001b[49m\u001b[43m(\u001b[49m\u001b[43mimage\u001b[49m\u001b[38;5;241;43m=\u001b[39;49m\u001b[43mimage\u001b[49m\u001b[43m,\u001b[49m\u001b[43m \u001b[49m\u001b[43mpredictor\u001b[49m\u001b[38;5;241;43m=\u001b[39;49m\u001b[43mpredictor\u001b[49m\u001b[43m,\u001b[49m\u001b[43m \u001b[49m\u001b[43mboxes\u001b[49m\u001b[38;5;241;43m=\u001b[39;49m\u001b[43mboxes\u001b[49m\u001b[43m,\u001b[49m\u001b[43m \u001b[49m\u001b[43mprompt_point\u001b[49m\u001b[38;5;241;43m=\u001b[39;49m\u001b[38;5;28;43;01mTrue\u001b[39;49;00m\u001b[43m)\u001b[49m\n\u001b[1;32m     15\u001b[0m watershed \u001b[38;5;241m=\u001b[39m perform_watershed(cv2\u001b[38;5;241m.\u001b[39mcvtColor(image, cv2\u001b[38;5;241m.\u001b[39mCOLOR_BGR2GRAY))\n\u001b[1;32m     17\u001b[0m masks_united \u001b[38;5;241m=\u001b[39m []\n",
      "File \u001b[0;32m~/Documents/GitHub/CTCI/notebooks/../src/sam_segmentation/sam.py:58\u001b[0m, in \u001b[0;36msam_segmentation\u001b[0;34m(image, predictor, boxes, prompt_point)\u001b[0m\n\u001b[1;32m     46\u001b[0m \u001b[38;5;28;01mdef\u001b[39;00m \u001b[38;5;21msam_segmentation\u001b[39m(image, predictor, boxes, prompt_point\u001b[38;5;241m=\u001b[39m\u001b[38;5;28;01mTrue\u001b[39;00m):\n\u001b[1;32m     47\u001b[0m \u001b[38;5;250m    \u001b[39m\u001b[38;5;124;03m\"\"\"\u001b[39;00m\n\u001b[1;32m     48\u001b[0m \u001b[38;5;124;03m    Performs segmentation on the given image using a Segment Anything Model (SAM) predictor\u001b[39;00m\n\u001b[1;32m     49\u001b[0m \u001b[38;5;124;03m    and bounding boxes.\u001b[39;00m\n\u001b[0;32m   (...)\u001b[0m\n\u001b[1;32m     56\u001b[0m \u001b[38;5;124;03m            If False, performs segmentation without prompting a point. Default is True.\u001b[39;00m\n\u001b[1;32m     57\u001b[0m \u001b[38;5;124;03m    \"\"\"\u001b[39;00m\n\u001b[0;32m---> 58\u001b[0m     \u001b[43mpredictor\u001b[49m\u001b[38;5;241;43m.\u001b[39;49m\u001b[43mset_image\u001b[49m\u001b[43m(\u001b[49m\u001b[43mimage\u001b[49m\u001b[43m)\u001b[49m\n\u001b[1;32m     59\u001b[0m     masks_list \u001b[38;5;241m=\u001b[39m []\n\u001b[1;32m     60\u001b[0m     \u001b[38;5;28;01mfor\u001b[39;00m box \u001b[38;5;129;01min\u001b[39;00m boxes:\n",
      "File \u001b[0;32m/opt/homebrew/Caskroom/miniconda/base/envs/ctci/lib/python3.10/site-packages/segment_anything/predictor.py:60\u001b[0m, in \u001b[0;36mSamPredictor.set_image\u001b[0;34m(self, image, image_format)\u001b[0m\n\u001b[1;32m     57\u001b[0m input_image_torch \u001b[38;5;241m=\u001b[39m torch\u001b[38;5;241m.\u001b[39mas_tensor(input_image, device\u001b[38;5;241m=\u001b[39m\u001b[38;5;28mself\u001b[39m\u001b[38;5;241m.\u001b[39mdevice)\n\u001b[1;32m     58\u001b[0m input_image_torch \u001b[38;5;241m=\u001b[39m input_image_torch\u001b[38;5;241m.\u001b[39mpermute(\u001b[38;5;241m2\u001b[39m, \u001b[38;5;241m0\u001b[39m, \u001b[38;5;241m1\u001b[39m)\u001b[38;5;241m.\u001b[39mcontiguous()[\u001b[38;5;28;01mNone\u001b[39;00m, :, :, :]\n\u001b[0;32m---> 60\u001b[0m \u001b[38;5;28;43mself\u001b[39;49m\u001b[38;5;241;43m.\u001b[39;49m\u001b[43mset_torch_image\u001b[49m\u001b[43m(\u001b[49m\u001b[43minput_image_torch\u001b[49m\u001b[43m,\u001b[49m\u001b[43m \u001b[49m\u001b[43mimage\u001b[49m\u001b[38;5;241;43m.\u001b[39;49m\u001b[43mshape\u001b[49m\u001b[43m[\u001b[49m\u001b[43m:\u001b[49m\u001b[38;5;241;43m2\u001b[39;49m\u001b[43m]\u001b[49m\u001b[43m)\u001b[49m\n",
      "File \u001b[0;32m/opt/homebrew/Caskroom/miniconda/base/envs/ctci/lib/python3.10/site-packages/torch/utils/_contextlib.py:115\u001b[0m, in \u001b[0;36mcontext_decorator.<locals>.decorate_context\u001b[0;34m(*args, **kwargs)\u001b[0m\n\u001b[1;32m    112\u001b[0m \u001b[38;5;129m@functools\u001b[39m\u001b[38;5;241m.\u001b[39mwraps(func)\n\u001b[1;32m    113\u001b[0m \u001b[38;5;28;01mdef\u001b[39;00m \u001b[38;5;21mdecorate_context\u001b[39m(\u001b[38;5;241m*\u001b[39margs, \u001b[38;5;241m*\u001b[39m\u001b[38;5;241m*\u001b[39mkwargs):\n\u001b[1;32m    114\u001b[0m     \u001b[38;5;28;01mwith\u001b[39;00m ctx_factory():\n\u001b[0;32m--> 115\u001b[0m         \u001b[38;5;28;01mreturn\u001b[39;00m \u001b[43mfunc\u001b[49m\u001b[43m(\u001b[49m\u001b[38;5;241;43m*\u001b[39;49m\u001b[43margs\u001b[49m\u001b[43m,\u001b[49m\u001b[43m \u001b[49m\u001b[38;5;241;43m*\u001b[39;49m\u001b[38;5;241;43m*\u001b[39;49m\u001b[43mkwargs\u001b[49m\u001b[43m)\u001b[49m\n",
      "File \u001b[0;32m/opt/homebrew/Caskroom/miniconda/base/envs/ctci/lib/python3.10/site-packages/segment_anything/predictor.py:89\u001b[0m, in \u001b[0;36mSamPredictor.set_torch_image\u001b[0;34m(self, transformed_image, original_image_size)\u001b[0m\n\u001b[1;32m     87\u001b[0m \u001b[38;5;28mself\u001b[39m\u001b[38;5;241m.\u001b[39minput_size \u001b[38;5;241m=\u001b[39m \u001b[38;5;28mtuple\u001b[39m(transformed_image\u001b[38;5;241m.\u001b[39mshape[\u001b[38;5;241m-\u001b[39m\u001b[38;5;241m2\u001b[39m:])\n\u001b[1;32m     88\u001b[0m input_image \u001b[38;5;241m=\u001b[39m \u001b[38;5;28mself\u001b[39m\u001b[38;5;241m.\u001b[39mmodel\u001b[38;5;241m.\u001b[39mpreprocess(transformed_image)\n\u001b[0;32m---> 89\u001b[0m \u001b[38;5;28mself\u001b[39m\u001b[38;5;241m.\u001b[39mfeatures \u001b[38;5;241m=\u001b[39m \u001b[38;5;28;43mself\u001b[39;49m\u001b[38;5;241;43m.\u001b[39;49m\u001b[43mmodel\u001b[49m\u001b[38;5;241;43m.\u001b[39;49m\u001b[43mimage_encoder\u001b[49m\u001b[43m(\u001b[49m\u001b[43minput_image\u001b[49m\u001b[43m)\u001b[49m\n\u001b[1;32m     90\u001b[0m \u001b[38;5;28mself\u001b[39m\u001b[38;5;241m.\u001b[39mis_image_set \u001b[38;5;241m=\u001b[39m \u001b[38;5;28;01mTrue\u001b[39;00m\n",
      "File \u001b[0;32m/opt/homebrew/Caskroom/miniconda/base/envs/ctci/lib/python3.10/site-packages/torch/nn/modules/module.py:1511\u001b[0m, in \u001b[0;36mModule._wrapped_call_impl\u001b[0;34m(self, *args, **kwargs)\u001b[0m\n\u001b[1;32m   1509\u001b[0m     \u001b[38;5;28;01mreturn\u001b[39;00m \u001b[38;5;28mself\u001b[39m\u001b[38;5;241m.\u001b[39m_compiled_call_impl(\u001b[38;5;241m*\u001b[39margs, \u001b[38;5;241m*\u001b[39m\u001b[38;5;241m*\u001b[39mkwargs)  \u001b[38;5;66;03m# type: ignore[misc]\u001b[39;00m\n\u001b[1;32m   1510\u001b[0m \u001b[38;5;28;01melse\u001b[39;00m:\n\u001b[0;32m-> 1511\u001b[0m     \u001b[38;5;28;01mreturn\u001b[39;00m \u001b[38;5;28;43mself\u001b[39;49m\u001b[38;5;241;43m.\u001b[39;49m\u001b[43m_call_impl\u001b[49m\u001b[43m(\u001b[49m\u001b[38;5;241;43m*\u001b[39;49m\u001b[43margs\u001b[49m\u001b[43m,\u001b[49m\u001b[43m \u001b[49m\u001b[38;5;241;43m*\u001b[39;49m\u001b[38;5;241;43m*\u001b[39;49m\u001b[43mkwargs\u001b[49m\u001b[43m)\u001b[49m\n",
      "File \u001b[0;32m/opt/homebrew/Caskroom/miniconda/base/envs/ctci/lib/python3.10/site-packages/torch/nn/modules/module.py:1520\u001b[0m, in \u001b[0;36mModule._call_impl\u001b[0;34m(self, *args, **kwargs)\u001b[0m\n\u001b[1;32m   1515\u001b[0m \u001b[38;5;66;03m# If we don't have any hooks, we want to skip the rest of the logic in\u001b[39;00m\n\u001b[1;32m   1516\u001b[0m \u001b[38;5;66;03m# this function, and just call forward.\u001b[39;00m\n\u001b[1;32m   1517\u001b[0m \u001b[38;5;28;01mif\u001b[39;00m \u001b[38;5;129;01mnot\u001b[39;00m (\u001b[38;5;28mself\u001b[39m\u001b[38;5;241m.\u001b[39m_backward_hooks \u001b[38;5;129;01mor\u001b[39;00m \u001b[38;5;28mself\u001b[39m\u001b[38;5;241m.\u001b[39m_backward_pre_hooks \u001b[38;5;129;01mor\u001b[39;00m \u001b[38;5;28mself\u001b[39m\u001b[38;5;241m.\u001b[39m_forward_hooks \u001b[38;5;129;01mor\u001b[39;00m \u001b[38;5;28mself\u001b[39m\u001b[38;5;241m.\u001b[39m_forward_pre_hooks\n\u001b[1;32m   1518\u001b[0m         \u001b[38;5;129;01mor\u001b[39;00m _global_backward_pre_hooks \u001b[38;5;129;01mor\u001b[39;00m _global_backward_hooks\n\u001b[1;32m   1519\u001b[0m         \u001b[38;5;129;01mor\u001b[39;00m _global_forward_hooks \u001b[38;5;129;01mor\u001b[39;00m _global_forward_pre_hooks):\n\u001b[0;32m-> 1520\u001b[0m     \u001b[38;5;28;01mreturn\u001b[39;00m \u001b[43mforward_call\u001b[49m\u001b[43m(\u001b[49m\u001b[38;5;241;43m*\u001b[39;49m\u001b[43margs\u001b[49m\u001b[43m,\u001b[49m\u001b[43m \u001b[49m\u001b[38;5;241;43m*\u001b[39;49m\u001b[38;5;241;43m*\u001b[39;49m\u001b[43mkwargs\u001b[49m\u001b[43m)\u001b[49m\n\u001b[1;32m   1522\u001b[0m \u001b[38;5;28;01mtry\u001b[39;00m:\n\u001b[1;32m   1523\u001b[0m     result \u001b[38;5;241m=\u001b[39m \u001b[38;5;28;01mNone\u001b[39;00m\n",
      "File \u001b[0;32m/opt/homebrew/Caskroom/miniconda/base/envs/ctci/lib/python3.10/site-packages/segment_anything/modeling/image_encoder.py:112\u001b[0m, in \u001b[0;36mImageEncoderViT.forward\u001b[0;34m(self, x)\u001b[0m\n\u001b[1;32m    109\u001b[0m     x \u001b[38;5;241m=\u001b[39m x \u001b[38;5;241m+\u001b[39m \u001b[38;5;28mself\u001b[39m\u001b[38;5;241m.\u001b[39mpos_embed\n\u001b[1;32m    111\u001b[0m \u001b[38;5;28;01mfor\u001b[39;00m blk \u001b[38;5;129;01min\u001b[39;00m \u001b[38;5;28mself\u001b[39m\u001b[38;5;241m.\u001b[39mblocks:\n\u001b[0;32m--> 112\u001b[0m     x \u001b[38;5;241m=\u001b[39m \u001b[43mblk\u001b[49m\u001b[43m(\u001b[49m\u001b[43mx\u001b[49m\u001b[43m)\u001b[49m\n\u001b[1;32m    114\u001b[0m x \u001b[38;5;241m=\u001b[39m \u001b[38;5;28mself\u001b[39m\u001b[38;5;241m.\u001b[39mneck(x\u001b[38;5;241m.\u001b[39mpermute(\u001b[38;5;241m0\u001b[39m, \u001b[38;5;241m3\u001b[39m, \u001b[38;5;241m1\u001b[39m, \u001b[38;5;241m2\u001b[39m))\n\u001b[1;32m    116\u001b[0m \u001b[38;5;28;01mreturn\u001b[39;00m x\n",
      "File \u001b[0;32m/opt/homebrew/Caskroom/miniconda/base/envs/ctci/lib/python3.10/site-packages/torch/nn/modules/module.py:1511\u001b[0m, in \u001b[0;36mModule._wrapped_call_impl\u001b[0;34m(self, *args, **kwargs)\u001b[0m\n\u001b[1;32m   1509\u001b[0m     \u001b[38;5;28;01mreturn\u001b[39;00m \u001b[38;5;28mself\u001b[39m\u001b[38;5;241m.\u001b[39m_compiled_call_impl(\u001b[38;5;241m*\u001b[39margs, \u001b[38;5;241m*\u001b[39m\u001b[38;5;241m*\u001b[39mkwargs)  \u001b[38;5;66;03m# type: ignore[misc]\u001b[39;00m\n\u001b[1;32m   1510\u001b[0m \u001b[38;5;28;01melse\u001b[39;00m:\n\u001b[0;32m-> 1511\u001b[0m     \u001b[38;5;28;01mreturn\u001b[39;00m \u001b[38;5;28;43mself\u001b[39;49m\u001b[38;5;241;43m.\u001b[39;49m\u001b[43m_call_impl\u001b[49m\u001b[43m(\u001b[49m\u001b[38;5;241;43m*\u001b[39;49m\u001b[43margs\u001b[49m\u001b[43m,\u001b[49m\u001b[43m \u001b[49m\u001b[38;5;241;43m*\u001b[39;49m\u001b[38;5;241;43m*\u001b[39;49m\u001b[43mkwargs\u001b[49m\u001b[43m)\u001b[49m\n",
      "File \u001b[0;32m/opt/homebrew/Caskroom/miniconda/base/envs/ctci/lib/python3.10/site-packages/torch/nn/modules/module.py:1520\u001b[0m, in \u001b[0;36mModule._call_impl\u001b[0;34m(self, *args, **kwargs)\u001b[0m\n\u001b[1;32m   1515\u001b[0m \u001b[38;5;66;03m# If we don't have any hooks, we want to skip the rest of the logic in\u001b[39;00m\n\u001b[1;32m   1516\u001b[0m \u001b[38;5;66;03m# this function, and just call forward.\u001b[39;00m\n\u001b[1;32m   1517\u001b[0m \u001b[38;5;28;01mif\u001b[39;00m \u001b[38;5;129;01mnot\u001b[39;00m (\u001b[38;5;28mself\u001b[39m\u001b[38;5;241m.\u001b[39m_backward_hooks \u001b[38;5;129;01mor\u001b[39;00m \u001b[38;5;28mself\u001b[39m\u001b[38;5;241m.\u001b[39m_backward_pre_hooks \u001b[38;5;129;01mor\u001b[39;00m \u001b[38;5;28mself\u001b[39m\u001b[38;5;241m.\u001b[39m_forward_hooks \u001b[38;5;129;01mor\u001b[39;00m \u001b[38;5;28mself\u001b[39m\u001b[38;5;241m.\u001b[39m_forward_pre_hooks\n\u001b[1;32m   1518\u001b[0m         \u001b[38;5;129;01mor\u001b[39;00m _global_backward_pre_hooks \u001b[38;5;129;01mor\u001b[39;00m _global_backward_hooks\n\u001b[1;32m   1519\u001b[0m         \u001b[38;5;129;01mor\u001b[39;00m _global_forward_hooks \u001b[38;5;129;01mor\u001b[39;00m _global_forward_pre_hooks):\n\u001b[0;32m-> 1520\u001b[0m     \u001b[38;5;28;01mreturn\u001b[39;00m \u001b[43mforward_call\u001b[49m\u001b[43m(\u001b[49m\u001b[38;5;241;43m*\u001b[39;49m\u001b[43margs\u001b[49m\u001b[43m,\u001b[49m\u001b[43m \u001b[49m\u001b[38;5;241;43m*\u001b[39;49m\u001b[38;5;241;43m*\u001b[39;49m\u001b[43mkwargs\u001b[49m\u001b[43m)\u001b[49m\n\u001b[1;32m   1522\u001b[0m \u001b[38;5;28;01mtry\u001b[39;00m:\n\u001b[1;32m   1523\u001b[0m     result \u001b[38;5;241m=\u001b[39m \u001b[38;5;28;01mNone\u001b[39;00m\n",
      "File \u001b[0;32m/opt/homebrew/Caskroom/miniconda/base/envs/ctci/lib/python3.10/site-packages/segment_anything/modeling/image_encoder.py:180\u001b[0m, in \u001b[0;36mBlock.forward\u001b[0;34m(self, x)\u001b[0m\n\u001b[1;32m    177\u001b[0m     x \u001b[38;5;241m=\u001b[39m window_unpartition(x, \u001b[38;5;28mself\u001b[39m\u001b[38;5;241m.\u001b[39mwindow_size, pad_hw, (H, W))\n\u001b[1;32m    179\u001b[0m x \u001b[38;5;241m=\u001b[39m shortcut \u001b[38;5;241m+\u001b[39m x\n\u001b[0;32m--> 180\u001b[0m x \u001b[38;5;241m=\u001b[39m x \u001b[38;5;241m+\u001b[39m \u001b[38;5;28;43mself\u001b[39;49m\u001b[38;5;241;43m.\u001b[39;49m\u001b[43mmlp\u001b[49m\u001b[43m(\u001b[49m\u001b[38;5;28;43mself\u001b[39;49m\u001b[38;5;241;43m.\u001b[39;49m\u001b[43mnorm2\u001b[49m\u001b[43m(\u001b[49m\u001b[43mx\u001b[49m\u001b[43m)\u001b[49m\u001b[43m)\u001b[49m\n\u001b[1;32m    182\u001b[0m \u001b[38;5;28;01mreturn\u001b[39;00m x\n",
      "File \u001b[0;32m/opt/homebrew/Caskroom/miniconda/base/envs/ctci/lib/python3.10/site-packages/torch/nn/modules/module.py:1511\u001b[0m, in \u001b[0;36mModule._wrapped_call_impl\u001b[0;34m(self, *args, **kwargs)\u001b[0m\n\u001b[1;32m   1509\u001b[0m     \u001b[38;5;28;01mreturn\u001b[39;00m \u001b[38;5;28mself\u001b[39m\u001b[38;5;241m.\u001b[39m_compiled_call_impl(\u001b[38;5;241m*\u001b[39margs, \u001b[38;5;241m*\u001b[39m\u001b[38;5;241m*\u001b[39mkwargs)  \u001b[38;5;66;03m# type: ignore[misc]\u001b[39;00m\n\u001b[1;32m   1510\u001b[0m \u001b[38;5;28;01melse\u001b[39;00m:\n\u001b[0;32m-> 1511\u001b[0m     \u001b[38;5;28;01mreturn\u001b[39;00m \u001b[38;5;28;43mself\u001b[39;49m\u001b[38;5;241;43m.\u001b[39;49m\u001b[43m_call_impl\u001b[49m\u001b[43m(\u001b[49m\u001b[38;5;241;43m*\u001b[39;49m\u001b[43margs\u001b[49m\u001b[43m,\u001b[49m\u001b[43m \u001b[49m\u001b[38;5;241;43m*\u001b[39;49m\u001b[38;5;241;43m*\u001b[39;49m\u001b[43mkwargs\u001b[49m\u001b[43m)\u001b[49m\n",
      "File \u001b[0;32m/opt/homebrew/Caskroom/miniconda/base/envs/ctci/lib/python3.10/site-packages/torch/nn/modules/module.py:1520\u001b[0m, in \u001b[0;36mModule._call_impl\u001b[0;34m(self, *args, **kwargs)\u001b[0m\n\u001b[1;32m   1515\u001b[0m \u001b[38;5;66;03m# If we don't have any hooks, we want to skip the rest of the logic in\u001b[39;00m\n\u001b[1;32m   1516\u001b[0m \u001b[38;5;66;03m# this function, and just call forward.\u001b[39;00m\n\u001b[1;32m   1517\u001b[0m \u001b[38;5;28;01mif\u001b[39;00m \u001b[38;5;129;01mnot\u001b[39;00m (\u001b[38;5;28mself\u001b[39m\u001b[38;5;241m.\u001b[39m_backward_hooks \u001b[38;5;129;01mor\u001b[39;00m \u001b[38;5;28mself\u001b[39m\u001b[38;5;241m.\u001b[39m_backward_pre_hooks \u001b[38;5;129;01mor\u001b[39;00m \u001b[38;5;28mself\u001b[39m\u001b[38;5;241m.\u001b[39m_forward_hooks \u001b[38;5;129;01mor\u001b[39;00m \u001b[38;5;28mself\u001b[39m\u001b[38;5;241m.\u001b[39m_forward_pre_hooks\n\u001b[1;32m   1518\u001b[0m         \u001b[38;5;129;01mor\u001b[39;00m _global_backward_pre_hooks \u001b[38;5;129;01mor\u001b[39;00m _global_backward_hooks\n\u001b[1;32m   1519\u001b[0m         \u001b[38;5;129;01mor\u001b[39;00m _global_forward_hooks \u001b[38;5;129;01mor\u001b[39;00m _global_forward_pre_hooks):\n\u001b[0;32m-> 1520\u001b[0m     \u001b[38;5;28;01mreturn\u001b[39;00m \u001b[43mforward_call\u001b[49m\u001b[43m(\u001b[49m\u001b[38;5;241;43m*\u001b[39;49m\u001b[43margs\u001b[49m\u001b[43m,\u001b[49m\u001b[43m \u001b[49m\u001b[38;5;241;43m*\u001b[39;49m\u001b[38;5;241;43m*\u001b[39;49m\u001b[43mkwargs\u001b[49m\u001b[43m)\u001b[49m\n\u001b[1;32m   1522\u001b[0m \u001b[38;5;28;01mtry\u001b[39;00m:\n\u001b[1;32m   1523\u001b[0m     result \u001b[38;5;241m=\u001b[39m \u001b[38;5;28;01mNone\u001b[39;00m\n",
      "File \u001b[0;32m/opt/homebrew/Caskroom/miniconda/base/envs/ctci/lib/python3.10/site-packages/segment_anything/modeling/common.py:26\u001b[0m, in \u001b[0;36mMLPBlock.forward\u001b[0;34m(self, x)\u001b[0m\n\u001b[1;32m     25\u001b[0m \u001b[38;5;28;01mdef\u001b[39;00m \u001b[38;5;21mforward\u001b[39m(\u001b[38;5;28mself\u001b[39m, x: torch\u001b[38;5;241m.\u001b[39mTensor) \u001b[38;5;241m-\u001b[39m\u001b[38;5;241m>\u001b[39m torch\u001b[38;5;241m.\u001b[39mTensor:\n\u001b[0;32m---> 26\u001b[0m     \u001b[38;5;28;01mreturn\u001b[39;00m \u001b[38;5;28mself\u001b[39m\u001b[38;5;241m.\u001b[39mlin2(\u001b[38;5;28mself\u001b[39m\u001b[38;5;241m.\u001b[39mact(\u001b[38;5;28;43mself\u001b[39;49m\u001b[38;5;241;43m.\u001b[39;49m\u001b[43mlin1\u001b[49m\u001b[43m(\u001b[49m\u001b[43mx\u001b[49m\u001b[43m)\u001b[49m))\n",
      "File \u001b[0;32m/opt/homebrew/Caskroom/miniconda/base/envs/ctci/lib/python3.10/site-packages/torch/nn/modules/module.py:1511\u001b[0m, in \u001b[0;36mModule._wrapped_call_impl\u001b[0;34m(self, *args, **kwargs)\u001b[0m\n\u001b[1;32m   1509\u001b[0m     \u001b[38;5;28;01mreturn\u001b[39;00m \u001b[38;5;28mself\u001b[39m\u001b[38;5;241m.\u001b[39m_compiled_call_impl(\u001b[38;5;241m*\u001b[39margs, \u001b[38;5;241m*\u001b[39m\u001b[38;5;241m*\u001b[39mkwargs)  \u001b[38;5;66;03m# type: ignore[misc]\u001b[39;00m\n\u001b[1;32m   1510\u001b[0m \u001b[38;5;28;01melse\u001b[39;00m:\n\u001b[0;32m-> 1511\u001b[0m     \u001b[38;5;28;01mreturn\u001b[39;00m \u001b[38;5;28;43mself\u001b[39;49m\u001b[38;5;241;43m.\u001b[39;49m\u001b[43m_call_impl\u001b[49m\u001b[43m(\u001b[49m\u001b[38;5;241;43m*\u001b[39;49m\u001b[43margs\u001b[49m\u001b[43m,\u001b[49m\u001b[43m \u001b[49m\u001b[38;5;241;43m*\u001b[39;49m\u001b[38;5;241;43m*\u001b[39;49m\u001b[43mkwargs\u001b[49m\u001b[43m)\u001b[49m\n",
      "File \u001b[0;32m/opt/homebrew/Caskroom/miniconda/base/envs/ctci/lib/python3.10/site-packages/torch/nn/modules/module.py:1520\u001b[0m, in \u001b[0;36mModule._call_impl\u001b[0;34m(self, *args, **kwargs)\u001b[0m\n\u001b[1;32m   1515\u001b[0m \u001b[38;5;66;03m# If we don't have any hooks, we want to skip the rest of the logic in\u001b[39;00m\n\u001b[1;32m   1516\u001b[0m \u001b[38;5;66;03m# this function, and just call forward.\u001b[39;00m\n\u001b[1;32m   1517\u001b[0m \u001b[38;5;28;01mif\u001b[39;00m \u001b[38;5;129;01mnot\u001b[39;00m (\u001b[38;5;28mself\u001b[39m\u001b[38;5;241m.\u001b[39m_backward_hooks \u001b[38;5;129;01mor\u001b[39;00m \u001b[38;5;28mself\u001b[39m\u001b[38;5;241m.\u001b[39m_backward_pre_hooks \u001b[38;5;129;01mor\u001b[39;00m \u001b[38;5;28mself\u001b[39m\u001b[38;5;241m.\u001b[39m_forward_hooks \u001b[38;5;129;01mor\u001b[39;00m \u001b[38;5;28mself\u001b[39m\u001b[38;5;241m.\u001b[39m_forward_pre_hooks\n\u001b[1;32m   1518\u001b[0m         \u001b[38;5;129;01mor\u001b[39;00m _global_backward_pre_hooks \u001b[38;5;129;01mor\u001b[39;00m _global_backward_hooks\n\u001b[1;32m   1519\u001b[0m         \u001b[38;5;129;01mor\u001b[39;00m _global_forward_hooks \u001b[38;5;129;01mor\u001b[39;00m _global_forward_pre_hooks):\n\u001b[0;32m-> 1520\u001b[0m     \u001b[38;5;28;01mreturn\u001b[39;00m \u001b[43mforward_call\u001b[49m\u001b[43m(\u001b[49m\u001b[38;5;241;43m*\u001b[39;49m\u001b[43margs\u001b[49m\u001b[43m,\u001b[49m\u001b[43m \u001b[49m\u001b[38;5;241;43m*\u001b[39;49m\u001b[38;5;241;43m*\u001b[39;49m\u001b[43mkwargs\u001b[49m\u001b[43m)\u001b[49m\n\u001b[1;32m   1522\u001b[0m \u001b[38;5;28;01mtry\u001b[39;00m:\n\u001b[1;32m   1523\u001b[0m     result \u001b[38;5;241m=\u001b[39m \u001b[38;5;28;01mNone\u001b[39;00m\n",
      "File \u001b[0;32m/opt/homebrew/Caskroom/miniconda/base/envs/ctci/lib/python3.10/site-packages/torch/nn/modules/linear.py:116\u001b[0m, in \u001b[0;36mLinear.forward\u001b[0;34m(self, input)\u001b[0m\n\u001b[1;32m    115\u001b[0m \u001b[38;5;28;01mdef\u001b[39;00m \u001b[38;5;21mforward\u001b[39m(\u001b[38;5;28mself\u001b[39m, \u001b[38;5;28minput\u001b[39m: Tensor) \u001b[38;5;241m-\u001b[39m\u001b[38;5;241m>\u001b[39m Tensor:\n\u001b[0;32m--> 116\u001b[0m     \u001b[38;5;28;01mreturn\u001b[39;00m \u001b[43mF\u001b[49m\u001b[38;5;241;43m.\u001b[39;49m\u001b[43mlinear\u001b[49m\u001b[43m(\u001b[49m\u001b[38;5;28;43minput\u001b[39;49m\u001b[43m,\u001b[49m\u001b[43m \u001b[49m\u001b[38;5;28;43mself\u001b[39;49m\u001b[38;5;241;43m.\u001b[39;49m\u001b[43mweight\u001b[49m\u001b[43m,\u001b[49m\u001b[43m \u001b[49m\u001b[38;5;28;43mself\u001b[39;49m\u001b[38;5;241;43m.\u001b[39;49m\u001b[43mbias\u001b[49m\u001b[43m)\u001b[49m\n",
      "\u001b[0;31mKeyboardInterrupt\u001b[0m: "
     ]
    }
   ],
   "source": [
    "segment_images_from_folder(folder, narrowing=narrowing)"
   ]
  },
  {
   "cell_type": "code",
   "execution_count": null,
   "id": "944f6650",
   "metadata": {},
   "outputs": [],
   "source": []
  },
  {
   "cell_type": "code",
   "execution_count": null,
   "id": "7c4c2794",
   "metadata": {},
   "outputs": [],
   "source": []
  }
 ],
 "metadata": {
  "kernelspec": {
   "display_name": "Python 3",
   "language": "python",
   "name": "python3"
  },
  "language_info": {
   "codemirror_mode": {
    "name": "ipython",
    "version": 3
   },
   "file_extension": ".py",
   "mimetype": "text/x-python",
   "name": "python",
   "nbconvert_exporter": "python",
   "pygments_lexer": "ipython3",
   "version": "3.10.13"
  }
 },
 "nbformat": 4,
 "nbformat_minor": 5
}
