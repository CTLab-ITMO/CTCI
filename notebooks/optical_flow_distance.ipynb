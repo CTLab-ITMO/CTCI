{
 "cells": [
  {
   "cell_type": "code",
   "execution_count": 19,
   "id": "initial_id",
   "metadata": {
    "collapsed": true,
    "ExecuteTime": {
     "end_time": "2024-05-03T14:26:52.107733800Z",
     "start_time": "2024-05-03T14:26:52.030736300Z"
    }
   },
   "outputs": [],
   "source": [
    "import random\n",
    "import numpy as np\n",
    "\n",
    "import cv2\n",
    "import torch\n",
    "import torchvision.transforms as transforms\n",
    "\n",
    "from src.models.metrics import OpticalFlowSimilarity"
   ]
  },
  {
   "cell_type": "code",
   "execution_count": 20,
   "outputs": [],
   "source": [
    "seed = 239\n",
    "random.seed(seed)\n",
    "np.random.seed(seed)\n",
    "torch.manual_seed(seed)\n",
    "torch.cuda.manual_seed(seed)\n",
    "torch.backends.cudnn.deterministic = True"
   ],
   "metadata": {
    "collapsed": false,
    "ExecuteTime": {
     "end_time": "2024-05-03T14:26:52.315732900Z",
     "start_time": "2024-05-03T14:26:52.293737600Z"
    }
   },
   "id": "950cdb539d30d638"
  },
  {
   "cell_type": "code",
   "execution_count": 28,
   "outputs": [],
   "source": [
    "prev_image =  cv2.imread(r\"..\\data\\test_data\\metrics\\images\\3.png\")\n",
    "cur_image = cv2.imread(r\"..\\data\\test_data\\metrics\\images\\35.png\")\n",
    "prev_mask = cv2.imread(r\"..\\data\\test_data\\metrics\\masks\\3.png\")\n",
    "cur_mask = cv2.imread(r\"..\\data\\test_data\\metrics\\masks\\35.png\")"
   ],
   "metadata": {
    "collapsed": false,
    "ExecuteTime": {
     "end_time": "2024-05-03T14:27:51.570273Z",
     "start_time": "2024-05-03T14:27:51.463270200Z"
    }
   },
   "id": "d70dc47d89ab88f4"
  },
  {
   "cell_type": "code",
   "execution_count": 29,
   "outputs": [
    {
     "data": {
      "text/plain": "(600, 800, 3)"
     },
     "execution_count": 29,
     "metadata": {},
     "output_type": "execute_result"
    }
   ],
   "source": [
    "cur_mask.shape"
   ],
   "metadata": {
    "collapsed": false,
    "ExecuteTime": {
     "end_time": "2024-05-03T14:27:51.649269200Z",
     "start_time": "2024-05-03T14:27:51.573269700Z"
    }
   },
   "id": "a8d7c7868e0aee85"
  },
  {
   "cell_type": "code",
   "execution_count": 30,
   "outputs": [],
   "source": [
    "prev_image = cv2.cvtColor(prev_image, cv2.COLOR_BGR2RGB)\n",
    "cur_image = cv2.cvtColor(cur_image, cv2.COLOR_BGR2RGB)\n",
    "prev_mask = cv2.cvtColor(prev_mask, cv2.COLOR_BGR2RGB)\n",
    "cur_mask = cv2.cvtColor(cur_mask, cv2.COLOR_BGR2RGB)"
   ],
   "metadata": {
    "collapsed": false,
    "ExecuteTime": {
     "end_time": "2024-05-03T14:27:51.727274100Z",
     "start_time": "2024-05-03T14:27:51.714270400Z"
    }
   },
   "id": "8101e17d72eba574"
  },
  {
   "cell_type": "code",
   "execution_count": 31,
   "outputs": [],
   "source": [
    "to_tensor = transforms.ToTensor()\n",
    "prev_image, cur_image = to_tensor(prev_image), to_tensor(cur_image) \n",
    "prev_mask, cur_mask = to_tensor(prev_mask), to_tensor(cur_mask) "
   ],
   "metadata": {
    "collapsed": false,
    "ExecuteTime": {
     "end_time": "2024-05-03T14:27:51.887513600Z",
     "start_time": "2024-05-03T14:27:51.867517500Z"
    }
   },
   "id": "a2742dfe206cef63"
  },
  {
   "cell_type": "code",
   "execution_count": 32,
   "outputs": [],
   "source": [
    "prev_image, cur_image = prev_image.unsqueeze(0), cur_image.unsqueeze(0)\n",
    "prev_mask, cur_mask = prev_mask.unsqueeze(0), cur_mask.unsqueeze(0)"
   ],
   "metadata": {
    "collapsed": false,
    "ExecuteTime": {
     "end_time": "2024-05-03T14:27:52.022515300Z",
     "start_time": "2024-05-03T14:27:52.011514700Z"
    }
   },
   "id": "cca773d9a34c7f26"
  },
  {
   "cell_type": "code",
   "execution_count": 33,
   "outputs": [
    {
     "name": "stdout",
     "output_type": "stream",
     "text": [
      "cuda:0\n"
     ]
    }
   ],
   "source": [
    "opt_sim = OpticalFlowSimilarity(device='cuda')\n",
    "opt_sim_num = opt_sim(prev_image, cur_image, prev_mask, cur_mask)"
   ],
   "metadata": {
    "collapsed": false,
    "ExecuteTime": {
     "end_time": "2024-05-03T14:27:52.863668600Z",
     "start_time": "2024-05-03T14:27:52.202562200Z"
    }
   },
   "id": "bf7cad6de60e6601"
  },
  {
   "cell_type": "code",
   "execution_count": 34,
   "outputs": [
    {
     "data": {
      "text/plain": "tensor(0.0507, device='cuda:0', grad_fn=<DivBackward0>)"
     },
     "execution_count": 34,
     "metadata": {},
     "output_type": "execute_result"
    }
   ],
   "source": [
    "opt_sim_num"
   ],
   "metadata": {
    "collapsed": false,
    "ExecuteTime": {
     "end_time": "2024-05-03T14:27:52.864668Z",
     "start_time": "2024-05-03T14:27:52.824668200Z"
    }
   },
   "id": "8b8aa66610401e67"
  },
  {
   "cell_type": "code",
   "execution_count": 27,
   "outputs": [],
   "source": [],
   "metadata": {
    "collapsed": false,
    "ExecuteTime": {
     "end_time": "2024-05-03T14:26:53.675642100Z",
     "start_time": "2024-05-03T14:26:53.634644Z"
    }
   },
   "id": "ed9a3984e74f91e3"
  },
  {
   "cell_type": "code",
   "execution_count": 27,
   "outputs": [],
   "source": [],
   "metadata": {
    "collapsed": false,
    "ExecuteTime": {
     "end_time": "2024-05-03T14:26:53.738643400Z",
     "start_time": "2024-05-03T14:26:53.711643900Z"
    }
   },
   "id": "84d8fba41aab36b"
  },
  {
   "cell_type": "code",
   "execution_count": null,
   "outputs": [],
   "source": [],
   "metadata": {
    "collapsed": false
   },
   "id": "aee6bb9873bf9682"
  }
 ],
 "metadata": {
  "kernelspec": {
   "display_name": "Python 3",
   "language": "python",
   "name": "python3"
  },
  "language_info": {
   "codemirror_mode": {
    "name": "ipython",
    "version": 2
   },
   "file_extension": ".py",
   "mimetype": "text/x-python",
   "name": "python",
   "nbconvert_exporter": "python",
   "pygments_lexer": "ipython2",
   "version": "2.7.6"
  }
 },
 "nbformat": 4,
 "nbformat_minor": 5
}
