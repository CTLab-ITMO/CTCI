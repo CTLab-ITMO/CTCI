{
 "cells": [
  {
   "cell_type": "markdown",
   "source": [
    "# Imports"
   ],
   "metadata": {
    "collapsed": false
   },
   "id": "1d0026f475957ac2"
  },
  {
   "cell_type": "code",
   "execution_count": 1,
   "id": "initial_id",
   "metadata": {
    "collapsed": true,
    "ExecuteTime": {
     "end_time": "2024-01-31T01:09:12.231329600Z",
     "start_time": "2024-01-31T01:09:08.551569500Z"
    }
   },
   "outputs": [],
   "source": [
    "import matplotlib.pyplot as plt\n",
    "import torch \n",
    "\n",
    "from transformers import ViTMAEForPreTraining, AutoImageProcessor\n",
    "\n",
    "from src.features.vitmae.dataset import init_pretext_datasets, init_dataloaders\n",
    "from src.models.vitmae.training import pretext_task_train"
   ]
  },
  {
   "cell_type": "markdown",
   "source": [
    "# Device"
   ],
   "metadata": {
    "collapsed": false
   },
   "id": "934fe301790af329"
  },
  {
   "cell_type": "code",
   "execution_count": 2,
   "outputs": [],
   "source": [
    "device = torch.device('cuda' if torch.cuda.is_available() else 'cpu')"
   ],
   "metadata": {
    "collapsed": false,
    "ExecuteTime": {
     "end_time": "2024-01-31T01:09:12.260342700Z",
     "start_time": "2024-01-31T01:09:12.233325Z"
    }
   },
   "id": "4b493d2579efed88"
  },
  {
   "cell_type": "code",
   "execution_count": 3,
   "outputs": [],
   "source": [
    "torch.backends.cuda.matmul.allow_tf32 = False\n",
    "torch.backends.cudnn.benchmark = True"
   ],
   "metadata": {
    "collapsed": false,
    "ExecuteTime": {
     "end_time": "2024-01-31T01:09:12.310296100Z",
     "start_time": "2024-01-31T01:09:12.247286200Z"
    }
   },
   "id": "3359cb556bd38dc4"
  },
  {
   "cell_type": "markdown",
   "source": [
    "# Image Processor"
   ],
   "metadata": {
    "collapsed": false
   },
   "id": "d37c58276ed3e7f1"
  },
  {
   "cell_type": "code",
   "execution_count": 4,
   "outputs": [],
   "source": [
    "image_processor_checkpoint = r\"facebook/vit-mae-base\"\n",
    "image_processor = AutoImageProcessor.from_pretrained(image_processor_checkpoint)"
   ],
   "metadata": {
    "collapsed": false,
    "ExecuteTime": {
     "end_time": "2024-01-31T01:09:12.881391600Z",
     "start_time": "2024-01-31T01:09:12.311293800Z"
    }
   },
   "id": "2767621dc1f259e"
  },
  {
   "cell_type": "markdown",
   "source": [
    "# Dataset"
   ],
   "metadata": {
    "collapsed": false
   },
   "id": "eda34319a42f07ec"
  },
  {
   "cell_type": "code",
   "execution_count": 5,
   "outputs": [],
   "source": [
    "train_images_dir = r\"\"\n",
    "val_images_dir = r\"\""
   ],
   "metadata": {
    "collapsed": false,
    "ExecuteTime": {
     "end_time": "2024-01-31T01:09:12.896353800Z",
     "start_time": "2024-01-31T01:09:12.884384600Z"
    }
   },
   "id": "b558a81497c79784"
  },
  {
   "cell_type": "code",
   "execution_count": 6,
   "outputs": [],
   "source": [
    "batch_size_train = 52\n",
    "batch_size_val = 32\n",
    "pin_memory = True\n",
    "num_workers = 0"
   ],
   "metadata": {
    "collapsed": false,
    "ExecuteTime": {
     "end_time": "2024-01-31T01:09:12.932285500Z",
     "start_time": "2024-01-31T01:09:12.899345400Z"
    }
   },
   "id": "14f878caa080ab96"
  },
  {
   "cell_type": "code",
   "execution_count": 7,
   "outputs": [],
   "source": [
    "train_dataset, val_dataset = init_pretext_datasets(\n",
    "    train_images_dir=train_images_dir,\n",
    "    val_images_dir=val_images_dir,\n",
    "    image_processor=image_processor\n",
    ")"
   ],
   "metadata": {
    "collapsed": false,
    "ExecuteTime": {
     "end_time": "2024-01-31T01:09:12.967405200Z",
     "start_time": "2024-01-31T01:09:12.913306Z"
    }
   },
   "id": "d050b580fd7658c5"
  },
  {
   "cell_type": "code",
   "execution_count": 8,
   "outputs": [],
   "source": [
    "train_dataloader, val_dataloader = init_dataloaders(\n",
    "    train_dataset=train_dataset,\n",
    "    val_dataset=val_dataset,\n",
    "    batch_size_train=batch_size_train,\n",
    "    batch_size_val=batch_size_val,\n",
    "    pin_memory=pin_memory,\n",
    "    num_workers=num_workers\n",
    ")"
   ],
   "metadata": {
    "collapsed": false,
    "ExecuteTime": {
     "end_time": "2024-01-31T01:09:12.981341500Z",
     "start_time": "2024-01-31T01:09:12.960396800Z"
    }
   },
   "id": "f6cc362b403f41e"
  },
  {
   "cell_type": "markdown",
   "source": [
    "# Model"
   ],
   "metadata": {
    "collapsed": false
   },
   "id": "2774bb9203d3e88e"
  },
  {
   "cell_type": "code",
   "execution_count": 9,
   "outputs": [],
   "source": [
    "model = ViTMAEForPreTraining.from_pretrained(\"facebook/vit-mae-base\")\n",
    "model = model.to(device)"
   ],
   "metadata": {
    "collapsed": false,
    "ExecuteTime": {
     "end_time": "2024-01-31T01:09:14.603605800Z",
     "start_time": "2024-01-31T01:09:12.974361500Z"
    }
   },
   "id": "2effd5039a6246ab"
  },
  {
   "cell_type": "code",
   "execution_count": 10,
   "outputs": [],
   "source": [
    "optimizer = torch.optim.Adam(model.parameters())"
   ],
   "metadata": {
    "collapsed": false,
    "ExecuteTime": {
     "end_time": "2024-01-31T01:09:14.619227500Z",
     "start_time": "2024-01-31T01:09:14.605601200Z"
    }
   },
   "id": "3b15f0a5b3179aef"
  },
  {
   "cell_type": "code",
   "execution_count": 11,
   "outputs": [],
   "source": [
    "save_dir = r\"\""
   ],
   "metadata": {
    "collapsed": false,
    "ExecuteTime": {
     "end_time": "2024-01-31T01:09:14.640190200Z",
     "start_time": "2024-01-31T01:09:14.622221500Z"
    }
   },
   "id": "be3ef7b7d8b30212"
  },
  {
   "cell_type": "code",
   "execution_count": null,
   "outputs": [],
   "source": [
    "history = pretext_task_train(\n",
    "    model=model,\n",
    "    optimizer=optimizer,\n",
    "    train_dataloder=train_dataloader,\n",
    "    val_dataloader=val_dataloader,\n",
    "    device=device,\n",
    "    save_dir=save_dir,\n",
    "    num_epochs=10\n",
    ")"
   ],
   "metadata": {
    "collapsed": false
   },
   "id": "bd0fe0b5eb00256"
  },
  {
   "cell_type": "code",
   "execution_count": null,
   "outputs": [],
   "source": [
    "model.save_pretrained(save_dir)"
   ],
   "metadata": {
    "collapsed": false,
    "ExecuteTime": {
     "start_time": "2024-01-31T01:09:19.842361500Z"
    }
   },
   "id": "ca1555aaf355a53a"
  },
  {
   "cell_type": "code",
   "execution_count": null,
   "outputs": [],
   "source": [
    "fig, ax = plt.subplots(nrows=1, ncols=2)\n",
    "fig.set_size_inches(18, 6)\n",
    "\n",
    "ax[0].plot(range(len(history[\"train_epoch\"])), history[\"train_epoch\"])\n",
    "ax[0].set_title(\"Train loss\")\n",
    "ax[1].plot(range(len(history[\"val_epoch\"])), history[\"val_epoch\"])\n",
    "ax[1].set_title(\"Val loss\")\n",
    "\n",
    "plt.show()"
   ],
   "metadata": {
    "collapsed": false,
    "ExecuteTime": {
     "end_time": "2024-01-31T01:09:19.846352200Z",
     "start_time": "2024-01-31T01:09:19.844356900Z"
    }
   },
   "id": "d0a7ff04b97b098d"
  },
  {
   "cell_type": "code",
   "execution_count": null,
   "outputs": [],
   "source": [],
   "metadata": {
    "collapsed": false,
    "ExecuteTime": {
     "end_time": "2024-01-31T01:09:19.848345900Z",
     "start_time": "2024-01-31T01:09:19.847349200Z"
    }
   },
   "id": "28946ae22b9ef4c7"
  },
  {
   "cell_type": "code",
   "execution_count": null,
   "outputs": [],
   "source": [],
   "metadata": {
    "collapsed": false,
    "ExecuteTime": {
     "end_time": "2024-01-31T01:09:19.858319100Z",
     "start_time": "2024-01-31T01:09:19.849344300Z"
    }
   },
   "id": "2d4d80defe38ff10"
  }
 ],
 "metadata": {
  "kernelspec": {
   "display_name": "Python 3",
   "language": "python",
   "name": "python3"
  },
  "language_info": {
   "codemirror_mode": {
    "name": "ipython",
    "version": 2
   },
   "file_extension": ".py",
   "mimetype": "text/x-python",
   "name": "python",
   "nbconvert_exporter": "python",
   "pygments_lexer": "ipython2",
   "version": "2.7.6"
  }
 },
 "nbformat": 4,
 "nbformat_minor": 5
}
