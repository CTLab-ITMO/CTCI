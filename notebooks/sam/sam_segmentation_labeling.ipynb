{
 "cells": [
  {
   "cell_type": "markdown",
   "id": "9a93509566f2ac08",
   "metadata": {
    "collapsed": false
   },
   "source": [
    "# Imports"
   ]
  },
  {
   "cell_type": "code",
   "execution_count": 1,
   "id": "initial_id",
   "metadata": {
    "collapsed": true,
    "ExecuteTime": {
     "end_time": "2024-02-06T19:40:50.782658Z",
     "start_time": "2024-02-06T19:40:41.347835700Z"
    }
   },
   "outputs": [],
   "source": [
    "import os\n",
    "import sys\n",
    "sys.path.append('..')\n",
    "\n",
    "import torch\n",
    "\n",
    "from src.models.yolo.yolo import load_yolov8_detector\n",
    "from src.models.sam.sam import load_sam_predictor, segment_images_from_folder"
   ]
  },
  {
   "cell_type": "markdown",
   "id": "64138b686e0e43da",
   "metadata": {
    "collapsed": false
   },
   "source": [
    "# Data"
   ]
  },
  {
   "cell_type": "code",
   "execution_count": 2,
   "id": "94927a50811630a0",
   "metadata": {
    "collapsed": false,
    "ExecuteTime": {
     "end_time": "2024-02-06T19:40:50.796686100Z",
     "start_time": "2024-02-06T19:40:50.781659400Z"
    }
   },
   "outputs": [],
   "source": [
    "DATA_DIR = r\"\""
   ]
  },
  {
   "cell_type": "code",
   "execution_count": 3,
   "id": "89bc4965",
   "metadata": {
    "ExecuteTime": {
     "end_time": "2024-02-06T19:40:50.861289Z",
     "start_time": "2024-02-06T19:40:50.795689100Z"
    }
   },
   "outputs": [],
   "source": [
    "def filter_hidden_folders(folder):\n",
    "    if folder[0] == '.':\n",
    "        return False\n",
    "    return True"
   ]
  },
  {
   "cell_type": "code",
   "execution_count": null,
   "id": "c6c1ad79608d7671",
   "metadata": {
    "collapsed": false
   },
   "outputs": [],
   "source": [
    "folders_list = os.listdir(DATA_DIR)\n",
    "folders_list = list(filter(filter_hidden_folders, folders_list))\n",
    "folders_list"
   ]
  },
  {
   "cell_type": "code",
   "execution_count": 5,
   "id": "f6586033c89806ea",
   "metadata": {
    "collapsed": false,
    "ExecuteTime": {
     "end_time": "2024-02-06T19:40:50.941127100Z",
     "start_time": "2024-02-06T19:40:50.875251300Z"
    }
   },
   "outputs": [],
   "source": [
    "def count_images(image_folder_path):\n",
    "    images_num = len(os.listdir(image_folder_path))\n",
    "    return images_num\n",
    "\n",
    "def summarize_folders(data_dir, folders_list):\n",
    "    folders_info = {}\n",
    "    images_sum = 0\n",
    "    \n",
    "    for folder in folders_list:\n",
    "        images_num = count_images(os.path.join(data_dir, folder))\n",
    "        folders_info[folder] = images_num\n",
    "        images_sum += images_num\n",
    "        \n",
    "    print(f\"There is {images_sum} images:\")\n",
    "    for folder in folders_info.keys():\n",
    "        print(f\"\\t{folder} folder has {folders_info[folder]} images\")\n",
    "    "
   ]
  },
  {
   "cell_type": "code",
   "execution_count": null,
   "id": "5a6d902ee413c57d",
   "metadata": {
    "collapsed": false
   },
   "outputs": [],
   "source": [
    "summarize_folders(DATA_DIR, folders_list)"
   ]
  },
  {
   "cell_type": "markdown",
   "id": "1d59d65d1c78526d",
   "metadata": {
    "collapsed": false
   },
   "source": [
    "# SAM+YOLO Labeling"
   ]
  },
  {
   "cell_type": "markdown",
   "id": "f94afe22ff89b906",
   "metadata": {
    "collapsed": false
   },
   "source": [
    "Yolo detector:"
   ]
  },
  {
   "cell_type": "code",
   "execution_count": 7,
   "id": "63db24b519d2ae6b",
   "metadata": {
    "collapsed": false,
    "ExecuteTime": {
     "end_time": "2024-02-06T19:40:51.080758200Z",
     "start_time": "2024-02-06T19:40:50.984012Z"
    }
   },
   "outputs": [],
   "source": [
    "custom_yolo_checkpoint_path = r\"\"\n",
    "detector = load_yolov8_detector(custom_yolo_checkpoint_path)"
   ]
  },
  {
   "cell_type": "markdown",
   "id": "aa34121c96a97dbc",
   "metadata": {
    "collapsed": false
   },
   "source": [
    "SAM:"
   ]
  },
  {
   "cell_type": "code",
   "execution_count": 8,
   "id": "ac44a246ef8971ac",
   "metadata": {
    "collapsed": false,
    "ExecuteTime": {
     "end_time": "2024-02-06T19:40:56.906088100Z",
     "start_time": "2024-02-06T19:40:51.078763700Z"
    }
   },
   "outputs": [],
   "source": [
    "sam_checkpoint = r\"\"\n",
    "model_type = \"vit_h\"\n",
    "device = \"cuda\" if torch.cuda.is_available() else \"cpu\"\n",
    "\n",
    "predictor = load_sam_predictor(checkpoint_path=sam_checkpoint, model_type=model_type, device=device)"
   ]
  },
  {
   "cell_type": "markdown",
   "id": "486276d9a8073c3b",
   "metadata": {
    "collapsed": false
   },
   "source": [
    "## Labeling"
   ]
  },
  {
   "cell_type": "code",
   "execution_count": null,
   "id": "e0f3ff791a275f70",
   "metadata": {
    "collapsed": false
   },
   "outputs": [],
   "source": [
    "folder = folders_list[3]\n",
    "folder"
   ]
  },
  {
   "cell_type": "code",
   "execution_count": 11,
   "outputs": [],
   "source": [
    "target_length=1024\n",
    "narrowing = 0.20\n",
    "erode_iterations = 1"
   ],
   "metadata": {
    "collapsed": false,
    "ExecuteTime": {
     "end_time": "2024-02-06T19:40:56.974902900Z",
     "start_time": "2024-02-06T19:40:56.938002400Z"
    }
   },
   "id": "313649a196be72"
  },
  {
   "cell_type": "code",
   "execution_count": 13,
   "outputs": [],
   "source": [
    "source_dir = os.path.join(DATA_DIR, folder)\n",
    "output_dir = os.path.join(DATA_DIR, folder + \"_masks\")\n",
    "\n",
    "processes_num = 2"
   ],
   "metadata": {
    "collapsed": false,
    "ExecuteTime": {
     "end_time": "2024-02-06T19:40:57.028759300Z",
     "start_time": "2024-02-06T19:40:56.967922200Z"
    }
   },
   "id": "e3c232abf2727423"
  },
  {
   "cell_type": "code",
   "execution_count": null,
   "id": "944f6650",
   "metadata": {
    "is_executing": true,
    "ExecuteTime": {
     "start_time": "2024-02-06T19:40:57.028759300Z"
    }
   },
   "outputs": [],
   "source": [
    "segment_images_from_folder(\n",
    "    source_dir,\n",
    "    output_dir,\n",
    "    detector, predictor,\n",
    "    target_length=target_length,\n",
    "    narrowing=narrowing,\n",
    "    erode_iterations=erode_iterations,\n",
    "    processes_num=processes_num\n",
    ")"
   ]
  },
  {
   "cell_type": "code",
   "execution_count": null,
   "id": "7c4c2794",
   "metadata": {
    "ExecuteTime": {
     "end_time": "2024-02-06T18:40:01.405380100Z",
     "start_time": "2024-02-06T18:40:01.404383200Z"
    }
   },
   "outputs": [],
   "source": []
  }
 ],
 "metadata": {
  "kernelspec": {
   "display_name": "Python 3",
   "language": "python",
   "name": "python3"
  },
  "language_info": {
   "codemirror_mode": {
    "name": "ipython",
    "version": 3
   },
   "file_extension": ".py",
   "mimetype": "text/x-python",
   "name": "python",
   "nbconvert_exporter": "python",
   "pygments_lexer": "ipython3",
   "version": "3.10.13"
  }
 },
 "nbformat": 4,
 "nbformat_minor": 5
}
