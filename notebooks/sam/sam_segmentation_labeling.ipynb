{
 "cells": [
  {
   "cell_type": "markdown",
   "id": "9a93509566f2ac08",
   "metadata": {
    "collapsed": false
   },
   "source": [
    "# Imports"
   ]
  },
  {
   "cell_type": "code",
   "execution_count": 1,
   "id": "initial_id",
   "metadata": {
    "collapsed": true,
    "ExecuteTime": {
     "end_time": "2024-03-30T10:55:59.237473Z",
     "start_time": "2024-03-30T10:55:55.984517Z"
    }
   },
   "outputs": [],
   "source": [
    "import os\n",
    "import sys\n",
    "sys.path.append('..')\n",
    "\n",
    "import torch\n",
    "\n",
    "from src.models.yolov8_detector.yolo import load_yolov8_detector\n",
    "from src.models.sam.sam import load_sam_predictor, segment_images_from_folder"
   ]
  },
  {
   "cell_type": "markdown",
   "id": "64138b686e0e43da",
   "metadata": {
    "collapsed": false
   },
   "source": [
    "# Data"
   ]
  },
  {
   "cell_type": "code",
   "execution_count": 2,
   "id": "94927a50811630a0",
   "metadata": {
    "collapsed": false,
    "ExecuteTime": {
     "end_time": "2024-03-29T15:59:19.275162Z",
     "start_time": "2024-03-29T15:59:19.260148Z"
    }
   },
   "outputs": [],
   "source": [
    "DATA_DIR = r\"\""
   ]
  },
  {
   "cell_type": "code",
   "execution_count": 3,
   "id": "89bc4965",
   "metadata": {
    "ExecuteTime": {
     "end_time": "2024-03-29T15:59:19.291177Z",
     "start_time": "2024-03-29T15:59:19.276163Z"
    }
   },
   "outputs": [],
   "source": [
    "def filter_hidden_folders(folder):\n",
    "    if folder[0] == '.':\n",
    "        return False\n",
    "    return True"
   ]
  },
  {
   "cell_type": "code",
   "execution_count": null,
   "id": "c6c1ad79608d7671",
   "metadata": {
    "collapsed": false
   },
   "outputs": [],
   "source": [
    "folders_list = os.listdir(DATA_DIR)\n",
    "folders_list = list(filter(filter_hidden_folders, folders_list))\n",
    "folders_list"
   ]
  },
  {
   "cell_type": "code",
   "execution_count": 5,
   "id": "f6586033c89806ea",
   "metadata": {
    "collapsed": false,
    "ExecuteTime": {
     "end_time": "2024-03-28T13:15:44.604653Z",
     "start_time": "2024-03-28T13:15:44.589639Z"
    }
   },
   "outputs": [],
   "source": [
    "def count_images(image_folder_path):\n",
    "    images_num = len(os.listdir(image_folder_path))\n",
    "    return images_num\n",
    "\n",
    "def summarize_folders(data_dir, folders_list):\n",
    "    folders_info = {}\n",
    "    images_sum = 0\n",
    "    \n",
    "    for folder in folders_list:\n",
    "        images_num = count_images(os.path.join(data_dir, folder))\n",
    "        folders_info[folder] = images_num\n",
    "        images_sum += images_num\n",
    "        \n",
    "    print(f\"There is {images_sum} images:\")\n",
    "    for folder in folders_info.keys():\n",
    "        print(f\"\\t{folder} folder has {folders_info[folder]} images\")\n",
    "    "
   ]
  },
  {
   "cell_type": "code",
   "execution_count": 6,
   "id": "5a6d902ee413c57d",
   "metadata": {
    "collapsed": false,
    "ExecuteTime": {
     "end_time": "2024-03-28T13:15:45.357338Z",
     "start_time": "2024-03-28T13:15:44.605654Z"
    }
   },
   "outputs": [
    {
     "ename": "NotADirectoryError",
     "evalue": "[WinError 267] Неверно задано имя папки: 'D:\\\\vscode\\\\ctci\\\\CTCI\\\\data\\\\paper images\\\\F1_1_2_1.ts-frames_frame-535.png'",
     "output_type": "error",
     "traceback": [
      "\u001B[1;31m---------------------------------------------------------------------------\u001B[0m",
      "\u001B[1;31mNotADirectoryError\u001B[0m                        Traceback (most recent call last)",
      "Cell \u001B[1;32mIn[6], line 1\u001B[0m\n\u001B[1;32m----> 1\u001B[0m \u001B[43msummarize_folders\u001B[49m\u001B[43m(\u001B[49m\u001B[43mDATA_DIR\u001B[49m\u001B[43m,\u001B[49m\u001B[43m \u001B[49m\u001B[43mfolders_list\u001B[49m\u001B[43m)\u001B[49m\n",
      "Cell \u001B[1;32mIn[5], line 10\u001B[0m, in \u001B[0;36msummarize_folders\u001B[1;34m(data_dir, folders_list)\u001B[0m\n\u001B[0;32m      7\u001B[0m images_sum \u001B[38;5;241m=\u001B[39m \u001B[38;5;241m0\u001B[39m\n\u001B[0;32m      9\u001B[0m \u001B[38;5;28;01mfor\u001B[39;00m folder \u001B[38;5;129;01min\u001B[39;00m folders_list:\n\u001B[1;32m---> 10\u001B[0m     images_num \u001B[38;5;241m=\u001B[39m \u001B[43mcount_images\u001B[49m\u001B[43m(\u001B[49m\u001B[43mos\u001B[49m\u001B[38;5;241;43m.\u001B[39;49m\u001B[43mpath\u001B[49m\u001B[38;5;241;43m.\u001B[39;49m\u001B[43mjoin\u001B[49m\u001B[43m(\u001B[49m\u001B[43mdata_dir\u001B[49m\u001B[43m,\u001B[49m\u001B[43m \u001B[49m\u001B[43mfolder\u001B[49m\u001B[43m)\u001B[49m\u001B[43m)\u001B[49m\n\u001B[0;32m     11\u001B[0m     folders_info[folder] \u001B[38;5;241m=\u001B[39m images_num\n\u001B[0;32m     12\u001B[0m     images_sum \u001B[38;5;241m+\u001B[39m\u001B[38;5;241m=\u001B[39m images_num\n",
      "Cell \u001B[1;32mIn[5], line 2\u001B[0m, in \u001B[0;36mcount_images\u001B[1;34m(image_folder_path)\u001B[0m\n\u001B[0;32m      1\u001B[0m \u001B[38;5;28;01mdef\u001B[39;00m \u001B[38;5;21mcount_images\u001B[39m(image_folder_path):\n\u001B[1;32m----> 2\u001B[0m     images_num \u001B[38;5;241m=\u001B[39m \u001B[38;5;28mlen\u001B[39m(\u001B[43mos\u001B[49m\u001B[38;5;241;43m.\u001B[39;49m\u001B[43mlistdir\u001B[49m\u001B[43m(\u001B[49m\u001B[43mimage_folder_path\u001B[49m\u001B[43m)\u001B[49m)\n\u001B[0;32m      3\u001B[0m     \u001B[38;5;28;01mreturn\u001B[39;00m images_num\n",
      "\u001B[1;31mNotADirectoryError\u001B[0m: [WinError 267] Неверно задано имя папки: 'D:\\\\vscode\\\\ctci\\\\CTCI\\\\data\\\\paper images\\\\F1_1_2_1.ts-frames_frame-535.png'"
     ]
    }
   ],
   "source": [
    "summarize_folders(DATA_DIR, folders_list)"
   ]
  },
  {
   "cell_type": "markdown",
   "id": "1d59d65d1c78526d",
   "metadata": {
    "collapsed": false
   },
   "source": [
    "# SAM+YOLO Labeling"
   ]
  },
  {
   "cell_type": "markdown",
   "id": "f94afe22ff89b906",
   "metadata": {
    "collapsed": false
   },
   "source": [
    "Yolo detector:"
   ]
  },
  {
   "cell_type": "code",
   "execution_count": 5,
   "id": "63db24b519d2ae6b",
   "metadata": {
    "collapsed": false,
    "ExecuteTime": {
     "end_time": "2024-03-29T15:59:20.390175Z",
     "start_time": "2024-03-29T15:59:19.308192Z"
    }
   },
   "outputs": [],
   "source": [
    "custom_yolo_checkpoint_path = r\"\"\n",
    "detector = load_yolov8_detector(custom_yolo_checkpoint_path)"
   ]
  },
  {
   "cell_type": "markdown",
   "id": "aa34121c96a97dbc",
   "metadata": {
    "collapsed": false
   },
   "source": [
    "SAM:"
   ]
  },
  {
   "cell_type": "code",
   "execution_count": 13,
   "id": "ac44a246ef8971ac",
   "metadata": {
    "collapsed": false,
    "ExecuteTime": {
     "end_time": "2024-03-29T16:03:15.629917Z",
     "start_time": "2024-03-29T16:03:14.928280Z"
    }
   },
   "outputs": [
    {
     "name": "stdout",
     "output_type": "stream",
     "text": [
      "Predictor's device is cpu\n"
     ]
    }
   ],
   "source": [
    "sam_checkpoint = r\"\"\n",
    "model_type = \"vit_h\"\n",
    "device = \"cuda\" if torch.cuda.is_available() else \"cpu\"\n",
    "\n",
    "predictor = load_sam_predictor(checkpoint_path=sam_checkpoint, model_type=model_type, device=device)"
   ]
  },
  {
   "cell_type": "markdown",
   "id": "486276d9a8073c3b",
   "metadata": {
    "collapsed": false
   },
   "source": [
    "## Labeling"
   ]
  },
  {
   "cell_type": "code",
   "execution_count": 20,
   "outputs": [],
   "source": [
    "folder = folders_list[3]\n",
    "target_length=1024\n",
    "narrowing = 0.20\n",
    "erode_iterations = 1"
   ],
   "metadata": {
    "collapsed": false,
    "ExecuteTime": {
     "end_time": "2024-03-29T16:14:30.997566Z",
     "start_time": "2024-03-29T16:14:30.979549Z"
    }
   },
   "id": "313649a196be72"
  },
  {
   "cell_type": "code",
   "execution_count": 21,
   "outputs": [],
   "source": [
    "source_dir = os.path.join(DATA_DIR, folder)\n",
    "output_dir = os.path.join(DATA_DIR, folder + \"_masks\")\n",
    "\n",
    "processes_num = 2"
   ],
   "metadata": {
    "collapsed": false,
    "ExecuteTime": {
     "end_time": "2024-03-29T16:14:31.298840Z",
     "start_time": "2024-03-29T16:14:31.290832Z"
    }
   },
   "id": "e3c232abf2727423"
  },
  {
   "cell_type": "code",
   "execution_count": null,
   "id": "944f6650",
   "metadata": {},
   "outputs": [],
   "source": [
    "segment_images_from_folder(\n",
    "    source_dir,\n",
    "    output_dir,\n",
    "    detector, predictor,\n",
    "    target_length=target_length,\n",
    "    narrowing=narrowing,\n",
    "    erode_iterations=erode_iterations,\n",
    "    processes_num=processes_num\n",
    ")"
   ]
  },
  {
   "cell_type": "code",
   "execution_count": null,
   "id": "7c4c2794",
   "metadata": {
    "ExecuteTime": {
     "end_time": "2024-02-06T18:40:01.405380100Z",
     "start_time": "2024-02-06T18:40:01.404383200Z"
    }
   },
   "outputs": [],
   "source": []
  }
 ],
 "metadata": {
  "kernelspec": {
   "display_name": "Python 3",
   "language": "python",
   "name": "python3"
  },
  "language_info": {
   "codemirror_mode": {
    "name": "ipython",
    "version": 3
   },
   "file_extension": ".py",
   "mimetype": "text/x-python",
   "name": "python",
   "nbconvert_exporter": "python",
   "pygments_lexer": "ipython3",
   "version": "3.10.13"
  }
 },
 "nbformat": 4,
 "nbformat_minor": 5
}
