{
 "cells": [
  {
   "cell_type": "markdown",
   "source": [
    "# Imports"
   ],
   "metadata": {
    "collapsed": false
   },
   "id": "9a93509566f2ac08"
  },
  {
   "cell_type": "code",
   "execution_count": 21,
   "id": "initial_id",
   "metadata": {
    "collapsed": true,
    "ExecuteTime": {
     "end_time": "2024-01-24T12:17:30.486331400Z",
     "start_time": "2024-01-24T12:17:30.463391500Z"
    }
   },
   "outputs": [],
   "source": [
    "import os\n",
    "import sys\n",
    "\n",
    "import numpy as np\n",
    "from tqdm import tqdm\n",
    "import torch\n",
    "import matplotlib.pyplot as plt\n",
    "import cv2\n",
    "\n",
    "from src.sam_segmentation.yolo import load_yolov8_detector, yolov8_detect, draw_bounding_boxes\n",
    "from src.sam_segmentation.sam import load_sam_predictor, sam_segmentation\n",
    "from src.sam_segmentation.utils import unite_masks"
   ]
  },
  {
   "cell_type": "markdown",
   "source": [
    "# Data"
   ],
   "metadata": {
    "collapsed": false
   },
   "id": "64138b686e0e43da"
  },
  {
   "cell_type": "code",
   "execution_count": 26,
   "outputs": [],
   "source": [
    "DATA_DIR = r\"C:\\Internship\\ITMO_ML\\data\\Frames\\Bubbles_every_frame\""
   ],
   "metadata": {
    "collapsed": false,
    "ExecuteTime": {
     "end_time": "2024-01-24T12:19:22.045815600Z",
     "start_time": "2024-01-24T12:19:22.031848700Z"
    }
   },
   "id": "94927a50811630a0"
  },
  {
   "cell_type": "code",
   "execution_count": 27,
   "outputs": [
    {
     "data": {
      "text/plain": "['F1_1_1_1_frames',\n 'F1_1_1_2_frames',\n 'F1_1_2_1_frames',\n 'F1_1_2_2_frames',\n 'F1_1_3_1_frames',\n 'F1_1_3_2_frames',\n 'F1_1_4_1_frames',\n 'F1_1_4_2_frames',\n 'F1_1_5_1_frames',\n 'F1_1_5_2_frames',\n 'F1_2_2_1_frames',\n 'F1_2_2_2_frames',\n 'F1_2_3_1_frames',\n 'F1_2_3_2_frames']"
     },
     "execution_count": 27,
     "metadata": {},
     "output_type": "execute_result"
    }
   ],
   "source": [
    "folders_list = os.listdir(DATA_DIR)\n",
    "folders_list"
   ],
   "metadata": {
    "collapsed": false,
    "ExecuteTime": {
     "end_time": "2024-01-24T12:19:22.227761200Z",
     "start_time": "2024-01-24T12:19:22.189831700Z"
    }
   },
   "id": "c6c1ad79608d7671"
  },
  {
   "cell_type": "code",
   "execution_count": 28,
   "outputs": [],
   "source": [
    "def count_images(image_folder_path):\n",
    "    images_num = len(os.listdir(image_folder_path))\n",
    "    return images_num\n",
    "\n",
    "def summarize_folders(data_dir, folders_list):\n",
    "    folders_info = {}\n",
    "    images_sum = 0\n",
    "    \n",
    "    for folder in folders_list:\n",
    "        images_num = count_images(os.path.join(data_dir, folder))\n",
    "        folders_info[folder] = images_num\n",
    "        images_sum += images_num\n",
    "        \n",
    "    print(f\"There is {images_sum} images:\")\n",
    "    for folder in folders_info.keys():\n",
    "        print(f\"\\t{folder} folder has {folders_info[folder]} images\")\n",
    "    "
   ],
   "metadata": {
    "collapsed": false,
    "ExecuteTime": {
     "end_time": "2024-01-24T12:19:22.362401900Z",
     "start_time": "2024-01-24T12:19:22.334478100Z"
    }
   },
   "id": "f6586033c89806ea"
  },
  {
   "cell_type": "code",
   "execution_count": 29,
   "outputs": [
    {
     "name": "stdout",
     "output_type": "stream",
     "text": [
      "There is 20721 images:\n",
      "\tF1_1_1_1_frames folder has 1787 images\n",
      "\tF1_1_1_2_frames folder has 1798 images\n",
      "\tF1_1_2_1_frames folder has 1508 images\n",
      "\tF1_1_2_2_frames folder has 1491 images\n",
      "\tF1_1_3_1_frames folder has 1479 images\n",
      "\tF1_1_3_2_frames folder has 1512 images\n",
      "\tF1_1_4_1_frames folder has 1797 images\n",
      "\tF1_1_4_2_frames folder has 1783 images\n",
      "\tF1_1_5_1_frames folder has 1502 images\n",
      "\tF1_1_5_2_frames folder has 1493 images\n",
      "\tF1_2_2_1_frames folder has 1474 images\n",
      "\tF1_2_2_2_frames folder has 1484 images\n",
      "\tF1_2_3_1_frames folder has 1480 images\n",
      "\tF1_2_3_2_frames folder has 133 images\n"
     ]
    }
   ],
   "source": [
    "summarize_folders(DATA_DIR, folders_list)"
   ],
   "metadata": {
    "collapsed": false,
    "ExecuteTime": {
     "end_time": "2024-01-24T12:19:23.775629900Z",
     "start_time": "2024-01-24T12:19:22.468168400Z"
    }
   },
   "id": "5a6d902ee413c57d"
  },
  {
   "cell_type": "markdown",
   "source": [
    "# SAM+YOLO Labeling"
   ],
   "metadata": {
    "collapsed": false
   },
   "id": "1d59d65d1c78526d"
  },
  {
   "cell_type": "markdown",
   "source": [
    "Yolo detector:"
   ],
   "metadata": {
    "collapsed": false
   },
   "id": "f94afe22ff89b906"
  },
  {
   "cell_type": "code",
   "execution_count": 30,
   "outputs": [],
   "source": [
    "custom_yolo_checkpoint_path = r\"C:\\Internship\\ITMO_ML\\CTCI\\checkpoints\\yolov8\\yolov8s_on_bubbles_24\\run3\\weights\\best.pt\"\n",
    "detector = load_yolov8_detector(custom_yolo_checkpoint_path)"
   ],
   "metadata": {
    "collapsed": false,
    "ExecuteTime": {
     "end_time": "2024-01-24T12:19:25.843620700Z",
     "start_time": "2024-01-24T12:19:25.735184300Z"
    }
   },
   "id": "63db24b519d2ae6b"
  },
  {
   "cell_type": "markdown",
   "source": [
    "SAM:"
   ],
   "metadata": {
    "collapsed": false
   },
   "id": "aa34121c96a97dbc"
  },
  {
   "cell_type": "code",
   "execution_count": 31,
   "outputs": [],
   "source": [
    "sam_checkpoint = r\"C:\\Internship\\ITMO_ML\\CTCI\\checkpoints\\sam_checkpoints\\sam_vit_h_4b8939.pth\"\n",
    "model_type = \"vit_h\"\n",
    "device=\"cuda\"\n",
    "\n",
    "predictor = load_sam_predictor(checkpoint_path=sam_checkpoint, model_type=model_type, device=device)"
   ],
   "metadata": {
    "collapsed": false,
    "ExecuteTime": {
     "end_time": "2024-01-24T12:19:33.259159500Z",
     "start_time": "2024-01-24T12:19:26.464555100Z"
    }
   },
   "id": "ac44a246ef8971ac"
  },
  {
   "cell_type": "markdown",
   "source": [
    "## Labeling"
   ],
   "metadata": {
    "collapsed": false
   },
   "id": "486276d9a8073c3b"
  },
  {
   "cell_type": "code",
   "execution_count": 32,
   "outputs": [],
   "source": [
    "def segment_images_from_folder(folder):\n",
    "    masks_folder_name = folder + \"_masks\"\n",
    "    dirlist = os.listdir(DATA_DIR)\n",
    "    if masks_folder_name not in dirlist:\n",
    "        os.mkdir(os.path.join(DATA_DIR, masks_folder_name))\n",
    "    \n",
    "    images_list = os.listdir(os.path.join(DATA_DIR, folder))\n",
    "    masks_list = os.listdir(os.path.join(DATA_DIR, masks_folder_name))\n",
    "    for image_name in tqdm(images_list):\n",
    "        if image_name in masks_list:\n",
    "            continue\n",
    "        image = cv2.imread(os.path.join(DATA_DIR, folder,image_name))\n",
    "        boxes = yolov8_detect(image=image, detector=detector,    return_objects=False)\n",
    "        masks_list = sam_segmentation(image=image,predictor=predictor,  boxes=boxes, prompt_point=True)\n",
    "    \n",
    "        masks_united = []\n",
    "        for masks in masks_list:\n",
    "            masks_united.append(unite_masks(masks))\n",
    "        mask = unite_masks(masks_united)\n",
    "        cv2.imwrite(filename=os.path.join(DATA_DIR,masks_folder_name,   image_name), img=mask)\n",
    "\n",
    "    print(f\"Images from the folder {folder} were segmented!\")"
   ],
   "metadata": {
    "collapsed": false,
    "ExecuteTime": {
     "end_time": "2024-01-24T12:19:37.442483700Z",
     "start_time": "2024-01-24T12:19:37.417258200Z"
    }
   },
   "id": "8fe2b886619c6c82"
  },
  {
   "cell_type": "code",
   "execution_count": null,
   "outputs": [
    {
     "name": "stderr",
     "output_type": "stream",
     "text": [
      "  0%|          | 0/1798 [00:00<?, ?it/s]"
     ]
    },
    {
     "name": "stdout",
     "output_type": "stream",
     "text": [
      "0: 608x800 300 Bubbless, 58.8ms\n",
      "Speed: 8.0ms preprocess, 58.8ms inference, 4.0ms postprocess per image at shape (1, 3, 608, 800)\n"
     ]
    },
    {
     "name": "stderr",
     "output_type": "stream",
     "text": [
      "  0%|          | 1/1798 [00:56<28:12:20, 56.51s/it]"
     ]
    },
    {
     "name": "stdout",
     "output_type": "stream",
     "text": [
      "0: 608x800 300 Bubbless, 79.8ms\n",
      "Speed: 3.9ms preprocess, 79.8ms inference, 6.0ms postprocess per image at shape (1, 3, 608, 800)\n"
     ]
    },
    {
     "name": "stderr",
     "output_type": "stream",
     "text": [
      "C:\\Users\\PC\\AppData\\Local\\Temp\\ipykernel_8556\\11334664.py:10: FutureWarning: elementwise comparison failed; returning scalar instead, but in the future will perform elementwise comparison\n",
      "  if image_name in masks_list:\n",
      "  0%|          | 2/1798 [01:50<27:35:54, 55.32s/it]"
     ]
    },
    {
     "name": "stdout",
     "output_type": "stream",
     "text": [
      "0: 608x800 300 Bubbless, 171.7ms\n",
      "Speed: 6.0ms preprocess, 171.7ms inference, 3.0ms postprocess per image at shape (1, 3, 608, 800)\n"
     ]
    },
    {
     "name": "stderr",
     "output_type": "stream",
     "text": [
      "  0%|          | 3/1798 [02:46<27:44:15, 55.63s/it]"
     ]
    },
    {
     "name": "stdout",
     "output_type": "stream",
     "text": [
      "0: 608x800 300 Bubbless, 101.5ms\n",
      "Speed: 5.0ms preprocess, 101.5ms inference, 5.0ms postprocess per image at shape (1, 3, 608, 800)\n"
     ]
    },
    {
     "name": "stderr",
     "output_type": "stream",
     "text": [
      "  0%|          | 4/1798 [03:42<27:40:38, 55.54s/it]"
     ]
    },
    {
     "name": "stdout",
     "output_type": "stream",
     "text": [
      "0: 608x800 300 Bubbless, 86.9ms\n",
      "Speed: 6.0ms preprocess, 86.9ms inference, 6.0ms postprocess per image at shape (1, 3, 608, 800)\n"
     ]
    },
    {
     "name": "stderr",
     "output_type": "stream",
     "text": [
      "  0%|          | 5/1798 [04:38<27:41:35, 55.60s/it]"
     ]
    },
    {
     "name": "stdout",
     "output_type": "stream",
     "text": [
      "0: 608x800 300 Bubbless, 30.9ms\n",
      "Speed: 5.3ms preprocess, 30.9ms inference, 6.0ms postprocess per image at shape (1, 3, 608, 800)\n"
     ]
    },
    {
     "name": "stderr",
     "output_type": "stream",
     "text": [
      "  0%|          | 6/1798 [05:36<28:04:28, 56.40s/it]"
     ]
    },
    {
     "name": "stdout",
     "output_type": "stream",
     "text": [
      "0: 608x800 300 Bubbless, 104.7ms\n",
      "Speed: 7.0ms preprocess, 104.7ms inference, 10.2ms postprocess per image at shape (1, 3, 608, 800)\n"
     ]
    },
    {
     "name": "stderr",
     "output_type": "stream",
     "text": [
      "  0%|          | 7/1798 [06:32<28:06:19, 56.49s/it]"
     ]
    },
    {
     "name": "stdout",
     "output_type": "stream",
     "text": [
      "0: 608x800 300 Bubbless, 120.0ms\n",
      "Speed: 5.0ms preprocess, 120.0ms inference, 9.9ms postprocess per image at shape (1, 3, 608, 800)\n"
     ]
    },
    {
     "name": "stderr",
     "output_type": "stream",
     "text": [
      "  0%|          | 8/1798 [07:29<28:08:39, 56.60s/it]"
     ]
    },
    {
     "name": "stdout",
     "output_type": "stream",
     "text": [
      "0: 608x800 300 Bubbless, 120.0ms\n",
      "Speed: 8.0ms preprocess, 120.0ms inference, 6.0ms postprocess per image at shape (1, 3, 608, 800)\n"
     ]
    },
    {
     "name": "stderr",
     "output_type": "stream",
     "text": [
      "  1%|          | 9/1798 [08:23<27:42:17, 55.75s/it]"
     ]
    },
    {
     "name": "stdout",
     "output_type": "stream",
     "text": [
      "0: 608x800 300 Bubbless, 96.3ms\n",
      "Speed: 8.0ms preprocess, 96.3ms inference, 7.0ms postprocess per image at shape (1, 3, 608, 800)\n"
     ]
    },
    {
     "name": "stderr",
     "output_type": "stream",
     "text": [
      "  1%|          | 10/1798 [09:17<27:23:47, 55.16s/it]"
     ]
    },
    {
     "name": "stdout",
     "output_type": "stream",
     "text": [
      "0: 608x800 300 Bubbless, 89.3ms\n",
      "Speed: 6.0ms preprocess, 89.3ms inference, 6.0ms postprocess per image at shape (1, 3, 608, 800)\n"
     ]
    },
    {
     "name": "stderr",
     "output_type": "stream",
     "text": [
      "  1%|          | 11/1798 [10:11<27:11:22, 54.77s/it]"
     ]
    },
    {
     "name": "stdout",
     "output_type": "stream",
     "text": [
      "0: 608x800 300 Bubbless, 86.8ms\n",
      "Speed: 5.0ms preprocess, 86.8ms inference, 5.0ms postprocess per image at shape (1, 3, 608, 800)\n"
     ]
    },
    {
     "name": "stderr",
     "output_type": "stream",
     "text": [
      "  1%|          | 12/1798 [11:05<27:07:25, 54.67s/it]"
     ]
    },
    {
     "name": "stdout",
     "output_type": "stream",
     "text": [
      "0: 608x800 300 Bubbless, 93.8ms\n",
      "Speed: 5.0ms preprocess, 93.8ms inference, 7.4ms postprocess per image at shape (1, 3, 608, 800)\n"
     ]
    },
    {
     "name": "stderr",
     "output_type": "stream",
     "text": [
      "  1%|          | 13/1798 [11:59<26:57:11, 54.36s/it]"
     ]
    },
    {
     "name": "stdout",
     "output_type": "stream",
     "text": [
      "0: 608x800 300 Bubbless, 90.8ms\n",
      "Speed: 7.0ms preprocess, 90.8ms inference, 4.0ms postprocess per image at shape (1, 3, 608, 800)\n"
     ]
    },
    {
     "name": "stderr",
     "output_type": "stream",
     "text": [
      "  1%|          | 14/1798 [12:53<26:52:24, 54.23s/it]"
     ]
    },
    {
     "name": "stdout",
     "output_type": "stream",
     "text": [
      "0: 608x800 300 Bubbless, 116.6ms\n",
      "Speed: 5.0ms preprocess, 116.6ms inference, 4.2ms postprocess per image at shape (1, 3, 608, 800)\n"
     ]
    },
    {
     "name": "stderr",
     "output_type": "stream",
     "text": [
      "  1%|          | 15/1798 [13:49<27:13:21, 54.96s/it]"
     ]
    },
    {
     "name": "stdout",
     "output_type": "stream",
     "text": [
      "0: 608x800 300 Bubbless, 112.4ms\n",
      "Speed: 5.0ms preprocess, 112.4ms inference, 6.0ms postprocess per image at shape (1, 3, 608, 800)\n"
     ]
    },
    {
     "name": "stderr",
     "output_type": "stream",
     "text": [
      "  1%|          | 16/1798 [14:46<27:24:49, 55.38s/it]"
     ]
    },
    {
     "name": "stdout",
     "output_type": "stream",
     "text": [
      "0: 608x800 300 Bubbless, 94.0ms\n",
      "Speed: 9.0ms preprocess, 94.0ms inference, 4.0ms postprocess per image at shape (1, 3, 608, 800)\n"
     ]
    },
    {
     "name": "stderr",
     "output_type": "stream",
     "text": [
      "  1%|          | 17/1798 [15:42<27:29:14, 55.56s/it]"
     ]
    },
    {
     "name": "stdout",
     "output_type": "stream",
     "text": [
      "0: 608x800 300 Bubbless, 52.9ms\n",
      "Speed: 4.0ms preprocess, 52.9ms inference, 5.0ms postprocess per image at shape (1, 3, 608, 800)\n"
     ]
    },
    {
     "name": "stderr",
     "output_type": "stream",
     "text": [
      "  1%|          | 18/1798 [16:36<27:20:41, 55.30s/it]"
     ]
    },
    {
     "name": "stdout",
     "output_type": "stream",
     "text": [
      "0: 608x800 300 Bubbless, 80.8ms\n",
      "Speed: 5.0ms preprocess, 80.8ms inference, 5.0ms postprocess per image at shape (1, 3, 608, 800)\n"
     ]
    },
    {
     "name": "stderr",
     "output_type": "stream",
     "text": [
      "  1%|          | 19/1798 [17:29<26:51:14, 54.34s/it]"
     ]
    },
    {
     "name": "stdout",
     "output_type": "stream",
     "text": [
      "0: 608x800 300 Bubbless, 91.8ms\n",
      "Speed: 6.0ms preprocess, 91.8ms inference, 6.0ms postprocess per image at shape (1, 3, 608, 800)\n"
     ]
    },
    {
     "name": "stderr",
     "output_type": "stream",
     "text": [
      "  1%|          | 20/1798 [18:24<27:02:14, 54.74s/it]"
     ]
    },
    {
     "name": "stdout",
     "output_type": "stream",
     "text": [
      "0: 608x800 300 Bubbless, 113.5ms\n",
      "Speed: 4.0ms preprocess, 113.5ms inference, 6.0ms postprocess per image at shape (1, 3, 608, 800)\n"
     ]
    },
    {
     "name": "stderr",
     "output_type": "stream",
     "text": [
      "  1%|          | 21/1798 [19:21<27:20:59, 55.41s/it]"
     ]
    },
    {
     "name": "stdout",
     "output_type": "stream",
     "text": [
      "0: 608x800 300 Bubbless, 62.9ms\n",
      "Speed: 5.0ms preprocess, 62.9ms inference, 15.0ms postprocess per image at shape (1, 3, 608, 800)\n"
     ]
    },
    {
     "name": "stderr",
     "output_type": "stream",
     "text": [
      "  1%|          | 22/1798 [20:15<27:08:04, 55.00s/it]"
     ]
    },
    {
     "name": "stdout",
     "output_type": "stream",
     "text": [
      "0: 608x800 300 Bubbless, 126.7ms\n",
      "Speed: 8.0ms preprocess, 126.7ms inference, 3.0ms postprocess per image at shape (1, 3, 608, 800)\n"
     ]
    },
    {
     "name": "stderr",
     "output_type": "stream",
     "text": [
      "  1%|▏         | 23/1798 [21:10<27:04:10, 54.90s/it]"
     ]
    },
    {
     "name": "stdout",
     "output_type": "stream",
     "text": [
      "0: 608x800 300 Bubbless, 10.0ms\n",
      "Speed: 5.0ms preprocess, 10.0ms inference, 5.0ms postprocess per image at shape (1, 3, 608, 800)\n"
     ]
    },
    {
     "name": "stderr",
     "output_type": "stream",
     "text": [
      "  1%|▏         | 24/1798 [22:04<26:59:41, 54.78s/it]"
     ]
    },
    {
     "name": "stdout",
     "output_type": "stream",
     "text": [
      "0: 608x800 300 Bubbless, 82.4ms\n",
      "Speed: 6.0ms preprocess, 82.4ms inference, 5.0ms postprocess per image at shape (1, 3, 608, 800)\n"
     ]
    },
    {
     "name": "stderr",
     "output_type": "stream",
     "text": [
      "  1%|▏         | 25/1798 [22:59<26:58:48, 54.78s/it]"
     ]
    },
    {
     "name": "stdout",
     "output_type": "stream",
     "text": [
      "0: 608x800 300 Bubbless, 123.4ms\n",
      "Speed: 13.0ms preprocess, 123.4ms inference, 4.0ms postprocess per image at shape (1, 3, 608, 800)\n"
     ]
    },
    {
     "name": "stderr",
     "output_type": "stream",
     "text": [
      "  1%|▏         | 26/1798 [23:54<26:58:34, 54.81s/it]"
     ]
    },
    {
     "name": "stdout",
     "output_type": "stream",
     "text": [
      "0: 608x800 300 Bubbless, 80.8ms\n",
      "Speed: 9.0ms preprocess, 80.8ms inference, 4.0ms postprocess per image at shape (1, 3, 608, 800)\n"
     ]
    },
    {
     "name": "stderr",
     "output_type": "stream",
     "text": [
      "  2%|▏         | 27/1798 [24:48<26:47:21, 54.46s/it]"
     ]
    },
    {
     "name": "stdout",
     "output_type": "stream",
     "text": [
      "0: 608x800 300 Bubbless, 92.8ms\n",
      "Speed: 5.0ms preprocess, 92.8ms inference, 6.0ms postprocess per image at shape (1, 3, 608, 800)\n"
     ]
    },
    {
     "name": "stderr",
     "output_type": "stream",
     "text": [
      "  2%|▏         | 28/1798 [25:40<26:24:11, 53.70s/it]"
     ]
    },
    {
     "name": "stdout",
     "output_type": "stream",
     "text": [
      "0: 608x800 300 Bubbless, 86.8ms\n",
      "Speed: 5.0ms preprocess, 86.8ms inference, 5.0ms postprocess per image at shape (1, 3, 608, 800)\n"
     ]
    },
    {
     "name": "stderr",
     "output_type": "stream",
     "text": [
      "  2%|▏         | 29/1798 [26:34<26:31:08, 53.97s/it]"
     ]
    },
    {
     "name": "stdout",
     "output_type": "stream",
     "text": [
      "0: 608x800 300 Bubbless, 167.2ms\n",
      "Speed: 10.0ms preprocess, 167.2ms inference, 12.9ms postprocess per image at shape (1, 3, 608, 800)\n"
     ]
    },
    {
     "name": "stderr",
     "output_type": "stream",
     "text": [
      "  2%|▏         | 30/1798 [27:26<26:13:03, 53.38s/it]"
     ]
    },
    {
     "name": "stdout",
     "output_type": "stream",
     "text": [
      "0: 608x800 300 Bubbless, 76.8ms\n",
      "Speed: 10.0ms preprocess, 76.8ms inference, 6.0ms postprocess per image at shape (1, 3, 608, 800)\n"
     ]
    },
    {
     "name": "stderr",
     "output_type": "stream",
     "text": [
      "  2%|▏         | 31/1798 [28:19<26:05:24, 53.15s/it]"
     ]
    },
    {
     "name": "stdout",
     "output_type": "stream",
     "text": [
      "0: 608x800 300 Bubbless, 315.1ms\n",
      "Speed: 11.5ms preprocess, 315.1ms inference, 5.5ms postprocess per image at shape (1, 3, 608, 800)\n"
     ]
    },
    {
     "name": "stderr",
     "output_type": "stream",
     "text": [
      "  2%|▏         | 32/1798 [29:12<26:03:21, 53.12s/it]"
     ]
    },
    {
     "name": "stdout",
     "output_type": "stream",
     "text": [
      "0: 608x800 300 Bubbless, 103.9ms\n",
      "Speed: 4.0ms preprocess, 103.9ms inference, 11.0ms postprocess per image at shape (1, 3, 608, 800)\n"
     ]
    },
    {
     "name": "stderr",
     "output_type": "stream",
     "text": [
      "  2%|▏         | 33/1798 [30:04<25:54:22, 52.84s/it]"
     ]
    },
    {
     "name": "stdout",
     "output_type": "stream",
     "text": [
      "0: 608x800 300 Bubbless, 85.7ms\n",
      "Speed: 7.0ms preprocess, 85.7ms inference, 7.0ms postprocess per image at shape (1, 3, 608, 800)\n"
     ]
    },
    {
     "name": "stderr",
     "output_type": "stream",
     "text": [
      "  2%|▏         | 34/1798 [30:57<25:51:05, 52.76s/it]"
     ]
    },
    {
     "name": "stdout",
     "output_type": "stream",
     "text": [
      "0: 608x800 300 Bubbless, 111.8ms\n",
      "Speed: 6.0ms preprocess, 111.8ms inference, 7.0ms postprocess per image at shape (1, 3, 608, 800)\n"
     ]
    },
    {
     "name": "stderr",
     "output_type": "stream",
     "text": [
      "  2%|▏         | 35/1798 [31:50<25:56:33, 52.97s/it]"
     ]
    },
    {
     "name": "stdout",
     "output_type": "stream",
     "text": [
      "0: 608x800 300 Bubbless, 181.5ms\n",
      "Speed: 10.0ms preprocess, 181.5ms inference, 3.0ms postprocess per image at shape (1, 3, 608, 800)\n"
     ]
    },
    {
     "name": "stderr",
     "output_type": "stream",
     "text": [
      "  2%|▏         | 36/1798 [32:45<26:13:47, 53.59s/it]"
     ]
    },
    {
     "name": "stdout",
     "output_type": "stream",
     "text": [
      "0: 608x800 300 Bubbless, 137.6ms\n",
      "Speed: 7.0ms preprocess, 137.6ms inference, 2.0ms postprocess per image at shape (1, 3, 608, 800)\n"
     ]
    },
    {
     "name": "stderr",
     "output_type": "stream",
     "text": [
      "  2%|▏         | 37/1798 [33:43<26:48:59, 54.82s/it]"
     ]
    },
    {
     "name": "stdout",
     "output_type": "stream",
     "text": [
      "\n",
      "0: 608x800 300 Bubbless, 7.0ms\n",
      "Speed: 3.0ms preprocess, 7.0ms inference, 3.0ms postprocess per image at shape (1, 3, 608, 800)\n"
     ]
    },
    {
     "name": "stderr",
     "output_type": "stream",
     "text": [
      "  2%|▏         | 38/1798 [34:37<26:43:11, 54.65s/it]"
     ]
    },
    {
     "name": "stdout",
     "output_type": "stream",
     "text": [
      "0: 608x800 300 Bubbless, 148.8ms\n",
      "Speed: 5.0ms preprocess, 148.8ms inference, 3.0ms postprocess per image at shape (1, 3, 608, 800)\n"
     ]
    },
    {
     "name": "stderr",
     "output_type": "stream",
     "text": [
      "  2%|▏         | 39/1798 [35:31<26:32:14, 54.31s/it]"
     ]
    },
    {
     "name": "stdout",
     "output_type": "stream",
     "text": [
      "0: 608x800 300 Bubbless, 50.9ms\n",
      "Speed: 4.0ms preprocess, 50.9ms inference, 7.0ms postprocess per image at shape (1, 3, 608, 800)\n"
     ]
    },
    {
     "name": "stderr",
     "output_type": "stream",
     "text": [
      "  2%|▏         | 40/1798 [36:22<26:03:40, 53.37s/it]"
     ]
    },
    {
     "name": "stdout",
     "output_type": "stream",
     "text": [
      "0: 608x800 300 Bubbless, 51.9ms\n",
      "Speed: 4.0ms preprocess, 51.9ms inference, 5.0ms postprocess per image at shape (1, 3, 608, 800)\n"
     ]
    },
    {
     "name": "stderr",
     "output_type": "stream",
     "text": [
      "  2%|▏         | 41/1798 [37:13<25:42:11, 52.66s/it]"
     ]
    },
    {
     "name": "stdout",
     "output_type": "stream",
     "text": [
      "0: 608x800 300 Bubbless, 50.9ms\n",
      "Speed: 4.0ms preprocess, 50.9ms inference, 7.0ms postprocess per image at shape (1, 3, 608, 800)\n"
     ]
    },
    {
     "name": "stderr",
     "output_type": "stream",
     "text": [
      "  2%|▏         | 42/1798 [38:04<25:27:25, 52.19s/it]"
     ]
    },
    {
     "name": "stdout",
     "output_type": "stream",
     "text": [
      "0: 608x800 300 Bubbless, 50.8ms\n",
      "Speed: 4.0ms preprocess, 50.8ms inference, 6.0ms postprocess per image at shape (1, 3, 608, 800)\n"
     ]
    },
    {
     "name": "stderr",
     "output_type": "stream",
     "text": [
      "  2%|▏         | 43/1798 [38:55<25:17:51, 51.89s/it]"
     ]
    },
    {
     "name": "stdout",
     "output_type": "stream",
     "text": [
      "0: 608x800 300 Bubbless, 51.9ms\n",
      "Speed: 3.0ms preprocess, 51.9ms inference, 5.0ms postprocess per image at shape (1, 3, 608, 800)\n"
     ]
    },
    {
     "name": "stderr",
     "output_type": "stream",
     "text": [
      "  2%|▏         | 44/1798 [39:46<25:12:08, 51.73s/it]"
     ]
    },
    {
     "name": "stdout",
     "output_type": "stream",
     "text": [
      "0: 608x800 300 Bubbless, 51.9ms\n",
      "Speed: 4.0ms preprocess, 51.9ms inference, 6.0ms postprocess per image at shape (1, 3, 608, 800)\n"
     ]
    },
    {
     "name": "stderr",
     "output_type": "stream",
     "text": [
      "  3%|▎         | 45/1798 [40:37<25:05:07, 51.52s/it]"
     ]
    },
    {
     "name": "stdout",
     "output_type": "stream",
     "text": [
      "0: 608x800 300 Bubbless, 51.9ms\n",
      "Speed: 3.0ms preprocess, 51.9ms inference, 6.0ms postprocess per image at shape (1, 3, 608, 800)\n"
     ]
    },
    {
     "name": "stderr",
     "output_type": "stream",
     "text": [
      "  3%|▎         | 46/1798 [41:29<25:00:48, 51.40s/it]"
     ]
    },
    {
     "name": "stdout",
     "output_type": "stream",
     "text": [
      "0: 608x800 300 Bubbless, 51.9ms\n",
      "Speed: 4.0ms preprocess, 51.9ms inference, 6.0ms postprocess per image at shape (1, 3, 608, 800)\n"
     ]
    },
    {
     "name": "stderr",
     "output_type": "stream",
     "text": [
      "  3%|▎         | 47/1798 [42:20<24:59:06, 51.37s/it]"
     ]
    },
    {
     "name": "stdout",
     "output_type": "stream",
     "text": [
      "0: 608x800 300 Bubbless, 51.8ms\n",
      "Speed: 4.0ms preprocess, 51.8ms inference, 4.0ms postprocess per image at shape (1, 3, 608, 800)\n"
     ]
    },
    {
     "name": "stderr",
     "output_type": "stream",
     "text": [
      "  3%|▎         | 48/1798 [43:11<24:54:07, 51.23s/it]"
     ]
    },
    {
     "name": "stdout",
     "output_type": "stream",
     "text": [
      "0: 608x800 300 Bubbless, 51.8ms\n",
      "Speed: 4.0ms preprocess, 51.8ms inference, 6.0ms postprocess per image at shape (1, 3, 608, 800)\n"
     ]
    },
    {
     "name": "stderr",
     "output_type": "stream",
     "text": [
      "  3%|▎         | 49/1798 [44:02<24:52:20, 51.20s/it]"
     ]
    },
    {
     "name": "stdout",
     "output_type": "stream",
     "text": [
      "0: 608x800 300 Bubbless, 51.9ms\n",
      "Speed: 4.0ms preprocess, 51.9ms inference, 7.0ms postprocess per image at shape (1, 3, 608, 800)\n"
     ]
    },
    {
     "name": "stderr",
     "output_type": "stream",
     "text": [
      "  3%|▎         | 50/1798 [44:53<24:48:11, 51.08s/it]"
     ]
    },
    {
     "name": "stdout",
     "output_type": "stream",
     "text": [
      "0: 608x800 300 Bubbless, 51.6ms\n",
      "Speed: 5.0ms preprocess, 51.6ms inference, 6.0ms postprocess per image at shape (1, 3, 608, 800)\n"
     ]
    },
    {
     "name": "stderr",
     "output_type": "stream",
     "text": [
      "  3%|▎         | 51/1798 [45:44<24:47:31, 51.09s/it]"
     ]
    },
    {
     "name": "stdout",
     "output_type": "stream",
     "text": [
      "0: 608x800 300 Bubbless, 50.8ms\n",
      "Speed: 3.0ms preprocess, 50.8ms inference, 7.0ms postprocess per image at shape (1, 3, 608, 800)\n"
     ]
    },
    {
     "name": "stderr",
     "output_type": "stream",
     "text": [
      "  3%|▎         | 52/1798 [46:35<24:45:41, 51.05s/it]"
     ]
    },
    {
     "name": "stdout",
     "output_type": "stream",
     "text": [
      "0: 608x800 300 Bubbless, 50.9ms\n",
      "Speed: 5.0ms preprocess, 50.9ms inference, 6.0ms postprocess per image at shape (1, 3, 608, 800)\n"
     ]
    },
    {
     "name": "stderr",
     "output_type": "stream",
     "text": [
      "  3%|▎         | 53/1798 [47:26<24:46:07, 51.10s/it]"
     ]
    },
    {
     "name": "stdout",
     "output_type": "stream",
     "text": [
      "0: 608x800 300 Bubbless, 51.8ms\n",
      "Speed: 4.0ms preprocess, 51.8ms inference, 5.0ms postprocess per image at shape (1, 3, 608, 800)\n"
     ]
    },
    {
     "name": "stderr",
     "output_type": "stream",
     "text": [
      "  3%|▎         | 54/1798 [48:17<24:43:11, 51.03s/it]"
     ]
    },
    {
     "name": "stdout",
     "output_type": "stream",
     "text": [
      "0: 608x800 300 Bubbless, 51.9ms\n",
      "Speed: 4.0ms preprocess, 51.9ms inference, 7.0ms postprocess per image at shape (1, 3, 608, 800)\n"
     ]
    },
    {
     "name": "stderr",
     "output_type": "stream",
     "text": [
      "  3%|▎         | 55/1798 [49:08<24:42:56, 51.05s/it]"
     ]
    },
    {
     "name": "stdout",
     "output_type": "stream",
     "text": [
      "0: 608x800 300 Bubbless, 50.8ms\n",
      "Speed: 4.0ms preprocess, 50.8ms inference, 6.0ms postprocess per image at shape (1, 3, 608, 800)\n"
     ]
    },
    {
     "name": "stderr",
     "output_type": "stream",
     "text": [
      "  3%|▎         | 56/1798 [49:59<24:39:59, 50.98s/it]"
     ]
    },
    {
     "name": "stdout",
     "output_type": "stream",
     "text": [
      "0: 608x800 300 Bubbless, 51.9ms\n",
      "Speed: 4.0ms preprocess, 51.9ms inference, 6.0ms postprocess per image at shape (1, 3, 608, 800)\n"
     ]
    },
    {
     "name": "stderr",
     "output_type": "stream",
     "text": [
      "  3%|▎         | 57/1798 [50:50<24:38:46, 50.96s/it]"
     ]
    },
    {
     "name": "stdout",
     "output_type": "stream",
     "text": [
      "0: 608x800 300 Bubbless, 51.9ms\n",
      "Speed: 4.0ms preprocess, 51.9ms inference, 7.0ms postprocess per image at shape (1, 3, 608, 800)\n"
     ]
    },
    {
     "name": "stderr",
     "output_type": "stream",
     "text": [
      "  3%|▎         | 58/1798 [51:41<24:39:18, 51.01s/it]"
     ]
    },
    {
     "name": "stdout",
     "output_type": "stream",
     "text": [
      "0: 608x800 300 Bubbless, 52.3ms\n",
      "Speed: 4.0ms preprocess, 52.3ms inference, 5.0ms postprocess per image at shape (1, 3, 608, 800)\n"
     ]
    },
    {
     "name": "stderr",
     "output_type": "stream",
     "text": [
      "  3%|▎         | 59/1798 [52:32<24:38:35, 51.02s/it]"
     ]
    },
    {
     "name": "stdout",
     "output_type": "stream",
     "text": [
      "0: 608x800 300 Bubbless, 51.9ms\n",
      "Speed: 4.0ms preprocess, 51.9ms inference, 5.0ms postprocess per image at shape (1, 3, 608, 800)\n"
     ]
    },
    {
     "name": "stderr",
     "output_type": "stream",
     "text": [
      "  3%|▎         | 60/1798 [53:23<24:39:28, 51.07s/it]"
     ]
    },
    {
     "name": "stdout",
     "output_type": "stream",
     "text": [
      "0: 608x800 300 Bubbless, 50.8ms\n",
      "Speed: 5.0ms preprocess, 50.8ms inference, 5.0ms postprocess per image at shape (1, 3, 608, 800)\n"
     ]
    },
    {
     "name": "stderr",
     "output_type": "stream",
     "text": [
      "  3%|▎         | 61/1798 [54:14<24:40:22, 51.14s/it]"
     ]
    },
    {
     "name": "stdout",
     "output_type": "stream",
     "text": [
      "0: 608x800 300 Bubbless, 51.9ms\n",
      "Speed: 4.0ms preprocess, 51.9ms inference, 6.0ms postprocess per image at shape (1, 3, 608, 800)\n"
     ]
    },
    {
     "name": "stderr",
     "output_type": "stream",
     "text": [
      "  3%|▎         | 62/1798 [55:06<24:41:11, 51.19s/it]"
     ]
    },
    {
     "name": "stdout",
     "output_type": "stream",
     "text": [
      "0: 608x800 300 Bubbless, 51.9ms\n",
      "Speed: 4.0ms preprocess, 51.9ms inference, 5.0ms postprocess per image at shape (1, 3, 608, 800)\n"
     ]
    },
    {
     "name": "stderr",
     "output_type": "stream",
     "text": [
      "  4%|▎         | 63/1798 [55:57<24:40:03, 51.18s/it]"
     ]
    },
    {
     "name": "stdout",
     "output_type": "stream",
     "text": [
      "0: 608x800 300 Bubbless, 50.9ms\n",
      "Speed: 4.0ms preprocess, 50.9ms inference, 5.0ms postprocess per image at shape (1, 3, 608, 800)\n"
     ]
    },
    {
     "name": "stderr",
     "output_type": "stream",
     "text": [
      "  4%|▎         | 64/1798 [56:48<24:36:55, 51.10s/it]"
     ]
    },
    {
     "name": "stdout",
     "output_type": "stream",
     "text": [
      "0: 608x800 300 Bubbless, 50.9ms\n",
      "Speed: 4.0ms preprocess, 50.9ms inference, 5.0ms postprocess per image at shape (1, 3, 608, 800)\n"
     ]
    },
    {
     "name": "stderr",
     "output_type": "stream",
     "text": [
      "  4%|▎         | 65/1798 [57:39<24:37:56, 51.17s/it]"
     ]
    },
    {
     "name": "stdout",
     "output_type": "stream",
     "text": [
      "0: 608x800 300 Bubbless, 51.8ms\n",
      "Speed: 4.0ms preprocess, 51.8ms inference, 6.0ms postprocess per image at shape (1, 3, 608, 800)\n"
     ]
    },
    {
     "name": "stderr",
     "output_type": "stream",
     "text": [
      "  4%|▎         | 66/1798 [58:30<24:38:01, 51.20s/it]"
     ]
    },
    {
     "name": "stdout",
     "output_type": "stream",
     "text": [
      "0: 608x800 300 Bubbless, 50.9ms\n",
      "Speed: 4.0ms preprocess, 50.9ms inference, 6.0ms postprocess per image at shape (1, 3, 608, 800)\n"
     ]
    },
    {
     "name": "stderr",
     "output_type": "stream",
     "text": [
      "  4%|▎         | 67/1798 [59:22<24:38:13, 51.24s/it]"
     ]
    },
    {
     "name": "stdout",
     "output_type": "stream",
     "text": [
      "0: 608x800 286 Bubbless, 51.9ms\n",
      "Speed: 4.0ms preprocess, 51.9ms inference, 6.0ms postprocess per image at shape (1, 3, 608, 800)\n"
     ]
    },
    {
     "name": "stderr",
     "output_type": "stream",
     "text": [
      "  4%|▍         | 68/1798 [1:00:12<24:26:11, 50.85s/it]"
     ]
    },
    {
     "name": "stdout",
     "output_type": "stream",
     "text": [
      "0: 608x800 271 Bubbless, 51.9ms\n",
      "Speed: 5.0ms preprocess, 51.9ms inference, 6.0ms postprocess per image at shape (1, 3, 608, 800)\n"
     ]
    },
    {
     "name": "stderr",
     "output_type": "stream",
     "text": [
      "  4%|▍         | 69/1798 [1:01:01<24:15:56, 50.52s/it]"
     ]
    },
    {
     "name": "stdout",
     "output_type": "stream",
     "text": [
      "0: 608x800 300 Bubbless, 49.9ms\n",
      "Speed: 4.0ms preprocess, 49.9ms inference, 4.0ms postprocess per image at shape (1, 3, 608, 800)\n"
     ]
    },
    {
     "name": "stderr",
     "output_type": "stream",
     "text": [
      "  4%|▍         | 70/1798 [1:01:54<24:31:26, 51.09s/it]"
     ]
    },
    {
     "name": "stdout",
     "output_type": "stream",
     "text": [
      "0: 608x800 278 Bubbless, 43.9ms\n",
      "Speed: 4.0ms preprocess, 43.9ms inference, 8.0ms postprocess per image at shape (1, 3, 608, 800)\n"
     ]
    },
    {
     "name": "stderr",
     "output_type": "stream",
     "text": [
      "  4%|▍         | 71/1798 [1:02:44<24:25:25, 50.91s/it]"
     ]
    },
    {
     "name": "stdout",
     "output_type": "stream",
     "text": [
      "0: 608x800 287 Bubbless, 57.8ms\n",
      "Speed: 4.0ms preprocess, 57.8ms inference, 5.0ms postprocess per image at shape (1, 3, 608, 800)\n"
     ]
    },
    {
     "name": "stderr",
     "output_type": "stream",
     "text": [
      "  4%|▍         | 72/1798 [1:03:34<24:17:25, 50.66s/it]"
     ]
    },
    {
     "name": "stdout",
     "output_type": "stream",
     "text": [
      "0: 608x800 296 Bubbless, 51.8ms\n",
      "Speed: 4.0ms preprocess, 51.8ms inference, 5.0ms postprocess per image at shape (1, 3, 608, 800)\n"
     ]
    },
    {
     "name": "stderr",
     "output_type": "stream",
     "text": [
      "  4%|▍         | 73/1798 [1:04:25<24:17:18, 50.69s/it]"
     ]
    },
    {
     "name": "stdout",
     "output_type": "stream",
     "text": [
      "0: 608x800 300 Bubbless, 51.9ms\n",
      "Speed: 5.0ms preprocess, 51.9ms inference, 5.0ms postprocess per image at shape (1, 3, 608, 800)\n"
     ]
    },
    {
     "name": "stderr",
     "output_type": "stream",
     "text": [
      "  4%|▍         | 74/1798 [1:05:16<24:20:43, 50.84s/it]"
     ]
    },
    {
     "name": "stdout",
     "output_type": "stream",
     "text": [
      "0: 608x800 300 Bubbless, 50.8ms\n",
      "Speed: 5.0ms preprocess, 50.8ms inference, 5.0ms postprocess per image at shape (1, 3, 608, 800)\n"
     ]
    },
    {
     "name": "stderr",
     "output_type": "stream",
     "text": [
      "  4%|▍         | 75/1798 [1:06:08<24:23:42, 50.97s/it]"
     ]
    },
    {
     "name": "stdout",
     "output_type": "stream",
     "text": [
      "0: 608x800 300 Bubbless, 50.9ms\n",
      "Speed: 4.0ms preprocess, 50.9ms inference, 6.0ms postprocess per image at shape (1, 3, 608, 800)\n"
     ]
    },
    {
     "name": "stderr",
     "output_type": "stream",
     "text": [
      "  4%|▍         | 76/1798 [1:07:01<24:44:37, 51.73s/it]"
     ]
    },
    {
     "name": "stdout",
     "output_type": "stream",
     "text": [
      "0: 608x800 300 Bubbless, 51.9ms\n",
      "Speed: 6.0ms preprocess, 51.9ms inference, 6.0ms postprocess per image at shape (1, 3, 608, 800)\n"
     ]
    },
    {
     "name": "stderr",
     "output_type": "stream",
     "text": [
      "  4%|▍         | 77/1798 [1:07:56<25:14:14, 52.79s/it]"
     ]
    },
    {
     "name": "stdout",
     "output_type": "stream",
     "text": [
      "0: 608x800 300 Bubbless, 250.3ms\n",
      "Speed: 4.0ms preprocess, 250.3ms inference, 3.0ms postprocess per image at shape (1, 3, 608, 800)\n"
     ]
    },
    {
     "name": "stderr",
     "output_type": "stream",
     "text": [
      "  4%|▍         | 78/1798 [1:08:52<25:40:51, 53.75s/it]"
     ]
    },
    {
     "name": "stdout",
     "output_type": "stream",
     "text": [
      "0: 608x800 300 Bubbless, 109.4ms\n",
      "Speed: 4.0ms preprocess, 109.4ms inference, 10.0ms postprocess per image at shape (1, 3, 608, 800)\n"
     ]
    },
    {
     "name": "stderr",
     "output_type": "stream",
     "text": [
      "  4%|▍         | 79/1798 [1:09:45<25:33:58, 53.54s/it]"
     ]
    },
    {
     "name": "stdout",
     "output_type": "stream",
     "text": [
      "0: 608x800 300 Bubbless, 51.9ms\n",
      "Speed: 4.0ms preprocess, 51.9ms inference, 4.0ms postprocess per image at shape (1, 3, 608, 800)\n"
     ]
    },
    {
     "name": "stderr",
     "output_type": "stream",
     "text": [
      "  4%|▍         | 80/1798 [1:10:38<25:28:53, 53.40s/it]"
     ]
    },
    {
     "name": "stdout",
     "output_type": "stream",
     "text": [
      "0: 608x800 300 Bubbless, 278.9ms\n",
      "Speed: 6.0ms preprocess, 278.9ms inference, 15.4ms postprocess per image at shape (1, 3, 608, 800)\n"
     ]
    },
    {
     "name": "stderr",
     "output_type": "stream",
     "text": [
      "  5%|▍         | 81/1798 [1:11:32<25:28:41, 53.42s/it]"
     ]
    },
    {
     "name": "stdout",
     "output_type": "stream",
     "text": [
      "0: 608x800 300 Bubbless, 23.9ms\n",
      "Speed: 5.0ms preprocess, 23.9ms inference, 4.0ms postprocess per image at shape (1, 3, 608, 800)\n"
     ]
    },
    {
     "name": "stderr",
     "output_type": "stream",
     "text": [
      "  5%|▍         | 82/1798 [1:12:25<25:26:16, 53.37s/it]"
     ]
    },
    {
     "name": "stdout",
     "output_type": "stream",
     "text": [
      "0: 608x800 300 Bubbless, 51.8ms\n",
      "Speed: 5.0ms preprocess, 51.8ms inference, 7.0ms postprocess per image at shape (1, 3, 608, 800)\n"
     ]
    },
    {
     "name": "stderr",
     "output_type": "stream",
     "text": [
      "  5%|▍         | 83/1798 [1:13:22<25:51:18, 54.27s/it]"
     ]
    },
    {
     "name": "stdout",
     "output_type": "stream",
     "text": [
      "0: 608x800 300 Bubbless, 133.1ms\n",
      "Speed: 4.0ms preprocess, 133.1ms inference, 4.0ms postprocess per image at shape (1, 3, 608, 800)\n"
     ]
    },
    {
     "name": "stderr",
     "output_type": "stream",
     "text": [
      "  5%|▍         | 84/1798 [1:14:16<25:51:35, 54.31s/it]"
     ]
    },
    {
     "name": "stdout",
     "output_type": "stream",
     "text": [
      "0: 608x800 300 Bubbless, 64.3ms\n",
      "Speed: 15.0ms preprocess, 64.3ms inference, 2.0ms postprocess per image at shape (1, 3, 608, 800)\n"
     ]
    },
    {
     "name": "stderr",
     "output_type": "stream",
     "text": [
      "  5%|▍         | 85/1798 [1:15:11<25:55:41, 54.49s/it]"
     ]
    },
    {
     "name": "stdout",
     "output_type": "stream",
     "text": [
      "0: 608x800 296 Bubbless, 178.9ms\n",
      "Speed: 14.0ms preprocess, 178.9ms inference, 2.0ms postprocess per image at shape (1, 3, 608, 800)\n"
     ]
    },
    {
     "name": "stderr",
     "output_type": "stream",
     "text": [
      "  5%|▍         | 86/1798 [1:16:05<25:52:06, 54.40s/it]"
     ]
    },
    {
     "name": "stdout",
     "output_type": "stream",
     "text": [
      "0: 608x800 273 Bubbless, 51.9ms\n",
      "Speed: 7.0ms preprocess, 51.9ms inference, 5.0ms postprocess per image at shape (1, 3, 608, 800)\n"
     ]
    },
    {
     "name": "stderr",
     "output_type": "stream",
     "text": [
      "  5%|▍         | 87/1798 [1:16:57<25:26:49, 53.54s/it]"
     ]
    },
    {
     "name": "stdout",
     "output_type": "stream",
     "text": [
      "0: 608x800 300 Bubbless, 232.1ms\n",
      "Speed: 4.0ms preprocess, 232.1ms inference, 2.0ms postprocess per image at shape (1, 3, 608, 800)\n"
     ]
    },
    {
     "name": "stderr",
     "output_type": "stream",
     "text": [
      "  5%|▍         | 88/1798 [1:17:51<25:34:40, 53.85s/it]"
     ]
    },
    {
     "name": "stdout",
     "output_type": "stream",
     "text": [
      "0: 608x800 300 Bubbless, 243.1ms\n",
      "Speed: 9.0ms preprocess, 243.1ms inference, 3.0ms postprocess per image at shape (1, 3, 608, 800)\n"
     ]
    },
    {
     "name": "stderr",
     "output_type": "stream",
     "text": [
      "  5%|▍         | 89/1798 [1:18:46<25:41:07, 54.11s/it]"
     ]
    },
    {
     "name": "stdout",
     "output_type": "stream",
     "text": [
      "0: 608x800 279 Bubbless, 120.4ms\n",
      "Speed: 4.0ms preprocess, 120.4ms inference, 7.8ms postprocess per image at shape (1, 3, 608, 800)\n"
     ]
    },
    {
     "name": "stderr",
     "output_type": "stream",
     "text": [
      "  5%|▌         | 90/1798 [1:19:39<25:33:13, 53.86s/it]"
     ]
    },
    {
     "name": "stdout",
     "output_type": "stream",
     "text": [
      "0: 608x800 252 Bubbless, 42.1ms\n",
      "Speed: 4.0ms preprocess, 42.1ms inference, 3.0ms postprocess per image at shape (1, 3, 608, 800)\n"
     ]
    },
    {
     "name": "stderr",
     "output_type": "stream",
     "text": [
      "  5%|▌         | 91/1798 [1:20:30<25:05:24, 52.91s/it]"
     ]
    },
    {
     "name": "stdout",
     "output_type": "stream",
     "text": [
      "0: 608x800 300 Bubbless, 118.4ms\n",
      "Speed: 5.0ms preprocess, 118.4ms inference, 5.0ms postprocess per image at shape (1, 3, 608, 800)\n"
     ]
    },
    {
     "name": "stderr",
     "output_type": "stream",
     "text": [
      "  5%|▌         | 92/1798 [1:21:24<25:17:34, 53.37s/it]"
     ]
    },
    {
     "name": "stdout",
     "output_type": "stream",
     "text": [
      "0: 608x800 300 Bubbless, 49.9ms\n",
      "Speed: 15.0ms preprocess, 49.9ms inference, 9.8ms postprocess per image at shape (1, 3, 608, 800)\n"
     ]
    },
    {
     "name": "stderr",
     "output_type": "stream",
     "text": [
      "  5%|▌         | 93/1798 [1:22:19<25:25:36, 53.69s/it]"
     ]
    },
    {
     "name": "stdout",
     "output_type": "stream",
     "text": [
      "0: 608x800 258 Bubbless, 181.9ms\n",
      "Speed: 11.0ms preprocess, 181.9ms inference, 4.0ms postprocess per image at shape (1, 3, 608, 800)\n"
     ]
    },
    {
     "name": "stderr",
     "output_type": "stream",
     "text": [
      "  5%|▌         | 94/1798 [1:23:10<25:05:35, 53.01s/it]"
     ]
    },
    {
     "name": "stdout",
     "output_type": "stream",
     "text": [
      "0: 608x800 279 Bubbless, 43.3ms\n",
      "Speed: 4.0ms preprocess, 43.3ms inference, 7.0ms postprocess per image at shape (1, 3, 608, 800)\n"
     ]
    },
    {
     "name": "stderr",
     "output_type": "stream",
     "text": [
      "  5%|▌         | 95/1798 [1:24:12<26:16:42, 55.55s/it]"
     ]
    },
    {
     "name": "stdout",
     "output_type": "stream",
     "text": [
      "0: 608x800 262 Bubbless, 32.1ms\n",
      "Speed: 4.0ms preprocess, 32.1ms inference, 4.0ms postprocess per image at shape (1, 3, 608, 800)\n"
     ]
    },
    {
     "name": "stderr",
     "output_type": "stream",
     "text": [
      "  5%|▌         | 96/1798 [1:25:09<26:31:53, 56.12s/it]"
     ]
    },
    {
     "name": "stdout",
     "output_type": "stream",
     "text": [
      "0: 608x800 291 Bubbless, 23.4ms\n",
      "Speed: 4.0ms preprocess, 23.4ms inference, 20.9ms postprocess per image at shape (1, 3, 608, 800)\n"
     ]
    },
    {
     "name": "stderr",
     "output_type": "stream",
     "text": [
      "  5%|▌         | 97/1798 [1:26:05<26:31:12, 56.13s/it]"
     ]
    },
    {
     "name": "stdout",
     "output_type": "stream",
     "text": [
      "0: 608x800 280 Bubbless, 10.0ms\n",
      "Speed: 4.0ms preprocess, 10.0ms inference, 6.0ms postprocess per image at shape (1, 3, 608, 800)\n"
     ]
    },
    {
     "name": "stderr",
     "output_type": "stream",
     "text": [
      "  5%|▌         | 98/1798 [1:27:03<26:48:42, 56.78s/it]"
     ]
    },
    {
     "name": "stdout",
     "output_type": "stream",
     "text": [
      "0: 608x800 300 Bubbless, 12.0ms\n",
      "Speed: 4.0ms preprocess, 12.0ms inference, 6.0ms postprocess per image at shape (1, 3, 608, 800)\n"
     ]
    },
    {
     "name": "stderr",
     "output_type": "stream",
     "text": [
      "  6%|▌         | 99/1798 [1:28:02<27:01:33, 57.27s/it]"
     ]
    },
    {
     "name": "stdout",
     "output_type": "stream",
     "text": [
      "0: 608x800 291 Bubbless, 24.9ms\n",
      "Speed: 6.0ms preprocess, 24.9ms inference, 3.0ms postprocess per image at shape (1, 3, 608, 800)\n"
     ]
    },
    {
     "name": "stderr",
     "output_type": "stream",
     "text": [
      "  6%|▌         | 100/1798 [1:28:59<26:58:04, 57.18s/it]"
     ]
    },
    {
     "name": "stdout",
     "output_type": "stream",
     "text": [
      "0: 608x800 300 Bubbless, 18.9ms\n",
      "Speed: 4.0ms preprocess, 18.9ms inference, 5.0ms postprocess per image at shape (1, 3, 608, 800)\n"
     ]
    },
    {
     "name": "stderr",
     "output_type": "stream",
     "text": [
      "  6%|▌         | 101/1798 [1:29:56<26:53:43, 57.06s/it]"
     ]
    },
    {
     "name": "stdout",
     "output_type": "stream",
     "text": [
      "0: 608x800 300 Bubbless, 18.5ms\n",
      "Speed: 3.0ms preprocess, 18.5ms inference, 4.0ms postprocess per image at shape (1, 3, 608, 800)\n"
     ]
    },
    {
     "name": "stderr",
     "output_type": "stream",
     "text": [
      "  6%|▌         | 102/1798 [1:30:53<26:52:04, 57.03s/it]"
     ]
    },
    {
     "name": "stdout",
     "output_type": "stream",
     "text": [
      "0: 608x800 300 Bubbless, 30.9ms\n",
      "Speed: 4.0ms preprocess, 30.9ms inference, 3.0ms postprocess per image at shape (1, 3, 608, 800)\n"
     ]
    },
    {
     "name": "stderr",
     "output_type": "stream",
     "text": [
      "  6%|▌         | 103/1798 [1:31:56<27:44:50, 58.93s/it]"
     ]
    },
    {
     "name": "stdout",
     "output_type": "stream",
     "text": [
      "0: 608x800 300 Bubbless, 9.0ms\n",
      "Speed: 4.0ms preprocess, 9.0ms inference, 10.0ms postprocess per image at shape (1, 3, 608, 800)\n"
     ]
    },
    {
     "name": "stderr",
     "output_type": "stream",
     "text": [
      "  6%|▌         | 104/1798 [1:32:59<28:21:20, 60.26s/it]"
     ]
    },
    {
     "name": "stdout",
     "output_type": "stream",
     "text": [
      "0: 608x800 287 Bubbless, 9.0ms\n",
      "Speed: 3.0ms preprocess, 9.0ms inference, 12.0ms postprocess per image at shape (1, 3, 608, 800)\n"
     ]
    },
    {
     "name": "stderr",
     "output_type": "stream",
     "text": [
      "  6%|▌         | 105/1798 [1:34:00<28:25:20, 60.44s/it]"
     ]
    },
    {
     "name": "stdout",
     "output_type": "stream",
     "text": [
      "0: 608x800 300 Bubbless, 19.9ms\n",
      "Speed: 5.0ms preprocess, 19.9ms inference, 4.0ms postprocess per image at shape (1, 3, 608, 800)\n"
     ]
    },
    {
     "name": "stderr",
     "output_type": "stream",
     "text": [
      "  6%|▌         | 106/1798 [1:35:05<29:01:37, 61.76s/it]"
     ]
    },
    {
     "name": "stdout",
     "output_type": "stream",
     "text": [
      "0: 608x800 283 Bubbless, 10.9ms\n",
      "Speed: 5.0ms preprocess, 10.9ms inference, 7.0ms postprocess per image at shape (1, 3, 608, 800)\n"
     ]
    },
    {
     "name": "stderr",
     "output_type": "stream",
     "text": [
      "  6%|▌         | 107/1798 [1:36:12<29:42:29, 63.25s/it]"
     ]
    },
    {
     "name": "stdout",
     "output_type": "stream",
     "text": [
      "0: 608x800 300 Bubbless, 14.0ms\n",
      "Speed: 5.0ms preprocess, 14.0ms inference, 8.0ms postprocess per image at shape (1, 3, 608, 800)\n"
     ]
    },
    {
     "name": "stderr",
     "output_type": "stream",
     "text": [
      "  6%|▌         | 108/1798 [1:37:19<30:14:54, 64.43s/it]"
     ]
    },
    {
     "name": "stdout",
     "output_type": "stream",
     "text": [
      "0: 608x800 295 Bubbless, 10.0ms\n",
      "Speed: 4.0ms preprocess, 10.0ms inference, 5.0ms postprocess per image at shape (1, 3, 608, 800)\n"
     ]
    },
    {
     "name": "stderr",
     "output_type": "stream",
     "text": [
      "  6%|▌         | 109/1798 [1:38:25<30:28:58, 64.97s/it]"
     ]
    },
    {
     "name": "stdout",
     "output_type": "stream",
     "text": [
      "0: 608x800 300 Bubbless, 20.9ms\n",
      "Speed: 4.0ms preprocess, 20.9ms inference, 3.0ms postprocess per image at shape (1, 3, 608, 800)\n"
     ]
    },
    {
     "name": "stderr",
     "output_type": "stream",
     "text": [
      "  6%|▌         | 110/1798 [1:39:27<30:04:06, 64.13s/it]"
     ]
    },
    {
     "name": "stdout",
     "output_type": "stream",
     "text": [
      "\n",
      "0: 608x800 300 Bubbless, 13.0ms\n",
      "Speed: 4.5ms preprocess, 13.0ms inference, 4.0ms postprocess per image at shape (1, 3, 608, 800)\n"
     ]
    },
    {
     "name": "stderr",
     "output_type": "stream",
     "text": [
      "  6%|▌         | 111/1798 [1:40:29<29:41:30, 63.36s/it]"
     ]
    },
    {
     "name": "stdout",
     "output_type": "stream",
     "text": [
      "0: 608x800 300 Bubbless, 14.0ms\n",
      "Speed: 4.0ms preprocess, 14.0ms inference, 4.0ms postprocess per image at shape (1, 3, 608, 800)\n"
     ]
    },
    {
     "name": "stderr",
     "output_type": "stream",
     "text": [
      "  6%|▌         | 112/1798 [1:41:29<29:15:42, 62.48s/it]"
     ]
    },
    {
     "name": "stdout",
     "output_type": "stream",
     "text": [
      "0: 608x800 300 Bubbless, 15.0ms\n",
      "Speed: 4.0ms preprocess, 15.0ms inference, 4.0ms postprocess per image at shape (1, 3, 608, 800)\n"
     ]
    },
    {
     "name": "stderr",
     "output_type": "stream",
     "text": [
      "  6%|▋         | 113/1798 [1:42:28<28:43:08, 61.36s/it]"
     ]
    },
    {
     "name": "stdout",
     "output_type": "stream",
     "text": [
      "0: 608x800 300 Bubbless, 17.0ms\n",
      "Speed: 4.0ms preprocess, 17.0ms inference, 4.0ms postprocess per image at shape (1, 3, 608, 800)\n"
     ]
    },
    {
     "name": "stderr",
     "output_type": "stream",
     "text": [
      "  6%|▋         | 114/1798 [1:43:29<28:41:04, 61.32s/it]"
     ]
    },
    {
     "name": "stdout",
     "output_type": "stream",
     "text": [
      "0: 608x800 300 Bubbless, 11.0ms\n",
      "Speed: 5.0ms preprocess, 11.0ms inference, 7.0ms postprocess per image at shape (1, 3, 608, 800)\n"
     ]
    },
    {
     "name": "stderr",
     "output_type": "stream",
     "text": [
      "  6%|▋         | 115/1798 [1:44:33<29:01:22, 62.08s/it]"
     ]
    },
    {
     "name": "stdout",
     "output_type": "stream",
     "text": [
      "0: 608x800 300 Bubbless, 12.0ms\n",
      "Speed: 6.0ms preprocess, 12.0ms inference, 9.0ms postprocess per image at shape (1, 3, 608, 800)\n"
     ]
    },
    {
     "name": "stderr",
     "output_type": "stream",
     "text": [
      "  6%|▋         | 116/1798 [1:45:46<30:29:05, 65.25s/it]"
     ]
    },
    {
     "name": "stdout",
     "output_type": "stream",
     "text": [
      "0: 608x800 300 Bubbless, 11.0ms\n",
      "Speed: 4.0ms preprocess, 11.0ms inference, 3.0ms postprocess per image at shape (1, 3, 608, 800)\n"
     ]
    },
    {
     "name": "stderr",
     "output_type": "stream",
     "text": [
      "  7%|▋         | 117/1798 [1:46:55<30:58:57, 66.35s/it]"
     ]
    },
    {
     "name": "stdout",
     "output_type": "stream",
     "text": [
      "0: 608x800 245 Bubbless, 18.0ms\n",
      "Speed: 5.0ms preprocess, 18.0ms inference, 12.0ms postprocess per image at shape (1, 3, 608, 800)\n"
     ]
    },
    {
     "name": "stderr",
     "output_type": "stream",
     "text": [
      "  7%|▋         | 118/1798 [1:48:22<33:57:38, 72.77s/it]"
     ]
    },
    {
     "name": "stdout",
     "output_type": "stream",
     "text": [
      "0: 608x800 300 Bubbless, 22.9ms\n",
      "Speed: 6.0ms preprocess, 22.9ms inference, 10.0ms postprocess per image at shape (1, 3, 608, 800)\n"
     ]
    },
    {
     "name": "stderr",
     "output_type": "stream",
     "text": [
      "  7%|▋         | 119/1798 [1:49:46<35:30:04, 76.12s/it]"
     ]
    },
    {
     "name": "stdout",
     "output_type": "stream",
     "text": [
      "0: 608x800 226 Bubbless, 16.0ms\n",
      "Speed: 6.0ms preprocess, 16.0ms inference, 13.0ms postprocess per image at shape (1, 3, 608, 800)\n"
     ]
    },
    {
     "name": "stderr",
     "output_type": "stream",
     "text": [
      "  7%|▋         | 120/1798 [1:51:00<35:04:32, 75.25s/it]"
     ]
    },
    {
     "name": "stdout",
     "output_type": "stream",
     "text": [
      "0: 608x800 295 Bubbless, 14.0ms\n",
      "Speed: 6.0ms preprocess, 14.0ms inference, 4.0ms postprocess per image at shape (1, 3, 608, 800)\n"
     ]
    },
    {
     "name": "stderr",
     "output_type": "stream",
     "text": [
      "  7%|▋         | 121/1798 [1:52:12<34:40:04, 74.42s/it]"
     ]
    },
    {
     "name": "stdout",
     "output_type": "stream",
     "text": [
      "0: 608x800 257 Bubbless, 27.9ms\n",
      "Speed: 4.0ms preprocess, 27.9ms inference, 4.0ms postprocess per image at shape (1, 3, 608, 800)\n"
     ]
    },
    {
     "name": "stderr",
     "output_type": "stream",
     "text": [
      "  7%|▋         | 122/1798 [1:53:26<34:34:51, 74.28s/it]"
     ]
    },
    {
     "name": "stdout",
     "output_type": "stream",
     "text": [
      "0: 608x800 300 Bubbless, 19.9ms\n",
      "Speed: 6.0ms preprocess, 19.9ms inference, 4.0ms postprocess per image at shape (1, 3, 608, 800)\n"
     ]
    },
    {
     "name": "stderr",
     "output_type": "stream",
     "text": [
      "  7%|▋         | 123/1798 [1:54:55<36:39:44, 78.80s/it]"
     ]
    },
    {
     "name": "stdout",
     "output_type": "stream",
     "text": [
      "0: 608x800 275 Bubbless, 17.0ms\n",
      "Speed: 4.0ms preprocess, 17.0ms inference, 3.0ms postprocess per image at shape (1, 3, 608, 800)\n"
     ]
    },
    {
     "name": "stderr",
     "output_type": "stream",
     "text": [
      "  7%|▋         | 124/1798 [1:56:14<36:38:35, 78.80s/it]"
     ]
    },
    {
     "name": "stdout",
     "output_type": "stream",
     "text": [
      "0: 608x800 294 Bubbless, 19.9ms\n",
      "Speed: 4.0ms preprocess, 19.9ms inference, 5.0ms postprocess per image at shape (1, 3, 608, 800)\n"
     ]
    },
    {
     "name": "stderr",
     "output_type": "stream",
     "text": [
      "  7%|▋         | 125/1798 [1:57:33<36:34:39, 78.71s/it]"
     ]
    },
    {
     "name": "stdout",
     "output_type": "stream",
     "text": [
      "0: 608x800 300 Bubbless, 19.6ms\n",
      "Speed: 4.0ms preprocess, 19.6ms inference, 7.0ms postprocess per image at shape (1, 3, 608, 800)\n"
     ]
    },
    {
     "name": "stderr",
     "output_type": "stream",
     "text": [
      "  7%|▋         | 126/1798 [1:58:54<36:55:56, 79.52s/it]"
     ]
    },
    {
     "name": "stdout",
     "output_type": "stream",
     "text": [
      "0: 608x800 280 Bubbless, 17.0ms\n",
      "Speed: 5.0ms preprocess, 17.0ms inference, 14.0ms postprocess per image at shape (1, 3, 608, 800)\n"
     ]
    },
    {
     "name": "stderr",
     "output_type": "stream",
     "text": [
      "  7%|▋         | 127/1798 [2:00:13<36:49:13, 79.33s/it]"
     ]
    },
    {
     "name": "stdout",
     "output_type": "stream",
     "text": [
      "0: 608x800 300 Bubbless, 17.0ms\n",
      "Speed: 6.0ms preprocess, 17.0ms inference, 3.0ms postprocess per image at shape (1, 3, 608, 800)\n"
     ]
    },
    {
     "name": "stderr",
     "output_type": "stream",
     "text": [
      "  7%|▋         | 128/1798 [2:01:26<35:54:04, 77.39s/it]"
     ]
    },
    {
     "name": "stdout",
     "output_type": "stream",
     "text": [
      "0: 608x800 300 Bubbless, 21.9ms\n",
      "Speed: 6.0ms preprocess, 21.9ms inference, 6.0ms postprocess per image at shape (1, 3, 608, 800)\n"
     ]
    },
    {
     "name": "stderr",
     "output_type": "stream",
     "text": [
      "  7%|▋         | 129/1798 [2:02:26<33:28:38, 72.21s/it]"
     ]
    },
    {
     "name": "stdout",
     "output_type": "stream",
     "text": [
      "0: 608x800 300 Bubbless, 18.0ms\n",
      "Speed: 4.0ms preprocess, 18.0ms inference, 4.0ms postprocess per image at shape (1, 3, 608, 800)\n"
     ]
    },
    {
     "name": "stderr",
     "output_type": "stream",
     "text": [
      "  7%|▋         | 130/1798 [2:03:39<33:31:04, 72.34s/it]"
     ]
    },
    {
     "name": "stdout",
     "output_type": "stream",
     "text": [
      "0: 608x800 299 Bubbless, 44.9ms\n",
      "Speed: 5.0ms preprocess, 44.9ms inference, 6.0ms postprocess per image at shape (1, 3, 608, 800)\n"
     ]
    },
    {
     "name": "stderr",
     "output_type": "stream",
     "text": [
      "  7%|▋         | 131/1798 [2:05:01<34:54:13, 75.38s/it]"
     ]
    },
    {
     "name": "stdout",
     "output_type": "stream",
     "text": [
      "0: 608x800 283 Bubbless, 23.9ms\n",
      "Speed: 5.0ms preprocess, 23.9ms inference, 14.0ms postprocess per image at shape (1, 3, 608, 800)\n"
     ]
    },
    {
     "name": "stderr",
     "output_type": "stream",
     "text": [
      "  7%|▋         | 132/1798 [2:06:16<34:45:51, 75.12s/it]"
     ]
    },
    {
     "name": "stdout",
     "output_type": "stream",
     "text": [
      "0: 608x800 280 Bubbless, 21.9ms\n",
      "Speed: 6.0ms preprocess, 21.9ms inference, 5.0ms postprocess per image at shape (1, 3, 608, 800)\n"
     ]
    },
    {
     "name": "stderr",
     "output_type": "stream",
     "text": [
      "  7%|▋         | 133/1798 [2:07:23<33:36:54, 72.68s/it]"
     ]
    },
    {
     "name": "stdout",
     "output_type": "stream",
     "text": [
      "0: 608x800 278 Bubbless, 17.0ms\n",
      "Speed: 4.0ms preprocess, 17.0ms inference, 5.0ms postprocess per image at shape (1, 3, 608, 800)\n"
     ]
    },
    {
     "name": "stderr",
     "output_type": "stream",
     "text": [
      "  7%|▋         | 134/1798 [2:08:30<32:54:01, 71.18s/it]"
     ]
    },
    {
     "name": "stdout",
     "output_type": "stream",
     "text": [
      "0: 608x800 250 Bubbless, 25.9ms\n",
      "Speed: 4.0ms preprocess, 25.9ms inference, 3.0ms postprocess per image at shape (1, 3, 608, 800)\n"
     ]
    },
    {
     "name": "stderr",
     "output_type": "stream",
     "text": [
      "  8%|▊         | 135/1798 [2:09:32<31:38:18, 68.49s/it]"
     ]
    },
    {
     "name": "stdout",
     "output_type": "stream",
     "text": [
      "0: 608x800 266 Bubbless, 18.5ms\n",
      "Speed: 5.0ms preprocess, 18.5ms inference, 6.0ms postprocess per image at shape (1, 3, 608, 800)\n"
     ]
    },
    {
     "name": "stderr",
     "output_type": "stream",
     "text": [
      "  8%|▊         | 136/1798 [2:10:34<30:38:18, 66.36s/it]"
     ]
    },
    {
     "name": "stdout",
     "output_type": "stream",
     "text": [
      "0: 608x800 300 Bubbless, 10.0ms\n",
      "Speed: 4.0ms preprocess, 10.0ms inference, 5.0ms postprocess per image at shape (1, 3, 608, 800)\n"
     ]
    },
    {
     "name": "stderr",
     "output_type": "stream",
     "text": [
      "  8%|▊         | 137/1798 [2:11:34<29:48:25, 64.60s/it]"
     ]
    },
    {
     "name": "stdout",
     "output_type": "stream",
     "text": [
      "0: 608x800 260 Bubbless, 26.9ms\n",
      "Speed: 4.0ms preprocess, 26.9ms inference, 5.0ms postprocess per image at shape (1, 3, 608, 800)\n"
     ]
    },
    {
     "name": "stderr",
     "output_type": "stream",
     "text": [
      "  8%|▊         | 138/1798 [2:12:27<28:09:31, 61.07s/it]"
     ]
    },
    {
     "name": "stdout",
     "output_type": "stream",
     "text": [
      "0: 608x800 257 Bubbless, 50.8ms\n",
      "Speed: 4.0ms preprocess, 50.8ms inference, 4.0ms postprocess per image at shape (1, 3, 608, 800)\n"
     ]
    },
    {
     "name": "stderr",
     "output_type": "stream",
     "text": [
      "  8%|▊         | 139/1798 [2:13:18<26:41:49, 57.93s/it]"
     ]
    },
    {
     "name": "stdout",
     "output_type": "stream",
     "text": [
      "0: 608x800 229 Bubbless, 59.8ms\n",
      "Speed: 5.0ms preprocess, 59.8ms inference, 6.0ms postprocess per image at shape (1, 3, 608, 800)\n"
     ]
    },
    {
     "name": "stderr",
     "output_type": "stream",
     "text": [
      "  8%|▊         | 140/1798 [2:14:07<25:27:10, 55.27s/it]"
     ]
    },
    {
     "name": "stdout",
     "output_type": "stream",
     "text": [
      "0: 608x800 257 Bubbless, 51.9ms\n",
      "Speed: 3.0ms preprocess, 51.9ms inference, 5.0ms postprocess per image at shape (1, 3, 608, 800)\n"
     ]
    },
    {
     "name": "stderr",
     "output_type": "stream",
     "text": [
      "  8%|▊         | 141/1798 [2:14:56<24:36:50, 53.48s/it]"
     ]
    },
    {
     "name": "stdout",
     "output_type": "stream",
     "text": [
      "0: 608x800 246 Bubbless, 59.8ms\n",
      "Speed: 7.0ms preprocess, 59.8ms inference, 5.0ms postprocess per image at shape (1, 3, 608, 800)\n"
     ]
    },
    {
     "name": "stderr",
     "output_type": "stream",
     "text": [
      "  8%|▊         | 142/1798 [2:15:48<24:18:31, 52.84s/it]"
     ]
    },
    {
     "name": "stdout",
     "output_type": "stream",
     "text": [
      "0: 608x800 249 Bubbless, 200.6ms\n",
      "Speed: 7.0ms preprocess, 200.6ms inference, 7.0ms postprocess per image at shape (1, 3, 608, 800)\n"
     ]
    },
    {
     "name": "stderr",
     "output_type": "stream",
     "text": [
      "  8%|▊         | 143/1798 [2:16:38<24:00:41, 52.23s/it]"
     ]
    },
    {
     "name": "stdout",
     "output_type": "stream",
     "text": [
      "0: 608x800 249 Bubbless, 51.9ms\n",
      "Speed: 4.0ms preprocess, 51.9ms inference, 4.0ms postprocess per image at shape (1, 3, 608, 800)\n"
     ]
    },
    {
     "name": "stderr",
     "output_type": "stream",
     "text": [
      "  8%|▊         | 144/1798 [2:17:28<23:40:25, 51.53s/it]"
     ]
    },
    {
     "name": "stdout",
     "output_type": "stream",
     "text": [
      "0: 608x800 259 Bubbless, 184.5ms\n",
      "Speed: 4.0ms preprocess, 184.5ms inference, 11.0ms postprocess per image at shape (1, 3, 608, 800)\n"
     ]
    },
    {
     "name": "stderr",
     "output_type": "stream",
     "text": [
      "  8%|▊         | 145/1798 [2:18:20<23:43:05, 51.66s/it]"
     ]
    },
    {
     "name": "stdout",
     "output_type": "stream",
     "text": [
      "0: 608x800 241 Bubbless, 91.8ms\n",
      "Speed: 4.0ms preprocess, 91.8ms inference, 5.0ms postprocess per image at shape (1, 3, 608, 800)\n"
     ]
    },
    {
     "name": "stderr",
     "output_type": "stream",
     "text": [
      "  8%|▊         | 146/1798 [2:19:09<23:18:42, 50.80s/it]"
     ]
    },
    {
     "name": "stdout",
     "output_type": "stream",
     "text": [
      "0: 608x800 300 Bubbless, 50.9ms\n",
      "Speed: 5.0ms preprocess, 50.9ms inference, 5.0ms postprocess per image at shape (1, 3, 608, 800)\n"
     ]
    },
    {
     "name": "stderr",
     "output_type": "stream",
     "text": [
      "  8%|▊         | 147/1798 [2:20:01<23:31:33, 51.30s/it]"
     ]
    },
    {
     "name": "stdout",
     "output_type": "stream",
     "text": [
      "0: 608x800 300 Bubbless, 52.9ms\n",
      "Speed: 4.0ms preprocess, 52.9ms inference, 5.0ms postprocess per image at shape (1, 3, 608, 800)\n"
     ]
    },
    {
     "name": "stderr",
     "output_type": "stream",
     "text": [
      "  8%|▊         | 148/1798 [2:20:54<23:39:33, 51.62s/it]"
     ]
    },
    {
     "name": "stdout",
     "output_type": "stream",
     "text": [
      "0: 608x800 296 Bubbless, 60.8ms\n",
      "Speed: 6.0ms preprocess, 60.8ms inference, 9.0ms postprocess per image at shape (1, 3, 608, 800)\n"
     ]
    },
    {
     "name": "stderr",
     "output_type": "stream",
     "text": [
      "  8%|▊         | 149/1798 [2:21:46<23:40:59, 51.70s/it]"
     ]
    },
    {
     "name": "stdout",
     "output_type": "stream",
     "text": [
      "0: 608x800 300 Bubbless, 50.9ms\n",
      "Speed: 5.0ms preprocess, 50.9ms inference, 5.0ms postprocess per image at shape (1, 3, 608, 800)\n"
     ]
    },
    {
     "name": "stderr",
     "output_type": "stream",
     "text": [
      "  8%|▊         | 150/1798 [2:22:40<24:04:07, 52.58s/it]"
     ]
    },
    {
     "name": "stdout",
     "output_type": "stream",
     "text": [
      "0: 608x800 281 Bubbless, 52.9ms\n",
      "Speed: 4.0ms preprocess, 52.9ms inference, 7.0ms postprocess per image at shape (1, 3, 608, 800)\n"
     ]
    },
    {
     "name": "stderr",
     "output_type": "stream",
     "text": [
      "  8%|▊         | 151/1798 [2:23:32<23:59:06, 52.43s/it]"
     ]
    },
    {
     "name": "stdout",
     "output_type": "stream",
     "text": [
      "0: 608x800 292 Bubbless, 52.8ms\n",
      "Speed: 4.0ms preprocess, 52.8ms inference, 4.0ms postprocess per image at shape (1, 3, 608, 800)\n"
     ]
    },
    {
     "name": "stderr",
     "output_type": "stream",
     "text": [
      "  8%|▊         | 152/1798 [2:24:24<23:53:57, 52.27s/it]"
     ]
    },
    {
     "name": "stdout",
     "output_type": "stream",
     "text": [
      "0: 608x800 268 Bubbless, 55.9ms\n",
      "Speed: 4.0ms preprocess, 55.9ms inference, 5.0ms postprocess per image at shape (1, 3, 608, 800)\n"
     ]
    },
    {
     "name": "stderr",
     "output_type": "stream",
     "text": [
      "  9%|▊         | 153/1798 [2:25:25<25:02:13, 54.79s/it]"
     ]
    },
    {
     "name": "stdout",
     "output_type": "stream",
     "text": [
      "0: 608x800 284 Bubbless, 62.8ms\n",
      "Speed: 4.0ms preprocess, 62.8ms inference, 6.0ms postprocess per image at shape (1, 3, 608, 800)\n"
     ]
    },
    {
     "name": "stderr",
     "output_type": "stream",
     "text": [
      "  9%|▊         | 154/1798 [2:26:47<28:48:43, 63.09s/it]"
     ]
    },
    {
     "name": "stdout",
     "output_type": "stream",
     "text": [
      "0: 608x800 278 Bubbless, 52.9ms\n",
      "Speed: 10.0ms preprocess, 52.9ms inference, 4.0ms postprocess per image at shape (1, 3, 608, 800)\n"
     ]
    },
    {
     "name": "stderr",
     "output_type": "stream",
     "text": [
      "  9%|▊         | 155/1798 [2:27:38<27:03:18, 59.28s/it]"
     ]
    },
    {
     "name": "stdout",
     "output_type": "stream",
     "text": [
      "0: 608x800 296 Bubbless, 58.8ms\n",
      "Speed: 4.0ms preprocess, 58.8ms inference, 5.0ms postprocess per image at shape (1, 3, 608, 800)\n"
     ]
    },
    {
     "name": "stderr",
     "output_type": "stream",
     "text": [
      "  9%|▊         | 156/1798 [2:28:29<25:55:19, 56.83s/it]"
     ]
    },
    {
     "name": "stdout",
     "output_type": "stream",
     "text": [
      "0: 608x800 280 Bubbless, 51.8ms\n",
      "Speed: 4.0ms preprocess, 51.8ms inference, 6.0ms postprocess per image at shape (1, 3, 608, 800)\n"
     ]
    },
    {
     "name": "stderr",
     "output_type": "stream",
     "text": [
      "  9%|▊         | 157/1798 [2:29:19<24:59:18, 54.82s/it]"
     ]
    },
    {
     "name": "stdout",
     "output_type": "stream",
     "text": [
      "0: 608x800 288 Bubbless, 51.9ms\n",
      "Speed: 4.0ms preprocess, 51.9ms inference, 6.0ms postprocess per image at shape (1, 3, 608, 800)\n"
     ]
    },
    {
     "name": "stderr",
     "output_type": "stream",
     "text": [
      "  9%|▉         | 158/1798 [2:30:10<24:26:00, 53.63s/it]"
     ]
    },
    {
     "name": "stdout",
     "output_type": "stream",
     "text": [
      "0: 608x800 300 Bubbless, 64.9ms\n",
      "Speed: 4.0ms preprocess, 64.9ms inference, 5.0ms postprocess per image at shape (1, 3, 608, 800)\n"
     ]
    },
    {
     "name": "stderr",
     "output_type": "stream",
     "text": [
      "  9%|▉         | 159/1798 [2:31:02<24:08:38, 53.03s/it]"
     ]
    },
    {
     "name": "stdout",
     "output_type": "stream",
     "text": [
      "0: 608x800 284 Bubbless, 61.8ms\n",
      "Speed: 6.0ms preprocess, 61.8ms inference, 6.0ms postprocess per image at shape (1, 3, 608, 800)\n"
     ]
    },
    {
     "name": "stderr",
     "output_type": "stream",
     "text": [
      "  9%|▉         | 160/1798 [2:31:52<23:44:32, 52.18s/it]"
     ]
    },
    {
     "name": "stdout",
     "output_type": "stream",
     "text": [
      "0: 608x800 264 Bubbless, 61.8ms\n",
      "Speed: 4.0ms preprocess, 61.8ms inference, 6.0ms postprocess per image at shape (1, 3, 608, 800)\n"
     ]
    },
    {
     "name": "stderr",
     "output_type": "stream",
     "text": [
      "  9%|▉         | 161/1798 [2:32:41<23:17:21, 51.22s/it]"
     ]
    },
    {
     "name": "stdout",
     "output_type": "stream",
     "text": [
      "0: 608x800 271 Bubbless, 52.9ms\n",
      "Speed: 4.0ms preprocess, 52.9ms inference, 5.0ms postprocess per image at shape (1, 3, 608, 800)\n"
     ]
    },
    {
     "name": "stderr",
     "output_type": "stream",
     "text": [
      "  9%|▉         | 162/1798 [2:33:30<23:01:50, 50.68s/it]"
     ]
    },
    {
     "name": "stdout",
     "output_type": "stream",
     "text": [
      "0: 608x800 272 Bubbless, 52.9ms\n",
      "Speed: 8.0ms preprocess, 52.9ms inference, 3.0ms postprocess per image at shape (1, 3, 608, 800)\n"
     ]
    },
    {
     "name": "stderr",
     "output_type": "stream",
     "text": [
      "  9%|▉         | 163/1798 [2:34:20<22:50:55, 50.31s/it]"
     ]
    },
    {
     "name": "stdout",
     "output_type": "stream",
     "text": [
      "0: 608x800 258 Bubbless, 50.9ms\n",
      "Speed: 8.0ms preprocess, 50.9ms inference, 5.0ms postprocess per image at shape (1, 3, 608, 800)\n"
     ]
    },
    {
     "name": "stderr",
     "output_type": "stream",
     "text": [
      "  9%|▉         | 164/1798 [2:35:08<22:32:09, 49.65s/it]"
     ]
    },
    {
     "name": "stdout",
     "output_type": "stream",
     "text": [
      "0: 608x800 268 Bubbless, 51.9ms\n",
      "Speed: 5.0ms preprocess, 51.9ms inference, 5.0ms postprocess per image at shape (1, 3, 608, 800)\n"
     ]
    },
    {
     "name": "stderr",
     "output_type": "stream",
     "text": [
      "  9%|▉         | 165/1798 [2:35:57<22:27:47, 49.52s/it]"
     ]
    },
    {
     "name": "stdout",
     "output_type": "stream",
     "text": [
      "0: 608x800 277 Bubbless, 50.9ms\n",
      "Speed: 5.0ms preprocess, 50.9ms inference, 4.0ms postprocess per image at shape (1, 3, 608, 800)\n"
     ]
    },
    {
     "name": "stderr",
     "output_type": "stream",
     "text": [
      "  9%|▉         | 166/1798 [2:36:48<22:41:35, 50.06s/it]"
     ]
    },
    {
     "name": "stdout",
     "output_type": "stream",
     "text": [
      "0: 608x800 279 Bubbless, 52.9ms\n",
      "Speed: 4.0ms preprocess, 52.9ms inference, 5.0ms postprocess per image at shape (1, 3, 608, 800)\n"
     ]
    },
    {
     "name": "stderr",
     "output_type": "stream",
     "text": [
      "  9%|▉         | 167/1798 [2:37:40<22:56:06, 50.62s/it]"
     ]
    },
    {
     "name": "stdout",
     "output_type": "stream",
     "text": [
      "0: 608x800 260 Bubbless, 50.9ms\n",
      "Speed: 4.0ms preprocess, 50.9ms inference, 5.0ms postprocess per image at shape (1, 3, 608, 800)\n"
     ]
    },
    {
     "name": "stderr",
     "output_type": "stream",
     "text": [
      "  9%|▉         | 168/1798 [2:38:28<22:34:20, 49.85s/it]"
     ]
    },
    {
     "name": "stdout",
     "output_type": "stream",
     "text": [
      "0: 608x800 274 Bubbless, 51.9ms\n",
      "Speed: 4.0ms preprocess, 51.9ms inference, 5.0ms postprocess per image at shape (1, 3, 608, 800)\n"
     ]
    },
    {
     "name": "stderr",
     "output_type": "stream",
     "text": [
      "  9%|▉         | 169/1798 [2:39:17<22:27:56, 49.65s/it]"
     ]
    },
    {
     "name": "stdout",
     "output_type": "stream",
     "text": [
      "0: 608x800 300 Bubbless, 50.9ms\n",
      "Speed: 5.0ms preprocess, 50.9ms inference, 5.0ms postprocess per image at shape (1, 3, 608, 800)\n"
     ]
    },
    {
     "name": "stderr",
     "output_type": "stream",
     "text": [
      "  9%|▉         | 170/1798 [2:40:08<22:38:37, 50.07s/it]"
     ]
    },
    {
     "name": "stdout",
     "output_type": "stream",
     "text": [
      "0: 608x800 263 Bubbless, 50.9ms\n",
      "Speed: 10.9ms preprocess, 50.9ms inference, 6.0ms postprocess per image at shape (1, 3, 608, 800)\n"
     ]
    },
    {
     "name": "stderr",
     "output_type": "stream",
     "text": [
      " 10%|▉         | 171/1798 [2:40:57<22:26:07, 49.64s/it]"
     ]
    },
    {
     "name": "stdout",
     "output_type": "stream",
     "text": [
      "0: 608x800 296 Bubbless, 50.8ms\n",
      "Speed: 5.0ms preprocess, 50.8ms inference, 6.0ms postprocess per image at shape (1, 3, 608, 800)\n"
     ]
    },
    {
     "name": "stderr",
     "output_type": "stream",
     "text": [
      " 10%|▉         | 172/1798 [2:41:48<22:37:52, 50.11s/it]"
     ]
    },
    {
     "name": "stdout",
     "output_type": "stream",
     "text": [
      "0: 608x800 269 Bubbless, 51.9ms\n",
      "Speed: 4.0ms preprocess, 51.9ms inference, 5.0ms postprocess per image at shape (1, 3, 608, 800)\n"
     ]
    },
    {
     "name": "stderr",
     "output_type": "stream",
     "text": [
      " 10%|▉         | 173/1798 [2:42:37<22:28:28, 49.79s/it]"
     ]
    },
    {
     "name": "stdout",
     "output_type": "stream",
     "text": [
      "0: 608x800 300 Bubbless, 50.9ms\n",
      "Speed: 4.0ms preprocess, 50.9ms inference, 6.0ms postprocess per image at shape (1, 3, 608, 800)\n"
     ]
    },
    {
     "name": "stderr",
     "output_type": "stream",
     "text": [
      " 10%|▉         | 174/1798 [2:43:28<22:38:03, 50.17s/it]"
     ]
    },
    {
     "name": "stdout",
     "output_type": "stream",
     "text": [
      "0: 608x800 300 Bubbless, 50.9ms\n",
      "Speed: 4.0ms preprocess, 50.9ms inference, 5.0ms postprocess per image at shape (1, 3, 608, 800)\n"
     ]
    },
    {
     "name": "stderr",
     "output_type": "stream",
     "text": [
      " 10%|▉         | 175/1798 [2:44:20<22:47:02, 50.54s/it]"
     ]
    },
    {
     "name": "stdout",
     "output_type": "stream",
     "text": [
      "0: 608x800 300 Bubbless, 51.9ms\n",
      "Speed: 3.0ms preprocess, 51.9ms inference, 6.0ms postprocess per image at shape (1, 3, 608, 800)\n"
     ]
    },
    {
     "name": "stderr",
     "output_type": "stream",
     "text": [
      " 10%|▉         | 176/1798 [2:45:11<22:51:09, 50.72s/it]"
     ]
    },
    {
     "name": "stdout",
     "output_type": "stream",
     "text": [
      "0: 608x800 300 Bubbless, 50.9ms\n",
      "Speed: 5.0ms preprocess, 50.9ms inference, 6.0ms postprocess per image at shape (1, 3, 608, 800)\n"
     ]
    },
    {
     "name": "stderr",
     "output_type": "stream",
     "text": [
      " 10%|▉         | 177/1798 [2:46:02<22:53:40, 50.85s/it]"
     ]
    },
    {
     "name": "stdout",
     "output_type": "stream",
     "text": [
      "0: 608x800 300 Bubbless, 50.9ms\n",
      "Speed: 4.0ms preprocess, 50.9ms inference, 6.0ms postprocess per image at shape (1, 3, 608, 800)\n"
     ]
    },
    {
     "name": "stderr",
     "output_type": "stream",
     "text": [
      " 10%|▉         | 178/1798 [2:46:53<22:55:46, 50.95s/it]"
     ]
    },
    {
     "name": "stdout",
     "output_type": "stream",
     "text": [
      "0: 608x800 300 Bubbless, 52.9ms\n",
      "Speed: 5.0ms preprocess, 52.9ms inference, 6.0ms postprocess per image at shape (1, 3, 608, 800)\n"
     ]
    },
    {
     "name": "stderr",
     "output_type": "stream",
     "text": [
      " 10%|▉         | 179/1798 [2:47:44<22:56:19, 51.01s/it]"
     ]
    },
    {
     "name": "stdout",
     "output_type": "stream",
     "text": [
      "0: 608x800 300 Bubbless, 50.9ms\n",
      "Speed: 4.0ms preprocess, 50.9ms inference, 6.0ms postprocess per image at shape (1, 3, 608, 800)\n"
     ]
    },
    {
     "name": "stderr",
     "output_type": "stream",
     "text": [
      " 10%|█         | 180/1798 [2:48:36<22:58:06, 51.10s/it]"
     ]
    },
    {
     "name": "stdout",
     "output_type": "stream",
     "text": [
      "0: 608x800 300 Bubbless, 51.9ms\n",
      "Speed: 4.0ms preprocess, 51.9ms inference, 6.0ms postprocess per image at shape (1, 3, 608, 800)\n"
     ]
    },
    {
     "name": "stderr",
     "output_type": "stream",
     "text": [
      " 10%|█         | 181/1798 [2:49:27<22:58:05, 51.13s/it]"
     ]
    },
    {
     "name": "stdout",
     "output_type": "stream",
     "text": [
      "0: 608x800 300 Bubbless, 51.8ms\n",
      "Speed: 4.0ms preprocess, 51.8ms inference, 6.0ms postprocess per image at shape (1, 3, 608, 800)\n"
     ]
    },
    {
     "name": "stderr",
     "output_type": "stream",
     "text": [
      " 10%|█         | 182/1798 [2:50:18<22:55:48, 51.08s/it]"
     ]
    },
    {
     "name": "stdout",
     "output_type": "stream",
     "text": [
      "0: 608x800 300 Bubbless, 51.8ms\n",
      "Speed: 5.0ms preprocess, 51.8ms inference, 5.0ms postprocess per image at shape (1, 3, 608, 800)\n"
     ]
    },
    {
     "name": "stderr",
     "output_type": "stream",
     "text": [
      " 10%|█         | 183/1798 [2:51:09<22:53:45, 51.04s/it]"
     ]
    },
    {
     "name": "stdout",
     "output_type": "stream",
     "text": [
      "0: 608x800 300 Bubbless, 50.9ms\n",
      "Speed: 4.0ms preprocess, 50.9ms inference, 8.0ms postprocess per image at shape (1, 3, 608, 800)\n"
     ]
    },
    {
     "name": "stderr",
     "output_type": "stream",
     "text": [
      " 10%|█         | 184/1798 [2:52:00<22:56:11, 51.16s/it]"
     ]
    },
    {
     "name": "stdout",
     "output_type": "stream",
     "text": [
      "0: 608x800 300 Bubbless, 51.9ms\n",
      "Speed: 4.0ms preprocess, 51.9ms inference, 6.0ms postprocess per image at shape (1, 3, 608, 800)\n"
     ]
    },
    {
     "name": "stderr",
     "output_type": "stream",
     "text": [
      " 10%|█         | 185/1798 [2:52:51<22:54:41, 51.14s/it]"
     ]
    },
    {
     "name": "stdout",
     "output_type": "stream",
     "text": [
      "0: 608x800 300 Bubbless, 51.8ms\n",
      "Speed: 4.0ms preprocess, 51.8ms inference, 5.0ms postprocess per image at shape (1, 3, 608, 800)\n"
     ]
    },
    {
     "name": "stderr",
     "output_type": "stream",
     "text": [
      " 10%|█         | 186/1798 [2:53:43<22:55:07, 51.18s/it]"
     ]
    },
    {
     "name": "stdout",
     "output_type": "stream",
     "text": [
      "0: 608x800 300 Bubbless, 51.9ms\n",
      "Speed: 4.0ms preprocess, 51.9ms inference, 5.0ms postprocess per image at shape (1, 3, 608, 800)\n"
     ]
    },
    {
     "name": "stderr",
     "output_type": "stream",
     "text": [
      " 10%|█         | 187/1798 [2:54:34<22:53:00, 51.14s/it]"
     ]
    },
    {
     "name": "stdout",
     "output_type": "stream",
     "text": [
      "0: 608x800 300 Bubbless, 51.9ms\n",
      "Speed: 4.0ms preprocess, 51.9ms inference, 6.0ms postprocess per image at shape (1, 3, 608, 800)\n"
     ]
    },
    {
     "name": "stderr",
     "output_type": "stream",
     "text": [
      " 10%|█         | 188/1798 [2:55:25<22:53:28, 51.19s/it]"
     ]
    },
    {
     "name": "stdout",
     "output_type": "stream",
     "text": [
      "0: 608x800 300 Bubbless, 51.9ms\n",
      "Speed: 4.0ms preprocess, 51.9ms inference, 5.0ms postprocess per image at shape (1, 3, 608, 800)\n"
     ]
    },
    {
     "name": "stderr",
     "output_type": "stream",
     "text": [
      " 11%|█         | 189/1798 [2:56:16<22:52:16, 51.17s/it]"
     ]
    },
    {
     "name": "stdout",
     "output_type": "stream",
     "text": [
      "0: 608x800 300 Bubbless, 51.8ms\n",
      "Speed: 4.0ms preprocess, 51.8ms inference, 6.0ms postprocess per image at shape (1, 3, 608, 800)\n"
     ]
    },
    {
     "name": "stderr",
     "output_type": "stream",
     "text": [
      " 11%|█         | 190/1798 [2:57:07<22:50:54, 51.15s/it]"
     ]
    },
    {
     "name": "stdout",
     "output_type": "stream",
     "text": [
      "0: 608x800 300 Bubbless, 51.9ms\n",
      "Speed: 4.0ms preprocess, 51.9ms inference, 6.0ms postprocess per image at shape (1, 3, 608, 800)\n"
     ]
    },
    {
     "name": "stderr",
     "output_type": "stream",
     "text": [
      " 11%|█         | 191/1798 [2:57:59<22:51:28, 51.21s/it]"
     ]
    },
    {
     "name": "stdout",
     "output_type": "stream",
     "text": [
      "0: 608x800 300 Bubbless, 50.8ms\n",
      "Speed: 4.0ms preprocess, 50.8ms inference, 7.0ms postprocess per image at shape (1, 3, 608, 800)\n"
     ]
    },
    {
     "name": "stderr",
     "output_type": "stream",
     "text": [
      " 11%|█         | 192/1798 [2:58:50<22:50:51, 51.22s/it]"
     ]
    },
    {
     "name": "stdout",
     "output_type": "stream",
     "text": [
      "0: 608x800 300 Bubbless, 51.9ms\n",
      "Speed: 4.0ms preprocess, 51.9ms inference, 6.0ms postprocess per image at shape (1, 3, 608, 800)\n"
     ]
    },
    {
     "name": "stderr",
     "output_type": "stream",
     "text": [
      " 11%|█         | 193/1798 [2:59:41<22:47:42, 51.13s/it]"
     ]
    },
    {
     "name": "stdout",
     "output_type": "stream",
     "text": [
      "0: 608x800 300 Bubbless, 51.9ms\n",
      "Speed: 4.0ms preprocess, 51.9ms inference, 6.0ms postprocess per image at shape (1, 3, 608, 800)\n"
     ]
    },
    {
     "name": "stderr",
     "output_type": "stream",
     "text": [
      " 11%|█         | 194/1798 [3:00:32<22:47:29, 51.15s/it]"
     ]
    },
    {
     "name": "stdout",
     "output_type": "stream",
     "text": [
      "0: 608x800 300 Bubbless, 51.9ms\n",
      "Speed: 5.0ms preprocess, 51.9ms inference, 5.0ms postprocess per image at shape (1, 3, 608, 800)\n"
     ]
    },
    {
     "name": "stderr",
     "output_type": "stream",
     "text": [
      " 11%|█         | 195/1798 [3:01:23<22:49:01, 51.24s/it]"
     ]
    },
    {
     "name": "stdout",
     "output_type": "stream",
     "text": [
      "0: 608x800 300 Bubbless, 50.9ms\n",
      "Speed: 4.0ms preprocess, 50.9ms inference, 6.0ms postprocess per image at shape (1, 3, 608, 800)\n"
     ]
    },
    {
     "name": "stderr",
     "output_type": "stream",
     "text": [
      " 11%|█         | 196/1798 [3:02:15<22:47:21, 51.21s/it]"
     ]
    },
    {
     "name": "stdout",
     "output_type": "stream",
     "text": [
      "0: 608x800 300 Bubbless, 51.9ms\n",
      "Speed: 4.0ms preprocess, 51.9ms inference, 4.0ms postprocess per image at shape (1, 3, 608, 800)\n"
     ]
    },
    {
     "name": "stderr",
     "output_type": "stream",
     "text": [
      " 11%|█         | 197/1798 [3:03:06<22:50:15, 51.35s/it]"
     ]
    },
    {
     "name": "stdout",
     "output_type": "stream",
     "text": [
      "0: 608x800 300 Bubbless, 47.9ms\n",
      "Speed: 4.0ms preprocess, 47.9ms inference, 6.0ms postprocess per image at shape (1, 3, 608, 800)\n"
     ]
    },
    {
     "name": "stderr",
     "output_type": "stream",
     "text": [
      " 11%|█         | 198/1798 [3:03:58<22:54:41, 51.55s/it]"
     ]
    },
    {
     "name": "stdout",
     "output_type": "stream",
     "text": [
      "0: 608x800 300 Bubbless, 48.9ms\n",
      "Speed: 4.0ms preprocess, 48.9ms inference, 5.0ms postprocess per image at shape (1, 3, 608, 800)\n"
     ]
    },
    {
     "name": "stderr",
     "output_type": "stream",
     "text": [
      " 11%|█         | 199/1798 [3:04:50<22:55:37, 51.62s/it]"
     ]
    },
    {
     "name": "stdout",
     "output_type": "stream",
     "text": [
      "0: 608x800 300 Bubbless, 48.9ms\n",
      "Speed: 4.0ms preprocess, 48.9ms inference, 4.0ms postprocess per image at shape (1, 3, 608, 800)\n"
     ]
    },
    {
     "name": "stderr",
     "output_type": "stream",
     "text": [
      " 11%|█         | 200/1798 [3:05:42<22:54:00, 51.59s/it]"
     ]
    },
    {
     "name": "stdout",
     "output_type": "stream",
     "text": [
      "0: 608x800 300 Bubbless, 48.9ms\n",
      "Speed: 5.0ms preprocess, 48.9ms inference, 7.0ms postprocess per image at shape (1, 3, 608, 800)\n"
     ]
    },
    {
     "name": "stderr",
     "output_type": "stream",
     "text": [
      " 11%|█         | 201/1798 [3:06:33<22:51:48, 51.54s/it]"
     ]
    },
    {
     "name": "stdout",
     "output_type": "stream",
     "text": [
      "0: 608x800 300 Bubbless, 48.8ms\n",
      "Speed: 4.0ms preprocess, 48.8ms inference, 5.0ms postprocess per image at shape (1, 3, 608, 800)\n"
     ]
    },
    {
     "name": "stderr",
     "output_type": "stream",
     "text": [
      " 11%|█         | 202/1798 [3:07:25<22:51:45, 51.57s/it]"
     ]
    },
    {
     "name": "stdout",
     "output_type": "stream",
     "text": [
      "0: 608x800 300 Bubbless, 48.9ms\n",
      "Speed: 4.0ms preprocess, 48.9ms inference, 5.0ms postprocess per image at shape (1, 3, 608, 800)\n"
     ]
    },
    {
     "name": "stderr",
     "output_type": "stream",
     "text": [
      " 11%|█▏        | 203/1798 [3:08:19<23:10:34, 52.31s/it]"
     ]
    },
    {
     "name": "stdout",
     "output_type": "stream",
     "text": [
      "0: 608x800 300 Bubbless, 48.8ms\n",
      "Speed: 4.0ms preprocess, 48.8ms inference, 5.0ms postprocess per image at shape (1, 3, 608, 800)\n"
     ]
    },
    {
     "name": "stderr",
     "output_type": "stream",
     "text": [
      " 11%|█▏        | 204/1798 [3:09:10<23:04:29, 52.11s/it]"
     ]
    },
    {
     "name": "stdout",
     "output_type": "stream",
     "text": [
      "0: 608x800 300 Bubbless, 47.9ms\n",
      "Speed: 5.0ms preprocess, 47.9ms inference, 7.0ms postprocess per image at shape (1, 3, 608, 800)\n"
     ]
    },
    {
     "name": "stderr",
     "output_type": "stream",
     "text": [
      " 11%|█▏        | 205/1798 [3:10:02<22:58:05, 51.91s/it]"
     ]
    },
    {
     "name": "stdout",
     "output_type": "stream",
     "text": [
      "0: 608x800 300 Bubbless, 52.9ms\n",
      "Speed: 4.0ms preprocess, 52.9ms inference, 7.0ms postprocess per image at shape (1, 3, 608, 800)\n"
     ]
    },
    {
     "name": "stderr",
     "output_type": "stream",
     "text": [
      " 11%|█▏        | 206/1798 [3:10:53<22:53:02, 51.75s/it]"
     ]
    },
    {
     "name": "stdout",
     "output_type": "stream",
     "text": [
      "0: 608x800 300 Bubbless, 48.9ms\n",
      "Speed: 6.0ms preprocess, 48.9ms inference, 4.0ms postprocess per image at shape (1, 3, 608, 800)\n"
     ]
    },
    {
     "name": "stderr",
     "output_type": "stream",
     "text": [
      " 12%|█▏        | 207/1798 [3:11:45<22:51:17, 51.71s/it]"
     ]
    },
    {
     "name": "stdout",
     "output_type": "stream",
     "text": [
      "0: 608x800 300 Bubbless, 47.8ms\n",
      "Speed: 4.0ms preprocess, 47.8ms inference, 7.0ms postprocess per image at shape (1, 3, 608, 800)\n"
     ]
    },
    {
     "name": "stderr",
     "output_type": "stream",
     "text": [
      " 12%|█▏        | 208/1798 [3:12:36<22:49:21, 51.67s/it]"
     ]
    },
    {
     "name": "stdout",
     "output_type": "stream",
     "text": [
      "0: 608x800 300 Bubbless, 49.9ms\n",
      "Speed: 5.0ms preprocess, 49.9ms inference, 5.0ms postprocess per image at shape (1, 3, 608, 800)\n"
     ]
    },
    {
     "name": "stderr",
     "output_type": "stream",
     "text": [
      " 12%|█▏        | 209/1798 [3:13:28<22:45:43, 51.57s/it]"
     ]
    },
    {
     "name": "stdout",
     "output_type": "stream",
     "text": [
      "0: 608x800 300 Bubbless, 48.9ms\n",
      "Speed: 4.0ms preprocess, 48.9ms inference, 5.0ms postprocess per image at shape (1, 3, 608, 800)\n"
     ]
    },
    {
     "name": "stderr",
     "output_type": "stream",
     "text": [
      " 12%|█▏        | 210/1798 [3:14:19<22:42:49, 51.49s/it]"
     ]
    },
    {
     "name": "stdout",
     "output_type": "stream",
     "text": [
      "0: 608x800 300 Bubbless, 47.8ms\n",
      "Speed: 5.0ms preprocess, 47.8ms inference, 6.0ms postprocess per image at shape (1, 3, 608, 800)\n"
     ]
    },
    {
     "name": "stderr",
     "output_type": "stream",
     "text": [
      " 12%|█▏        | 211/1798 [3:15:10<22:41:45, 51.48s/it]"
     ]
    },
    {
     "name": "stdout",
     "output_type": "stream",
     "text": [
      "0: 608x800 300 Bubbless, 47.9ms\n",
      "Speed: 5.0ms preprocess, 47.9ms inference, 4.0ms postprocess per image at shape (1, 3, 608, 800)\n"
     ]
    },
    {
     "name": "stderr",
     "output_type": "stream",
     "text": [
      " 12%|█▏        | 212/1798 [3:16:03<22:48:51, 51.79s/it]"
     ]
    },
    {
     "name": "stdout",
     "output_type": "stream",
     "text": [
      "0: 608x800 300 Bubbless, 53.8ms\n",
      "Speed: 5.0ms preprocess, 53.8ms inference, 5.0ms postprocess per image at shape (1, 3, 608, 800)\n"
     ]
    },
    {
     "name": "stderr",
     "output_type": "stream",
     "text": [
      " 12%|█▏        | 213/1798 [3:16:55<22:48:01, 51.79s/it]"
     ]
    },
    {
     "name": "stdout",
     "output_type": "stream",
     "text": [
      "0: 608x800 300 Bubbless, 48.9ms\n",
      "Speed: 4.0ms preprocess, 48.9ms inference, 5.0ms postprocess per image at shape (1, 3, 608, 800)\n"
     ]
    },
    {
     "name": "stderr",
     "output_type": "stream",
     "text": [
      " 12%|█▏        | 214/1798 [3:17:46<22:42:38, 51.62s/it]"
     ]
    },
    {
     "name": "stdout",
     "output_type": "stream",
     "text": [
      "0: 608x800 300 Bubbless, 48.9ms\n",
      "Speed: 5.0ms preprocess, 48.9ms inference, 6.0ms postprocess per image at shape (1, 3, 608, 800)\n"
     ]
    },
    {
     "name": "stderr",
     "output_type": "stream",
     "text": [
      " 12%|█▏        | 215/1798 [3:18:37<22:41:04, 51.59s/it]"
     ]
    },
    {
     "name": "stdout",
     "output_type": "stream",
     "text": [
      "0: 608x800 300 Bubbless, 48.7ms\n",
      "Speed: 5.1ms preprocess, 48.7ms inference, 6.0ms postprocess per image at shape (1, 3, 608, 800)\n"
     ]
    },
    {
     "name": "stderr",
     "output_type": "stream",
     "text": [
      " 12%|█▏        | 216/1798 [3:19:29<22:40:08, 51.59s/it]"
     ]
    },
    {
     "name": "stdout",
     "output_type": "stream",
     "text": [
      "0: 608x800 300 Bubbless, 47.9ms\n",
      "Speed: 5.0ms preprocess, 47.9ms inference, 7.0ms postprocess per image at shape (1, 3, 608, 800)\n"
     ]
    },
    {
     "name": "stderr",
     "output_type": "stream",
     "text": [
      " 12%|█▏        | 217/1798 [3:20:20<22:37:34, 51.52s/it]"
     ]
    },
    {
     "name": "stdout",
     "output_type": "stream",
     "text": [
      "0: 608x800 300 Bubbless, 48.9ms\n",
      "Speed: 5.0ms preprocess, 48.9ms inference, 5.0ms postprocess per image at shape (1, 3, 608, 800)\n"
     ]
    },
    {
     "name": "stderr",
     "output_type": "stream",
     "text": [
      " 12%|█▏        | 218/1798 [3:21:12<22:35:04, 51.46s/it]"
     ]
    },
    {
     "name": "stdout",
     "output_type": "stream",
     "text": [
      "0: 608x800 300 Bubbless, 48.8ms\n",
      "Speed: 5.0ms preprocess, 48.8ms inference, 7.0ms postprocess per image at shape (1, 3, 608, 800)\n"
     ]
    },
    {
     "name": "stderr",
     "output_type": "stream",
     "text": [
      " 12%|█▏        | 219/1798 [3:22:03<22:32:40, 51.40s/it]"
     ]
    },
    {
     "name": "stdout",
     "output_type": "stream",
     "text": [
      "0: 608x800 300 Bubbless, 48.9ms\n",
      "Speed: 5.0ms preprocess, 48.9ms inference, 4.0ms postprocess per image at shape (1, 3, 608, 800)\n"
     ]
    },
    {
     "name": "stderr",
     "output_type": "stream",
     "text": [
      " 12%|█▏        | 220/1798 [3:22:55<22:34:41, 51.51s/it]"
     ]
    },
    {
     "name": "stdout",
     "output_type": "stream",
     "text": [
      "0: 608x800 300 Bubbless, 48.9ms\n",
      "Speed: 5.0ms preprocess, 48.9ms inference, 5.0ms postprocess per image at shape (1, 3, 608, 800)\n"
     ]
    },
    {
     "name": "stderr",
     "output_type": "stream",
     "text": [
      " 12%|█▏        | 221/1798 [3:23:47<22:37:18, 51.64s/it]"
     ]
    },
    {
     "name": "stdout",
     "output_type": "stream",
     "text": [
      "0: 608x800 300 Bubbless, 48.9ms\n",
      "Speed: 4.0ms preprocess, 48.9ms inference, 7.0ms postprocess per image at shape (1, 3, 608, 800)\n"
     ]
    },
    {
     "name": "stderr",
     "output_type": "stream",
     "text": [
      " 12%|█▏        | 222/1798 [3:24:38<22:35:09, 51.59s/it]"
     ]
    },
    {
     "name": "stdout",
     "output_type": "stream",
     "text": [
      "0: 608x800 300 Bubbless, 47.9ms\n",
      "Speed: 5.0ms preprocess, 47.9ms inference, 6.0ms postprocess per image at shape (1, 3, 608, 800)\n"
     ]
    },
    {
     "name": "stderr",
     "output_type": "stream",
     "text": [
      " 12%|█▏        | 223/1798 [3:25:30<22:33:21, 51.56s/it]"
     ]
    },
    {
     "name": "stdout",
     "output_type": "stream",
     "text": [
      "0: 608x800 300 Bubbless, 48.9ms\n",
      "Speed: 4.0ms preprocess, 48.9ms inference, 6.0ms postprocess per image at shape (1, 3, 608, 800)\n"
     ]
    },
    {
     "name": "stderr",
     "output_type": "stream",
     "text": [
      " 12%|█▏        | 224/1798 [3:26:21<22:30:11, 51.47s/it]"
     ]
    },
    {
     "name": "stdout",
     "output_type": "stream",
     "text": [
      "0: 608x800 300 Bubbless, 48.9ms\n",
      "Speed: 4.0ms preprocess, 48.9ms inference, 7.0ms postprocess per image at shape (1, 3, 608, 800)\n"
     ]
    },
    {
     "name": "stderr",
     "output_type": "stream",
     "text": [
      " 13%|█▎        | 225/1798 [3:27:13<22:31:59, 51.57s/it]"
     ]
    },
    {
     "name": "stdout",
     "output_type": "stream",
     "text": [
      "0: 608x800 300 Bubbless, 48.9ms\n",
      "Speed: 4.0ms preprocess, 48.9ms inference, 6.0ms postprocess per image at shape (1, 3, 608, 800)\n"
     ]
    },
    {
     "name": "stderr",
     "output_type": "stream",
     "text": [
      " 13%|█▎        | 226/1798 [3:28:04<22:29:36, 51.51s/it]"
     ]
    },
    {
     "name": "stdout",
     "output_type": "stream",
     "text": [
      "0: 608x800 300 Bubbless, 47.8ms\n",
      "Speed: 5.0ms preprocess, 47.8ms inference, 7.0ms postprocess per image at shape (1, 3, 608, 800)\n"
     ]
    },
    {
     "name": "stderr",
     "output_type": "stream",
     "text": [
      " 13%|█▎        | 227/1798 [3:28:56<22:29:36, 51.54s/it]"
     ]
    },
    {
     "name": "stdout",
     "output_type": "stream",
     "text": [
      "0: 608x800 300 Bubbless, 48.9ms\n",
      "Speed: 4.0ms preprocess, 48.9ms inference, 6.0ms postprocess per image at shape (1, 3, 608, 800)\n"
     ]
    },
    {
     "name": "stderr",
     "output_type": "stream",
     "text": [
      " 13%|█▎        | 228/1798 [3:29:47<22:28:13, 51.52s/it]"
     ]
    },
    {
     "name": "stdout",
     "output_type": "stream",
     "text": [
      "0: 608x800 300 Bubbless, 53.9ms\n",
      "Speed: 5.0ms preprocess, 53.9ms inference, 7.0ms postprocess per image at shape (1, 3, 608, 800)\n"
     ]
    },
    {
     "name": "stderr",
     "output_type": "stream",
     "text": [
      " 13%|█▎        | 229/1798 [3:30:39<22:29:47, 51.62s/it]"
     ]
    },
    {
     "name": "stdout",
     "output_type": "stream",
     "text": [
      "0: 608x800 300 Bubbless, 48.9ms\n",
      "Speed: 4.0ms preprocess, 48.9ms inference, 7.0ms postprocess per image at shape (1, 3, 608, 800)\n"
     ]
    },
    {
     "name": "stderr",
     "output_type": "stream",
     "text": [
      " 13%|█▎        | 230/1798 [3:31:31<22:29:18, 51.63s/it]"
     ]
    },
    {
     "name": "stdout",
     "output_type": "stream",
     "text": [
      "0: 608x800 300 Bubbless, 48.8ms\n",
      "Speed: 5.0ms preprocess, 48.8ms inference, 6.0ms postprocess per image at shape (1, 3, 608, 800)\n"
     ]
    },
    {
     "name": "stderr",
     "output_type": "stream",
     "text": [
      " 13%|█▎        | 231/1798 [3:32:22<22:28:42, 51.64s/it]"
     ]
    },
    {
     "name": "stdout",
     "output_type": "stream",
     "text": [
      "0: 608x800 300 Bubbless, 47.9ms\n",
      "Speed: 4.0ms preprocess, 47.9ms inference, 5.0ms postprocess per image at shape (1, 3, 608, 800)\n"
     ]
    },
    {
     "name": "stderr",
     "output_type": "stream",
     "text": [
      " 13%|█▎        | 232/1798 [3:33:14<22:25:31, 51.55s/it]"
     ]
    },
    {
     "name": "stdout",
     "output_type": "stream",
     "text": [
      "0: 608x800 300 Bubbless, 48.9ms\n",
      "Speed: 4.0ms preprocess, 48.9ms inference, 7.0ms postprocess per image at shape (1, 3, 608, 800)\n"
     ]
    },
    {
     "name": "stderr",
     "output_type": "stream",
     "text": [
      " 13%|█▎        | 233/1798 [3:34:05<22:26:03, 51.61s/it]"
     ]
    },
    {
     "name": "stdout",
     "output_type": "stream",
     "text": [
      "0: 608x800 300 Bubbless, 48.9ms\n",
      "Speed: 4.0ms preprocess, 48.9ms inference, 5.9ms postprocess per image at shape (1, 3, 608, 800)\n"
     ]
    },
    {
     "name": "stderr",
     "output_type": "stream",
     "text": [
      " 13%|█▎        | 234/1798 [3:34:57<22:25:57, 51.64s/it]"
     ]
    },
    {
     "name": "stdout",
     "output_type": "stream",
     "text": [
      "0: 608x800 300 Bubbless, 48.8ms\n",
      "Speed: 4.0ms preprocess, 48.8ms inference, 7.0ms postprocess per image at shape (1, 3, 608, 800)\n"
     ]
    },
    {
     "name": "stderr",
     "output_type": "stream",
     "text": [
      " 13%|█▎        | 235/1798 [3:35:48<22:21:13, 51.49s/it]"
     ]
    },
    {
     "name": "stdout",
     "output_type": "stream",
     "text": [
      "0: 608x800 300 Bubbless, 52.9ms\n",
      "Speed: 5.0ms preprocess, 52.9ms inference, 6.0ms postprocess per image at shape (1, 3, 608, 800)\n"
     ]
    },
    {
     "name": "stderr",
     "output_type": "stream",
     "text": [
      " 13%|█▎        | 236/1798 [3:36:40<22:19:25, 51.45s/it]"
     ]
    },
    {
     "name": "stdout",
     "output_type": "stream",
     "text": [
      "0: 608x800 300 Bubbless, 48.9ms\n",
      "Speed: 5.0ms preprocess, 48.9ms inference, 5.0ms postprocess per image at shape (1, 3, 608, 800)\n"
     ]
    },
    {
     "name": "stderr",
     "output_type": "stream",
     "text": [
      " 13%|█▎        | 237/1798 [3:37:32<22:22:12, 51.59s/it]"
     ]
    },
    {
     "name": "stdout",
     "output_type": "stream",
     "text": [
      "0: 608x800 300 Bubbless, 48.9ms\n",
      "Speed: 4.0ms preprocess, 48.9ms inference, 6.0ms postprocess per image at shape (1, 3, 608, 800)\n"
     ]
    },
    {
     "name": "stderr",
     "output_type": "stream",
     "text": [
      " 13%|█▎        | 238/1798 [3:38:23<22:18:36, 51.48s/it]"
     ]
    },
    {
     "name": "stdout",
     "output_type": "stream",
     "text": [
      "0: 608x800 300 Bubbless, 48.9ms\n",
      "Speed: 5.0ms preprocess, 48.9ms inference, 6.0ms postprocess per image at shape (1, 3, 608, 800)\n"
     ]
    },
    {
     "name": "stderr",
     "output_type": "stream",
     "text": [
      " 13%|█▎        | 239/1798 [3:39:15<22:22:59, 51.69s/it]"
     ]
    },
    {
     "name": "stdout",
     "output_type": "stream",
     "text": [
      "0: 608x800 300 Bubbless, 49.9ms\n",
      "Speed: 5.0ms preprocess, 49.9ms inference, 6.0ms postprocess per image at shape (1, 3, 608, 800)\n"
     ]
    },
    {
     "name": "stderr",
     "output_type": "stream",
     "text": [
      " 13%|█▎        | 240/1798 [3:40:07<22:23:20, 51.73s/it]"
     ]
    },
    {
     "name": "stdout",
     "output_type": "stream",
     "text": [
      "0: 608x800 300 Bubbless, 47.9ms\n",
      "Speed: 5.0ms preprocess, 47.9ms inference, 6.0ms postprocess per image at shape (1, 3, 608, 800)\n"
     ]
    },
    {
     "name": "stderr",
     "output_type": "stream",
     "text": [
      " 13%|█▎        | 241/1798 [3:40:59<22:22:41, 51.74s/it]"
     ]
    },
    {
     "name": "stdout",
     "output_type": "stream",
     "text": [
      "0: 608x800 300 Bubbless, 48.9ms\n",
      "Speed: 4.0ms preprocess, 48.9ms inference, 6.0ms postprocess per image at shape (1, 3, 608, 800)\n"
     ]
    },
    {
     "name": "stderr",
     "output_type": "stream",
     "text": [
      " 13%|█▎        | 242/1798 [3:41:50<22:21:34, 51.73s/it]"
     ]
    },
    {
     "name": "stdout",
     "output_type": "stream",
     "text": [
      "0: 608x800 300 Bubbless, 48.9ms\n",
      "Speed: 5.0ms preprocess, 48.9ms inference, 6.0ms postprocess per image at shape (1, 3, 608, 800)\n"
     ]
    },
    {
     "name": "stderr",
     "output_type": "stream",
     "text": [
      " 14%|█▎        | 243/1798 [3:42:42<22:23:19, 51.83s/it]"
     ]
    },
    {
     "name": "stdout",
     "output_type": "stream",
     "text": [
      "0: 608x800 300 Bubbless, 47.9ms\n",
      "Speed: 4.0ms preprocess, 47.9ms inference, 5.0ms postprocess per image at shape (1, 3, 608, 800)\n"
     ]
    },
    {
     "name": "stderr",
     "output_type": "stream",
     "text": [
      " 14%|█▎        | 244/1798 [3:43:34<22:21:57, 51.81s/it]"
     ]
    },
    {
     "name": "stdout",
     "output_type": "stream",
     "text": [
      "0: 608x800 300 Bubbless, 48.9ms\n",
      "Speed: 5.0ms preprocess, 48.9ms inference, 7.0ms postprocess per image at shape (1, 3, 608, 800)\n"
     ]
    },
    {
     "name": "stderr",
     "output_type": "stream",
     "text": [
      " 14%|█▎        | 245/1798 [3:44:26<22:20:24, 51.79s/it]"
     ]
    },
    {
     "name": "stdout",
     "output_type": "stream",
     "text": [
      "0: 608x800 300 Bubbless, 48.9ms\n",
      "Speed: 4.0ms preprocess, 48.9ms inference, 6.0ms postprocess per image at shape (1, 3, 608, 800)\n"
     ]
    },
    {
     "name": "stderr",
     "output_type": "stream",
     "text": [
      " 14%|█▎        | 246/1798 [3:45:18<22:21:59, 51.88s/it]"
     ]
    },
    {
     "name": "stdout",
     "output_type": "stream",
     "text": [
      "0: 608x800 300 Bubbless, 48.9ms\n",
      "Speed: 5.0ms preprocess, 48.9ms inference, 6.0ms postprocess per image at shape (1, 3, 608, 800)\n"
     ]
    },
    {
     "name": "stderr",
     "output_type": "stream",
     "text": [
      " 14%|█▎        | 247/1798 [3:46:10<22:22:10, 51.92s/it]"
     ]
    },
    {
     "name": "stdout",
     "output_type": "stream",
     "text": [
      "0: 608x800 300 Bubbless, 52.9ms\n",
      "Speed: 4.0ms preprocess, 52.9ms inference, 5.0ms postprocess per image at shape (1, 3, 608, 800)\n"
     ]
    },
    {
     "name": "stderr",
     "output_type": "stream",
     "text": [
      " 14%|█▍        | 248/1798 [3:47:02<22:23:07, 51.99s/it]"
     ]
    },
    {
     "name": "stdout",
     "output_type": "stream",
     "text": [
      "0: 608x800 300 Bubbless, 48.8ms\n",
      "Speed: 4.0ms preprocess, 48.8ms inference, 7.0ms postprocess per image at shape (1, 3, 608, 800)\n"
     ]
    },
    {
     "name": "stderr",
     "output_type": "stream",
     "text": [
      " 14%|█▍        | 249/1798 [3:47:54<22:23:25, 52.04s/it]"
     ]
    },
    {
     "name": "stdout",
     "output_type": "stream",
     "text": [
      "0: 608x800 300 Bubbless, 47.9ms\n",
      "Speed: 5.0ms preprocess, 47.9ms inference, 6.0ms postprocess per image at shape (1, 3, 608, 800)\n"
     ]
    },
    {
     "name": "stderr",
     "output_type": "stream",
     "text": [
      " 14%|█▍        | 250/1798 [3:48:46<22:22:49, 52.05s/it]"
     ]
    },
    {
     "name": "stdout",
     "output_type": "stream",
     "text": [
      "0: 608x800 300 Bubbless, 48.9ms\n",
      "Speed: 5.0ms preprocess, 48.9ms inference, 6.0ms postprocess per image at shape (1, 3, 608, 800)\n"
     ]
    },
    {
     "name": "stderr",
     "output_type": "stream",
     "text": [
      " 14%|█▍        | 251/1798 [3:49:38<22:19:47, 51.96s/it]"
     ]
    },
    {
     "name": "stdout",
     "output_type": "stream",
     "text": [
      "0: 608x800 300 Bubbless, 47.9ms\n",
      "Speed: 4.0ms preprocess, 47.9ms inference, 6.0ms postprocess per image at shape (1, 3, 608, 800)\n"
     ]
    },
    {
     "name": "stderr",
     "output_type": "stream",
     "text": [
      " 14%|█▍        | 252/1798 [3:50:30<22:22:22, 52.10s/it]"
     ]
    },
    {
     "name": "stdout",
     "output_type": "stream",
     "text": [
      "0: 608x800 300 Bubbless, 48.9ms\n",
      "Speed: 5.0ms preprocess, 48.9ms inference, 6.0ms postprocess per image at shape (1, 3, 608, 800)\n"
     ]
    },
    {
     "name": "stderr",
     "output_type": "stream",
     "text": [
      " 14%|█▍        | 253/1798 [3:51:23<22:25:33, 52.25s/it]"
     ]
    },
    {
     "name": "stdout",
     "output_type": "stream",
     "text": [
      "0: 608x800 300 Bubbless, 47.9ms\n",
      "Speed: 5.0ms preprocess, 47.9ms inference, 5.0ms postprocess per image at shape (1, 3, 608, 800)\n"
     ]
    },
    {
     "name": "stderr",
     "output_type": "stream",
     "text": [
      " 14%|█▍        | 254/1798 [3:52:15<22:20:08, 52.08s/it]"
     ]
    },
    {
     "name": "stdout",
     "output_type": "stream",
     "text": [
      "0: 608x800 300 Bubbless, 48.9ms\n",
      "Speed: 5.0ms preprocess, 48.9ms inference, 7.0ms postprocess per image at shape (1, 3, 608, 800)\n"
     ]
    },
    {
     "name": "stderr",
     "output_type": "stream",
     "text": [
      " 14%|█▍        | 255/1798 [3:53:06<22:13:31, 51.85s/it]"
     ]
    },
    {
     "name": "stdout",
     "output_type": "stream",
     "text": [
      "0: 608x800 300 Bubbless, 47.9ms\n",
      "Speed: 5.0ms preprocess, 47.9ms inference, 6.0ms postprocess per image at shape (1, 3, 608, 800)\n"
     ]
    },
    {
     "name": "stderr",
     "output_type": "stream",
     "text": [
      " 14%|█▍        | 256/1798 [3:53:58<22:09:44, 51.74s/it]"
     ]
    },
    {
     "name": "stdout",
     "output_type": "stream",
     "text": [
      "0: 608x800 300 Bubbless, 48.9ms\n",
      "Speed: 4.0ms preprocess, 48.9ms inference, 5.0ms postprocess per image at shape (1, 3, 608, 800)\n"
     ]
    },
    {
     "name": "stderr",
     "output_type": "stream",
     "text": [
      " 14%|█▍        | 257/1798 [3:54:50<22:11:20, 51.84s/it]"
     ]
    },
    {
     "name": "stdout",
     "output_type": "stream",
     "text": [
      "0: 608x800 300 Bubbless, 48.9ms\n",
      "Speed: 4.0ms preprocess, 48.9ms inference, 6.0ms postprocess per image at shape (1, 3, 608, 800)\n"
     ]
    },
    {
     "name": "stderr",
     "output_type": "stream",
     "text": [
      " 14%|█▍        | 258/1798 [3:55:41<22:09:11, 51.79s/it]"
     ]
    },
    {
     "name": "stdout",
     "output_type": "stream",
     "text": [
      "0: 608x800 300 Bubbless, 48.8ms\n",
      "Speed: 4.0ms preprocess, 48.8ms inference, 5.0ms postprocess per image at shape (1, 3, 608, 800)\n"
     ]
    },
    {
     "name": "stderr",
     "output_type": "stream",
     "text": [
      " 14%|█▍        | 259/1798 [3:56:33<22:05:09, 51.66s/it]"
     ]
    },
    {
     "name": "stdout",
     "output_type": "stream",
     "text": [
      "0: 608x800 300 Bubbless, 48.9ms\n",
      "Speed: 4.0ms preprocess, 48.9ms inference, 6.0ms postprocess per image at shape (1, 3, 608, 800)\n"
     ]
    },
    {
     "name": "stderr",
     "output_type": "stream",
     "text": [
      " 14%|█▍        | 260/1798 [3:57:24<22:02:27, 51.59s/it]"
     ]
    },
    {
     "name": "stdout",
     "output_type": "stream",
     "text": [
      "0: 608x800 300 Bubbless, 48.8ms\n",
      "Speed: 4.0ms preprocess, 48.8ms inference, 7.0ms postprocess per image at shape (1, 3, 608, 800)\n"
     ]
    },
    {
     "name": "stderr",
     "output_type": "stream",
     "text": [
      " 15%|█▍        | 261/1798 [3:58:16<22:03:16, 51.66s/it]"
     ]
    },
    {
     "name": "stdout",
     "output_type": "stream",
     "text": [
      "0: 608x800 300 Bubbless, 53.9ms\n",
      "Speed: 4.0ms preprocess, 53.9ms inference, 7.0ms postprocess per image at shape (1, 3, 608, 800)\n"
     ]
    },
    {
     "name": "stderr",
     "output_type": "stream",
     "text": [
      " 15%|█▍        | 262/1798 [3:59:08<22:02:33, 51.66s/it]"
     ]
    },
    {
     "name": "stdout",
     "output_type": "stream",
     "text": [
      "0: 608x800 300 Bubbless, 47.8ms\n",
      "Speed: 5.0ms preprocess, 47.8ms inference, 5.0ms postprocess per image at shape (1, 3, 608, 800)\n"
     ]
    },
    {
     "name": "stderr",
     "output_type": "stream",
     "text": [
      " 15%|█▍        | 263/1798 [3:59:59<22:03:32, 51.73s/it]"
     ]
    },
    {
     "name": "stdout",
     "output_type": "stream",
     "text": [
      "0: 608x800 300 Bubbless, 52.9ms\n",
      "Speed: 4.0ms preprocess, 52.9ms inference, 6.0ms postprocess per image at shape (1, 3, 608, 800)\n"
     ]
    },
    {
     "name": "stderr",
     "output_type": "stream",
     "text": [
      " 15%|█▍        | 264/1798 [4:00:51<22:03:42, 51.77s/it]"
     ]
    },
    {
     "name": "stdout",
     "output_type": "stream",
     "text": [
      "0: 608x800 300 Bubbless, 47.9ms\n",
      "Speed: 5.0ms preprocess, 47.9ms inference, 6.0ms postprocess per image at shape (1, 3, 608, 800)\n"
     ]
    },
    {
     "name": "stderr",
     "output_type": "stream",
     "text": [
      " 15%|█▍        | 265/1798 [4:01:43<22:05:05, 51.86s/it]"
     ]
    },
    {
     "name": "stdout",
     "output_type": "stream",
     "text": [
      "0: 608x800 300 Bubbless, 47.9ms\n",
      "Speed: 4.0ms preprocess, 47.9ms inference, 5.0ms postprocess per image at shape (1, 3, 608, 800)\n"
     ]
    },
    {
     "name": "stderr",
     "output_type": "stream",
     "text": [
      " 15%|█▍        | 266/1798 [4:02:35<22:04:16, 51.86s/it]"
     ]
    },
    {
     "name": "stdout",
     "output_type": "stream",
     "text": [
      "0: 608x800 300 Bubbless, 48.8ms\n",
      "Speed: 4.0ms preprocess, 48.8ms inference, 6.0ms postprocess per image at shape (1, 3, 608, 800)\n"
     ]
    },
    {
     "name": "stderr",
     "output_type": "stream",
     "text": [
      " 15%|█▍        | 267/1798 [4:03:27<22:03:57, 51.89s/it]"
     ]
    },
    {
     "name": "stdout",
     "output_type": "stream",
     "text": [
      "0: 608x800 300 Bubbless, 52.9ms\n",
      "Speed: 4.0ms preprocess, 52.9ms inference, 6.0ms postprocess per image at shape (1, 3, 608, 800)\n"
     ]
    },
    {
     "name": "stderr",
     "output_type": "stream",
     "text": [
      " 15%|█▍        | 268/1798 [4:04:19<22:01:30, 51.82s/it]"
     ]
    },
    {
     "name": "stdout",
     "output_type": "stream",
     "text": [
      "0: 608x800 300 Bubbless, 48.9ms\n",
      "Speed: 4.0ms preprocess, 48.9ms inference, 5.0ms postprocess per image at shape (1, 3, 608, 800)\n"
     ]
    },
    {
     "name": "stderr",
     "output_type": "stream",
     "text": [
      " 15%|█▍        | 269/1798 [4:05:11<22:00:40, 51.83s/it]"
     ]
    },
    {
     "name": "stdout",
     "output_type": "stream",
     "text": [
      "0: 608x800 300 Bubbless, 47.9ms\n",
      "Speed: 4.0ms preprocess, 47.9ms inference, 4.0ms postprocess per image at shape (1, 3, 608, 800)\n"
     ]
    },
    {
     "name": "stderr",
     "output_type": "stream",
     "text": [
      " 15%|█▌        | 270/1798 [4:06:02<21:57:56, 51.75s/it]"
     ]
    },
    {
     "name": "stdout",
     "output_type": "stream",
     "text": [
      "0: 608x800 300 Bubbless, 48.9ms\n",
      "Speed: 5.0ms preprocess, 48.9ms inference, 5.0ms postprocess per image at shape (1, 3, 608, 800)\n"
     ]
    },
    {
     "name": "stderr",
     "output_type": "stream",
     "text": [
      " 15%|█▌        | 271/1798 [4:06:54<21:56:11, 51.72s/it]"
     ]
    },
    {
     "name": "stdout",
     "output_type": "stream",
     "text": [
      "0: 608x800 300 Bubbless, 47.9ms\n",
      "Speed: 5.0ms preprocess, 47.9ms inference, 7.0ms postprocess per image at shape (1, 3, 608, 800)\n"
     ]
    },
    {
     "name": "stderr",
     "output_type": "stream",
     "text": [
      " 15%|█▌        | 272/1798 [4:07:46<21:58:14, 51.83s/it]"
     ]
    },
    {
     "name": "stdout",
     "output_type": "stream",
     "text": [
      "0: 608x800 300 Bubbless, 48.9ms\n",
      "Speed: 4.0ms preprocess, 48.9ms inference, 6.0ms postprocess per image at shape (1, 3, 608, 800)\n"
     ]
    },
    {
     "name": "stderr",
     "output_type": "stream",
     "text": [
      " 15%|█▌        | 273/1798 [4:08:38<21:58:35, 51.88s/it]"
     ]
    },
    {
     "name": "stdout",
     "output_type": "stream",
     "text": [
      "0: 608x800 300 Bubbless, 47.8ms\n",
      "Speed: 4.0ms preprocess, 47.8ms inference, 7.0ms postprocess per image at shape (1, 3, 608, 800)\n"
     ]
    },
    {
     "name": "stderr",
     "output_type": "stream",
     "text": [
      " 15%|█▌        | 274/1798 [4:09:30<21:55:24, 51.79s/it]"
     ]
    },
    {
     "name": "stdout",
     "output_type": "stream",
     "text": [
      "0: 608x800 300 Bubbless, 48.9ms\n",
      "Speed: 5.0ms preprocess, 48.9ms inference, 5.0ms postprocess per image at shape (1, 3, 608, 800)\n"
     ]
    },
    {
     "name": "stderr",
     "output_type": "stream",
     "text": [
      " 15%|█▌        | 275/1798 [4:10:21<21:52:05, 51.69s/it]"
     ]
    },
    {
     "name": "stdout",
     "output_type": "stream",
     "text": [
      "0: 608x800 300 Bubbless, 47.9ms\n",
      "Speed: 4.0ms preprocess, 47.9ms inference, 6.0ms postprocess per image at shape (1, 3, 608, 800)\n"
     ]
    },
    {
     "name": "stderr",
     "output_type": "stream",
     "text": [
      " 15%|█▌        | 276/1798 [4:11:13<21:51:45, 51.71s/it]"
     ]
    },
    {
     "name": "stdout",
     "output_type": "stream",
     "text": [
      "0: 608x800 300 Bubbless, 47.8ms\n",
      "Speed: 5.0ms preprocess, 47.8ms inference, 6.0ms postprocess per image at shape (1, 3, 608, 800)\n"
     ]
    },
    {
     "name": "stderr",
     "output_type": "stream",
     "text": [
      " 15%|█▌        | 277/1798 [4:12:04<21:49:57, 51.68s/it]"
     ]
    },
    {
     "name": "stdout",
     "output_type": "stream",
     "text": [
      "0: 608x800 300 Bubbless, 47.9ms\n",
      "Speed: 5.0ms preprocess, 47.9ms inference, 6.0ms postprocess per image at shape (1, 3, 608, 800)\n"
     ]
    },
    {
     "name": "stderr",
     "output_type": "stream",
     "text": [
      " 15%|█▌        | 278/1798 [4:12:56<21:48:10, 51.64s/it]"
     ]
    },
    {
     "name": "stdout",
     "output_type": "stream",
     "text": [
      "0: 608x800 300 Bubbless, 48.9ms\n",
      "Speed: 5.0ms preprocess, 48.9ms inference, 7.0ms postprocess per image at shape (1, 3, 608, 800)\n"
     ]
    },
    {
     "name": "stderr",
     "output_type": "stream",
     "text": [
      " 16%|█▌        | 279/1798 [4:13:48<21:48:01, 51.67s/it]"
     ]
    },
    {
     "name": "stdout",
     "output_type": "stream",
     "text": [
      "0: 608x800 300 Bubbless, 47.9ms\n",
      "Speed: 4.0ms preprocess, 47.9ms inference, 6.0ms postprocess per image at shape (1, 3, 608, 800)\n"
     ]
    },
    {
     "name": "stderr",
     "output_type": "stream",
     "text": [
      " 16%|█▌        | 280/1798 [4:14:39<21:46:05, 51.62s/it]"
     ]
    },
    {
     "name": "stdout",
     "output_type": "stream",
     "text": [
      "0: 608x800 300 Bubbless, 47.9ms\n",
      "Speed: 5.0ms preprocess, 47.9ms inference, 6.0ms postprocess per image at shape (1, 3, 608, 800)\n"
     ]
    },
    {
     "name": "stderr",
     "output_type": "stream",
     "text": [
      " 16%|█▌        | 281/1798 [4:15:31<21:48:59, 51.77s/it]"
     ]
    },
    {
     "name": "stdout",
     "output_type": "stream",
     "text": [
      "0: 608x800 300 Bubbless, 48.8ms\n",
      "Speed: 4.0ms preprocess, 48.8ms inference, 6.0ms postprocess per image at shape (1, 3, 608, 800)\n"
     ]
    },
    {
     "name": "stderr",
     "output_type": "stream",
     "text": [
      " 16%|█▌        | 282/1798 [4:16:23<21:47:25, 51.74s/it]"
     ]
    },
    {
     "name": "stdout",
     "output_type": "stream",
     "text": [
      "0: 608x800 300 Bubbless, 47.8ms\n",
      "Speed: 5.0ms preprocess, 47.8ms inference, 6.0ms postprocess per image at shape (1, 3, 608, 800)\n"
     ]
    },
    {
     "name": "stderr",
     "output_type": "stream",
     "text": [
      " 16%|█▌        | 283/1798 [4:17:15<21:45:50, 51.72s/it]"
     ]
    },
    {
     "name": "stdout",
     "output_type": "stream",
     "text": [
      "0: 608x800 300 Bubbless, 48.9ms\n",
      "Speed: 4.0ms preprocess, 48.9ms inference, 6.0ms postprocess per image at shape (1, 3, 608, 800)\n"
     ]
    },
    {
     "name": "stderr",
     "output_type": "stream",
     "text": [
      " 16%|█▌        | 284/1798 [4:18:07<21:46:44, 51.79s/it]"
     ]
    },
    {
     "name": "stdout",
     "output_type": "stream",
     "text": [
      "0: 608x800 300 Bubbless, 48.8ms\n",
      "Speed: 5.0ms preprocess, 48.8ms inference, 6.0ms postprocess per image at shape (1, 3, 608, 800)\n"
     ]
    },
    {
     "name": "stderr",
     "output_type": "stream",
     "text": [
      " 16%|█▌        | 285/1798 [4:18:59<21:48:25, 51.89s/it]"
     ]
    },
    {
     "name": "stdout",
     "output_type": "stream",
     "text": [
      "0: 608x800 300 Bubbless, 48.9ms\n",
      "Speed: 4.0ms preprocess, 48.9ms inference, 6.0ms postprocess per image at shape (1, 3, 608, 800)\n"
     ]
    },
    {
     "name": "stderr",
     "output_type": "stream",
     "text": [
      " 16%|█▌        | 286/1798 [4:19:51<21:48:16, 51.92s/it]"
     ]
    },
    {
     "name": "stdout",
     "output_type": "stream",
     "text": [
      "0: 608x800 300 Bubbless, 48.9ms\n",
      "Speed: 4.0ms preprocess, 48.9ms inference, 5.0ms postprocess per image at shape (1, 3, 608, 800)\n"
     ]
    },
    {
     "name": "stderr",
     "output_type": "stream",
     "text": [
      " 16%|█▌        | 287/1798 [4:20:42<21:45:27, 51.84s/it]"
     ]
    },
    {
     "name": "stdout",
     "output_type": "stream",
     "text": [
      "0: 608x800 300 Bubbless, 48.9ms\n",
      "Speed: 4.0ms preprocess, 48.9ms inference, 5.0ms postprocess per image at shape (1, 3, 608, 800)\n"
     ]
    },
    {
     "name": "stderr",
     "output_type": "stream",
     "text": [
      " 16%|█▌        | 288/1798 [4:21:34<21:45:29, 51.87s/it]"
     ]
    },
    {
     "name": "stdout",
     "output_type": "stream",
     "text": [
      "0: 608x800 300 Bubbless, 48.9ms\n",
      "Speed: 5.0ms preprocess, 48.9ms inference, 5.0ms postprocess per image at shape (1, 3, 608, 800)\n"
     ]
    },
    {
     "name": "stderr",
     "output_type": "stream",
     "text": [
      " 16%|█▌        | 289/1798 [4:22:26<21:45:43, 51.92s/it]"
     ]
    },
    {
     "name": "stdout",
     "output_type": "stream",
     "text": [
      "0: 608x800 300 Bubbless, 47.9ms\n",
      "Speed: 4.0ms preprocess, 47.9ms inference, 7.0ms postprocess per image at shape (1, 3, 608, 800)\n"
     ]
    },
    {
     "name": "stderr",
     "output_type": "stream",
     "text": [
      " 16%|█▌        | 290/1798 [4:23:18<21:42:55, 51.84s/it]"
     ]
    },
    {
     "name": "stdout",
     "output_type": "stream",
     "text": [
      "0: 608x800 300 Bubbless, 48.9ms\n",
      "Speed: 6.0ms preprocess, 48.9ms inference, 6.0ms postprocess per image at shape (1, 3, 608, 800)\n"
     ]
    },
    {
     "name": "stderr",
     "output_type": "stream",
     "text": [
      " 16%|█▌        | 291/1798 [4:24:10<21:42:24, 51.85s/it]"
     ]
    },
    {
     "name": "stdout",
     "output_type": "stream",
     "text": [
      "0: 608x800 300 Bubbless, 48.9ms\n",
      "Speed: 4.0ms preprocess, 48.9ms inference, 7.0ms postprocess per image at shape (1, 3, 608, 800)\n"
     ]
    },
    {
     "name": "stderr",
     "output_type": "stream",
     "text": [
      " 16%|█▌        | 292/1798 [4:25:02<21:40:11, 51.80s/it]"
     ]
    },
    {
     "name": "stdout",
     "output_type": "stream",
     "text": [
      "0: 608x800 300 Bubbless, 49.3ms\n",
      "Speed: 4.0ms preprocess, 49.3ms inference, 5.0ms postprocess per image at shape (1, 3, 608, 800)\n"
     ]
    },
    {
     "name": "stderr",
     "output_type": "stream",
     "text": [
      " 16%|█▋        | 293/1798 [4:25:53<21:38:07, 51.75s/it]"
     ]
    },
    {
     "name": "stdout",
     "output_type": "stream",
     "text": [
      "0: 608x800 300 Bubbless, 47.9ms\n",
      "Speed: 4.0ms preprocess, 47.9ms inference, 6.0ms postprocess per image at shape (1, 3, 608, 800)\n"
     ]
    },
    {
     "name": "stderr",
     "output_type": "stream",
     "text": [
      " 16%|█▋        | 294/1798 [4:26:45<21:38:48, 51.81s/it]"
     ]
    },
    {
     "name": "stdout",
     "output_type": "stream",
     "text": [
      "0: 608x800 300 Bubbless, 47.9ms\n",
      "Speed: 5.0ms preprocess, 47.9ms inference, 5.0ms postprocess per image at shape (1, 3, 608, 800)\n"
     ]
    },
    {
     "name": "stderr",
     "output_type": "stream",
     "text": [
      " 16%|█▋        | 295/1798 [4:27:37<21:39:50, 51.89s/it]"
     ]
    },
    {
     "name": "stdout",
     "output_type": "stream",
     "text": [
      "0: 608x800 300 Bubbless, 48.9ms\n",
      "Speed: 4.0ms preprocess, 48.9ms inference, 6.0ms postprocess per image at shape (1, 3, 608, 800)\n"
     ]
    },
    {
     "name": "stderr",
     "output_type": "stream",
     "text": [
      " 16%|█▋        | 296/1798 [4:28:29<21:37:04, 51.81s/it]"
     ]
    },
    {
     "name": "stdout",
     "output_type": "stream",
     "text": [
      "0: 608x800 300 Bubbless, 48.9ms\n",
      "Speed: 5.0ms preprocess, 48.9ms inference, 7.0ms postprocess per image at shape (1, 3, 608, 800)\n"
     ]
    },
    {
     "name": "stderr",
     "output_type": "stream",
     "text": [
      " 17%|█▋        | 297/1798 [4:29:21<21:37:55, 51.88s/it]"
     ]
    },
    {
     "name": "stdout",
     "output_type": "stream",
     "text": [
      "0: 608x800 300 Bubbless, 47.9ms\n",
      "Speed: 5.0ms preprocess, 47.9ms inference, 7.0ms postprocess per image at shape (1, 3, 608, 800)\n"
     ]
    },
    {
     "name": "stderr",
     "output_type": "stream",
     "text": [
      " 17%|█▋        | 298/1798 [4:30:13<21:37:59, 51.92s/it]"
     ]
    },
    {
     "name": "stdout",
     "output_type": "stream",
     "text": [
      "0: 608x800 300 Bubbless, 47.9ms\n",
      "Speed: 5.0ms preprocess, 47.9ms inference, 8.0ms postprocess per image at shape (1, 3, 608, 800)\n"
     ]
    },
    {
     "name": "stderr",
     "output_type": "stream",
     "text": [
      " 17%|█▋        | 299/1798 [4:31:05<21:36:37, 51.90s/it]"
     ]
    },
    {
     "name": "stdout",
     "output_type": "stream",
     "text": [
      "0: 608x800 300 Bubbless, 47.9ms\n",
      "Speed: 4.0ms preprocess, 47.9ms inference, 7.0ms postprocess per image at shape (1, 3, 608, 800)\n"
     ]
    },
    {
     "name": "stderr",
     "output_type": "stream",
     "text": [
      " 17%|█▋        | 300/1798 [4:31:57<21:36:26, 51.93s/it]"
     ]
    },
    {
     "name": "stdout",
     "output_type": "stream",
     "text": [
      "0: 608x800 300 Bubbless, 48.9ms\n",
      "Speed: 4.0ms preprocess, 48.9ms inference, 7.0ms postprocess per image at shape (1, 3, 608, 800)\n"
     ]
    },
    {
     "name": "stderr",
     "output_type": "stream",
     "text": [
      " 17%|█▋        | 301/1798 [4:32:49<21:35:11, 51.91s/it]"
     ]
    },
    {
     "name": "stdout",
     "output_type": "stream",
     "text": [
      "0: 608x800 300 Bubbless, 51.8ms\n",
      "Speed: 4.0ms preprocess, 51.8ms inference, 7.0ms postprocess per image at shape (1, 3, 608, 800)\n"
     ]
    },
    {
     "name": "stderr",
     "output_type": "stream",
     "text": [
      " 17%|█▋        | 302/1798 [4:33:41<21:35:02, 51.94s/it]"
     ]
    },
    {
     "name": "stdout",
     "output_type": "stream",
     "text": [
      "0: 608x800 300 Bubbless, 48.8ms\n",
      "Speed: 5.0ms preprocess, 48.8ms inference, 6.0ms postprocess per image at shape (1, 3, 608, 800)\n"
     ]
    },
    {
     "name": "stderr",
     "output_type": "stream",
     "text": [
      " 17%|█▋        | 303/1798 [4:34:33<21:35:59, 52.01s/it]"
     ]
    },
    {
     "name": "stdout",
     "output_type": "stream",
     "text": [
      "0: 608x800 300 Bubbless, 48.9ms\n",
      "Speed: 4.0ms preprocess, 48.9ms inference, 7.0ms postprocess per image at shape (1, 3, 608, 800)\n"
     ]
    },
    {
     "name": "stderr",
     "output_type": "stream",
     "text": [
      " 17%|█▋        | 304/1798 [4:35:25<21:35:18, 52.02s/it]"
     ]
    },
    {
     "name": "stdout",
     "output_type": "stream",
     "text": [
      "0: 608x800 300 Bubbless, 48.9ms\n",
      "Speed: 4.0ms preprocess, 48.9ms inference, 7.0ms postprocess per image at shape (1, 3, 608, 800)\n"
     ]
    },
    {
     "name": "stderr",
     "output_type": "stream",
     "text": [
      " 17%|█▋        | 305/1798 [4:36:17<21:36:26, 52.10s/it]"
     ]
    },
    {
     "name": "stdout",
     "output_type": "stream",
     "text": [
      "0: 608x800 300 Bubbless, 48.8ms\n",
      "Speed: 4.0ms preprocess, 48.8ms inference, 7.0ms postprocess per image at shape (1, 3, 608, 800)\n"
     ]
    },
    {
     "name": "stderr",
     "output_type": "stream",
     "text": [
      " 17%|█▋        | 306/1798 [4:37:09<21:34:20, 52.05s/it]"
     ]
    },
    {
     "name": "stdout",
     "output_type": "stream",
     "text": [
      "0: 608x800 300 Bubbless, 48.9ms\n",
      "Speed: 4.0ms preprocess, 48.9ms inference, 7.0ms postprocess per image at shape (1, 3, 608, 800)\n"
     ]
    },
    {
     "name": "stderr",
     "output_type": "stream",
     "text": [
      " 17%|█▋        | 307/1798 [4:38:01<21:29:56, 51.91s/it]"
     ]
    },
    {
     "name": "stdout",
     "output_type": "stream",
     "text": [
      "0: 608x800 300 Bubbless, 47.9ms\n",
      "Speed: 4.0ms preprocess, 47.9ms inference, 5.0ms postprocess per image at shape (1, 3, 608, 800)\n"
     ]
    },
    {
     "name": "stderr",
     "output_type": "stream",
     "text": [
      " 17%|█▋        | 308/1798 [4:38:52<21:27:48, 51.86s/it]"
     ]
    },
    {
     "name": "stdout",
     "output_type": "stream",
     "text": [
      "0: 608x800 300 Bubbless, 47.8ms\n",
      "Speed: 5.0ms preprocess, 47.8ms inference, 7.0ms postprocess per image at shape (1, 3, 608, 800)\n"
     ]
    },
    {
     "name": "stderr",
     "output_type": "stream",
     "text": [
      " 17%|█▋        | 309/1798 [4:39:44<21:25:16, 51.79s/it]"
     ]
    },
    {
     "name": "stdout",
     "output_type": "stream",
     "text": [
      "0: 608x800 300 Bubbless, 47.9ms\n",
      "Speed: 4.0ms preprocess, 47.9ms inference, 6.0ms postprocess per image at shape (1, 3, 608, 800)\n"
     ]
    },
    {
     "name": "stderr",
     "output_type": "stream",
     "text": [
      " 17%|█▋        | 310/1798 [4:40:36<21:23:25, 51.75s/it]"
     ]
    },
    {
     "name": "stdout",
     "output_type": "stream",
     "text": [
      "0: 608x800 300 Bubbless, 47.9ms\n",
      "Speed: 6.0ms preprocess, 47.9ms inference, 6.0ms postprocess per image at shape (1, 3, 608, 800)\n"
     ]
    },
    {
     "name": "stderr",
     "output_type": "stream",
     "text": [
      " 17%|█▋        | 311/1798 [4:41:28<21:23:03, 51.77s/it]"
     ]
    },
    {
     "name": "stdout",
     "output_type": "stream",
     "text": [
      "0: 608x800 300 Bubbless, 47.9ms\n",
      "Speed: 4.0ms preprocess, 47.9ms inference, 6.0ms postprocess per image at shape (1, 3, 608, 800)\n"
     ]
    },
    {
     "name": "stderr",
     "output_type": "stream",
     "text": [
      " 17%|█▋        | 312/1798 [4:42:20<21:24:02, 51.85s/it]"
     ]
    },
    {
     "name": "stdout",
     "output_type": "stream",
     "text": [
      "0: 608x800 300 Bubbless, 47.9ms\n",
      "Speed: 5.0ms preprocess, 47.9ms inference, 6.0ms postprocess per image at shape (1, 3, 608, 800)\n"
     ]
    },
    {
     "name": "stderr",
     "output_type": "stream",
     "text": [
      " 17%|█▋        | 313/1798 [4:43:12<21:24:17, 51.89s/it]"
     ]
    },
    {
     "name": "stdout",
     "output_type": "stream",
     "text": [
      "0: 608x800 300 Bubbless, 48.9ms\n",
      "Speed: 5.0ms preprocess, 48.9ms inference, 5.0ms postprocess per image at shape (1, 3, 608, 800)\n"
     ]
    },
    {
     "name": "stderr",
     "output_type": "stream",
     "text": [
      " 17%|█▋        | 314/1798 [4:44:03<21:22:44, 51.86s/it]"
     ]
    },
    {
     "name": "stdout",
     "output_type": "stream",
     "text": [
      "0: 608x800 300 Bubbless, 55.9ms\n",
      "Speed: 5.0ms preprocess, 55.9ms inference, 6.0ms postprocess per image at shape (1, 3, 608, 800)\n"
     ]
    },
    {
     "name": "stderr",
     "output_type": "stream",
     "text": [
      " 18%|█▊        | 315/1798 [4:44:55<21:19:52, 51.78s/it]"
     ]
    },
    {
     "name": "stdout",
     "output_type": "stream",
     "text": [
      "0: 608x800 300 Bubbless, 47.9ms\n",
      "Speed: 5.0ms preprocess, 47.9ms inference, 7.0ms postprocess per image at shape (1, 3, 608, 800)\n"
     ]
    },
    {
     "name": "stderr",
     "output_type": "stream",
     "text": [
      " 18%|█▊        | 316/1798 [4:45:47<21:18:36, 51.77s/it]"
     ]
    },
    {
     "name": "stdout",
     "output_type": "stream",
     "text": [
      "0: 608x800 300 Bubbless, 48.9ms\n",
      "Speed: 5.0ms preprocess, 48.9ms inference, 6.0ms postprocess per image at shape (1, 3, 608, 800)\n"
     ]
    },
    {
     "name": "stderr",
     "output_type": "stream",
     "text": [
      " 18%|█▊        | 317/1798 [4:46:38<21:15:29, 51.67s/it]"
     ]
    },
    {
     "name": "stdout",
     "output_type": "stream",
     "text": [
      "0: 608x800 300 Bubbless, 47.9ms\n",
      "Speed: 4.0ms preprocess, 47.9ms inference, 7.0ms postprocess per image at shape (1, 3, 608, 800)\n"
     ]
    },
    {
     "name": "stderr",
     "output_type": "stream",
     "text": [
      " 18%|█▊        | 318/1798 [4:47:30<21:16:31, 51.75s/it]"
     ]
    },
    {
     "name": "stdout",
     "output_type": "stream",
     "text": [
      "0: 608x800 300 Bubbless, 52.9ms\n",
      "Speed: 5.0ms preprocess, 52.9ms inference, 6.0ms postprocess per image at shape (1, 3, 608, 800)\n"
     ]
    },
    {
     "name": "stderr",
     "output_type": "stream",
     "text": [
      " 18%|█▊        | 319/1798 [4:48:22<21:14:40, 51.71s/it]"
     ]
    },
    {
     "name": "stdout",
     "output_type": "stream",
     "text": [
      "0: 608x800 300 Bubbless, 48.9ms\n",
      "Speed: 4.0ms preprocess, 48.9ms inference, 6.9ms postprocess per image at shape (1, 3, 608, 800)\n"
     ]
    },
    {
     "name": "stderr",
     "output_type": "stream",
     "text": [
      " 18%|█▊        | 320/1798 [4:49:13<21:12:43, 51.67s/it]"
     ]
    },
    {
     "name": "stdout",
     "output_type": "stream",
     "text": [
      "0: 608x800 300 Bubbless, 48.6ms\n",
      "Speed: 5.0ms preprocess, 48.6ms inference, 7.0ms postprocess per image at shape (1, 3, 608, 800)\n"
     ]
    },
    {
     "name": "stderr",
     "output_type": "stream",
     "text": [
      " 18%|█▊        | 321/1798 [4:50:05<21:11:24, 51.65s/it]"
     ]
    },
    {
     "name": "stdout",
     "output_type": "stream",
     "text": [
      "0: 608x800 300 Bubbless, 47.9ms\n",
      "Speed: 4.0ms preprocess, 47.9ms inference, 7.0ms postprocess per image at shape (1, 3, 608, 800)\n"
     ]
    },
    {
     "name": "stderr",
     "output_type": "stream",
     "text": [
      " 18%|█▊        | 322/1798 [4:50:57<21:13:01, 51.75s/it]"
     ]
    },
    {
     "name": "stdout",
     "output_type": "stream",
     "text": [
      "0: 608x800 300 Bubbless, 48.9ms\n",
      "Speed: 4.0ms preprocess, 48.9ms inference, 6.0ms postprocess per image at shape (1, 3, 608, 800)\n"
     ]
    },
    {
     "name": "stderr",
     "output_type": "stream",
     "text": [
      " 18%|█▊        | 323/1798 [4:51:48<21:11:24, 51.72s/it]"
     ]
    },
    {
     "name": "stdout",
     "output_type": "stream",
     "text": [
      "0: 608x800 300 Bubbless, 47.9ms\n",
      "Speed: 4.0ms preprocess, 47.9ms inference, 5.0ms postprocess per image at shape (1, 3, 608, 800)\n"
     ]
    },
    {
     "name": "stderr",
     "output_type": "stream",
     "text": [
      " 18%|█▊        | 324/1798 [4:52:40<21:09:47, 51.69s/it]"
     ]
    },
    {
     "name": "stdout",
     "output_type": "stream",
     "text": [
      "0: 608x800 300 Bubbless, 47.9ms\n",
      "Speed: 5.0ms preprocess, 47.9ms inference, 7.0ms postprocess per image at shape (1, 3, 608, 800)\n"
     ]
    },
    {
     "name": "stderr",
     "output_type": "stream",
     "text": [
      " 18%|█▊        | 325/1798 [4:53:32<21:09:24, 51.71s/it]"
     ]
    },
    {
     "name": "stdout",
     "output_type": "stream",
     "text": [
      "0: 608x800 300 Bubbless, 48.9ms\n",
      "Speed: 4.0ms preprocess, 48.9ms inference, 6.0ms postprocess per image at shape (1, 3, 608, 800)\n"
     ]
    },
    {
     "name": "stderr",
     "output_type": "stream",
     "text": [
      " 18%|█▊        | 326/1798 [4:54:24<21:10:11, 51.77s/it]"
     ]
    },
    {
     "name": "stdout",
     "output_type": "stream",
     "text": [
      "0: 608x800 300 Bubbless, 48.8ms\n",
      "Speed: 5.0ms preprocess, 48.8ms inference, 6.0ms postprocess per image at shape (1, 3, 608, 800)\n"
     ]
    },
    {
     "name": "stderr",
     "output_type": "stream",
     "text": [
      " 18%|█▊        | 327/1798 [4:55:15<21:08:20, 51.73s/it]"
     ]
    },
    {
     "name": "stdout",
     "output_type": "stream",
     "text": [
      "0: 608x800 300 Bubbless, 47.8ms\n",
      "Speed: 4.0ms preprocess, 47.8ms inference, 7.0ms postprocess per image at shape (1, 3, 608, 800)\n"
     ]
    },
    {
     "name": "stderr",
     "output_type": "stream",
     "text": [
      " 18%|█▊        | 328/1798 [4:56:07<21:05:16, 51.64s/it]"
     ]
    },
    {
     "name": "stdout",
     "output_type": "stream",
     "text": [
      "0: 608x800 300 Bubbless, 53.2ms\n",
      "Speed: 5.0ms preprocess, 53.2ms inference, 6.0ms postprocess per image at shape (1, 3, 608, 800)\n"
     ]
    },
    {
     "name": "stderr",
     "output_type": "stream",
     "text": [
      " 18%|█▊        | 329/1798 [4:56:58<21:03:28, 51.61s/it]"
     ]
    },
    {
     "name": "stdout",
     "output_type": "stream",
     "text": [
      "0: 608x800 300 Bubbless, 47.8ms\n",
      "Speed: 4.0ms preprocess, 47.8ms inference, 7.0ms postprocess per image at shape (1, 3, 608, 800)\n"
     ]
    },
    {
     "name": "stderr",
     "output_type": "stream",
     "text": [
      " 18%|█▊        | 330/1798 [4:57:50<21:03:26, 51.64s/it]"
     ]
    },
    {
     "name": "stdout",
     "output_type": "stream",
     "text": [
      "0: 608x800 300 Bubbless, 48.6ms\n",
      "Speed: 6.0ms preprocess, 48.6ms inference, 6.0ms postprocess per image at shape (1, 3, 608, 800)\n"
     ]
    },
    {
     "name": "stderr",
     "output_type": "stream",
     "text": [
      " 18%|█▊        | 331/1798 [4:58:42<21:05:22, 51.75s/it]"
     ]
    },
    {
     "name": "stdout",
     "output_type": "stream",
     "text": [
      "0: 608x800 300 Bubbless, 47.9ms\n",
      "Speed: 5.0ms preprocess, 47.9ms inference, 5.0ms postprocess per image at shape (1, 3, 608, 800)\n"
     ]
    },
    {
     "name": "stderr",
     "output_type": "stream",
     "text": [
      " 18%|█▊        | 332/1798 [4:59:34<21:02:18, 51.66s/it]"
     ]
    },
    {
     "name": "stdout",
     "output_type": "stream",
     "text": [
      "0: 608x800 300 Bubbless, 47.9ms\n",
      "Speed: 5.0ms preprocess, 47.9ms inference, 6.0ms postprocess per image at shape (1, 3, 608, 800)\n"
     ]
    },
    {
     "name": "stderr",
     "output_type": "stream",
     "text": [
      " 19%|█▊        | 333/1798 [5:00:25<21:01:32, 51.67s/it]"
     ]
    },
    {
     "name": "stdout",
     "output_type": "stream",
     "text": [
      "0: 608x800 300 Bubbless, 48.9ms\n",
      "Speed: 4.0ms preprocess, 48.9ms inference, 6.0ms postprocess per image at shape (1, 3, 608, 800)\n"
     ]
    },
    {
     "name": "stderr",
     "output_type": "stream",
     "text": [
      " 19%|█▊        | 334/1798 [5:01:17<20:58:29, 51.58s/it]"
     ]
    },
    {
     "name": "stdout",
     "output_type": "stream",
     "text": [
      "0: 608x800 300 Bubbless, 48.9ms\n",
      "Speed: 9.0ms preprocess, 48.9ms inference, 6.0ms postprocess per image at shape (1, 3, 608, 800)\n"
     ]
    },
    {
     "name": "stderr",
     "output_type": "stream",
     "text": [
      " 19%|█▊        | 335/1798 [5:02:08<20:58:44, 51.62s/it]"
     ]
    },
    {
     "name": "stdout",
     "output_type": "stream",
     "text": [
      "0: 608x800 300 Bubbless, 47.9ms\n",
      "Speed: 4.0ms preprocess, 47.9ms inference, 6.0ms postprocess per image at shape (1, 3, 608, 800)\n"
     ]
    },
    {
     "name": "stderr",
     "output_type": "stream",
     "text": [
      " 19%|█▊        | 336/1798 [5:03:00<20:57:11, 51.59s/it]"
     ]
    },
    {
     "name": "stdout",
     "output_type": "stream",
     "text": [
      "0: 608x800 300 Bubbless, 48.9ms\n",
      "Speed: 4.0ms preprocess, 48.9ms inference, 6.0ms postprocess per image at shape (1, 3, 608, 800)\n"
     ]
    },
    {
     "name": "stderr",
     "output_type": "stream",
     "text": [
      " 19%|█▊        | 337/1798 [5:03:51<20:56:29, 51.60s/it]"
     ]
    },
    {
     "name": "stdout",
     "output_type": "stream",
     "text": [
      "0: 608x800 300 Bubbless, 48.9ms\n",
      "Speed: 4.0ms preprocess, 48.9ms inference, 11.9ms postprocess per image at shape (1, 3, 608, 800)\n"
     ]
    },
    {
     "name": "stderr",
     "output_type": "stream",
     "text": [
      " 19%|█▉        | 338/1798 [5:04:43<20:53:14, 51.50s/it]"
     ]
    },
    {
     "name": "stdout",
     "output_type": "stream",
     "text": [
      "0: 608x800 300 Bubbless, 47.8ms\n",
      "Speed: 5.0ms preprocess, 47.8ms inference, 7.0ms postprocess per image at shape (1, 3, 608, 800)\n"
     ]
    },
    {
     "name": "stderr",
     "output_type": "stream",
     "text": [
      " 19%|█▉        | 339/1798 [5:05:34<20:53:49, 51.56s/it]"
     ]
    },
    {
     "name": "stdout",
     "output_type": "stream",
     "text": [
      "0: 608x800 300 Bubbless, 47.9ms\n",
      "Speed: 4.0ms preprocess, 47.9ms inference, 7.0ms postprocess per image at shape (1, 3, 608, 800)\n"
     ]
    },
    {
     "name": "stderr",
     "output_type": "stream",
     "text": [
      " 19%|█▉        | 340/1798 [5:06:26<20:52:59, 51.56s/it]"
     ]
    },
    {
     "name": "stdout",
     "output_type": "stream",
     "text": [
      "0: 608x800 300 Bubbless, 48.8ms\n",
      "Speed: 4.0ms preprocess, 48.8ms inference, 7.0ms postprocess per image at shape (1, 3, 608, 800)\n"
     ]
    },
    {
     "name": "stderr",
     "output_type": "stream",
     "text": [
      " 19%|█▉        | 341/1798 [5:07:18<20:55:46, 51.71s/it]"
     ]
    },
    {
     "name": "stdout",
     "output_type": "stream",
     "text": [
      "0: 608x800 300 Bubbless, 47.9ms\n",
      "Speed: 4.0ms preprocess, 47.9ms inference, 12.0ms postprocess per image at shape (1, 3, 608, 800)\n"
     ]
    },
    {
     "name": "stderr",
     "output_type": "stream",
     "text": [
      " 19%|█▉        | 342/1798 [5:08:10<20:53:30, 51.66s/it]"
     ]
    },
    {
     "name": "stdout",
     "output_type": "stream",
     "text": [
      "0: 608x800 300 Bubbless, 48.2ms\n",
      "Speed: 5.0ms preprocess, 48.2ms inference, 6.0ms postprocess per image at shape (1, 3, 608, 800)\n"
     ]
    },
    {
     "name": "stderr",
     "output_type": "stream",
     "text": [
      " 19%|█▉        | 343/1798 [5:09:01<20:50:41, 51.57s/it]"
     ]
    },
    {
     "name": "stdout",
     "output_type": "stream",
     "text": [
      "0: 608x800 300 Bubbless, 47.8ms\n",
      "Speed: 4.0ms preprocess, 47.8ms inference, 7.0ms postprocess per image at shape (1, 3, 608, 800)\n"
     ]
    },
    {
     "name": "stderr",
     "output_type": "stream",
     "text": [
      " 19%|█▉        | 344/1798 [5:09:53<20:49:33, 51.56s/it]"
     ]
    },
    {
     "name": "stdout",
     "output_type": "stream",
     "text": [
      "0: 608x800 300 Bubbless, 49.9ms\n",
      "Speed: 4.0ms preprocess, 49.9ms inference, 7.0ms postprocess per image at shape (1, 3, 608, 800)\n"
     ]
    },
    {
     "name": "stderr",
     "output_type": "stream",
     "text": [
      " 19%|█▉        | 345/1798 [5:10:44<20:49:51, 51.61s/it]"
     ]
    },
    {
     "name": "stdout",
     "output_type": "stream",
     "text": [
      "0: 608x800 300 Bubbless, 47.9ms\n",
      "Speed: 4.0ms preprocess, 47.9ms inference, 6.0ms postprocess per image at shape (1, 3, 608, 800)\n"
     ]
    },
    {
     "name": "stderr",
     "output_type": "stream",
     "text": [
      " 19%|█▉        | 346/1798 [5:11:36<20:49:18, 51.62s/it]"
     ]
    },
    {
     "name": "stdout",
     "output_type": "stream",
     "text": [
      "0: 608x800 300 Bubbless, 48.9ms\n",
      "Speed: 4.0ms preprocess, 48.9ms inference, 7.0ms postprocess per image at shape (1, 3, 608, 800)\n"
     ]
    },
    {
     "name": "stderr",
     "output_type": "stream",
     "text": [
      " 19%|█▉        | 347/1798 [5:12:27<20:46:14, 51.53s/it]"
     ]
    },
    {
     "name": "stdout",
     "output_type": "stream",
     "text": [
      "0: 608x800 300 Bubbless, 48.9ms\n",
      "Speed: 4.0ms preprocess, 48.9ms inference, 5.0ms postprocess per image at shape (1, 3, 608, 800)\n"
     ]
    },
    {
     "name": "stderr",
     "output_type": "stream",
     "text": [
      " 19%|█▉        | 348/1798 [5:13:19<20:44:11, 51.48s/it]"
     ]
    },
    {
     "name": "stdout",
     "output_type": "stream",
     "text": [
      "0: 608x800 300 Bubbless, 51.9ms\n",
      "Speed: 4.0ms preprocess, 51.9ms inference, 7.0ms postprocess per image at shape (1, 3, 608, 800)\n"
     ]
    },
    {
     "name": "stderr",
     "output_type": "stream",
     "text": [
      " 19%|█▉        | 349/1798 [5:14:10<20:40:38, 51.37s/it]"
     ]
    },
    {
     "name": "stdout",
     "output_type": "stream",
     "text": [
      "0: 608x800 300 Bubbless, 50.9ms\n",
      "Speed: 4.0ms preprocess, 50.9ms inference, 7.0ms postprocess per image at shape (1, 3, 608, 800)\n"
     ]
    },
    {
     "name": "stderr",
     "output_type": "stream",
     "text": [
      " 19%|█▉        | 350/1798 [5:15:01<20:36:02, 51.22s/it]"
     ]
    },
    {
     "name": "stdout",
     "output_type": "stream",
     "text": [
      "0: 608x800 300 Bubbless, 51.9ms\n",
      "Speed: 4.0ms preprocess, 51.9ms inference, 6.0ms postprocess per image at shape (1, 3, 608, 800)\n"
     ]
    },
    {
     "name": "stderr",
     "output_type": "stream",
     "text": [
      " 20%|█▉        | 351/1798 [5:15:52<20:34:18, 51.18s/it]"
     ]
    },
    {
     "name": "stdout",
     "output_type": "stream",
     "text": [
      "0: 608x800 300 Bubbless, 51.9ms\n",
      "Speed: 9.0ms preprocess, 51.9ms inference, 5.0ms postprocess per image at shape (1, 3, 608, 800)\n"
     ]
    },
    {
     "name": "stderr",
     "output_type": "stream",
     "text": [
      " 20%|█▉        | 352/1798 [5:16:56<22:05:57, 55.02s/it]"
     ]
    },
    {
     "name": "stdout",
     "output_type": "stream",
     "text": [
      "\n",
      "0: 608x800 300 Bubbless, 66.8ms\n",
      "Speed: 5.0ms preprocess, 66.8ms inference, 8.0ms postprocess per image at shape (1, 3, 608, 800)\n"
     ]
    },
    {
     "name": "stderr",
     "output_type": "stream",
     "text": [
      " 20%|█▉        | 353/1798 [5:17:53<22:24:51, 55.84s/it]"
     ]
    },
    {
     "name": "stdout",
     "output_type": "stream",
     "text": [
      "0: 608x800 300 Bubbless, 38.9ms\n",
      "Speed: 8.0ms preprocess, 38.9ms inference, 5.0ms postprocess per image at shape (1, 3, 608, 800)\n"
     ]
    },
    {
     "name": "stderr",
     "output_type": "stream",
     "text": [
      " 20%|█▉        | 354/1798 [5:18:55<23:02:28, 57.44s/it]"
     ]
    },
    {
     "name": "stdout",
     "output_type": "stream",
     "text": [
      "0: 608x800 300 Bubbless, 33.9ms\n",
      "Speed: 4.0ms preprocess, 33.9ms inference, 4.0ms postprocess per image at shape (1, 3, 608, 800)\n"
     ]
    },
    {
     "name": "stderr",
     "output_type": "stream",
     "text": [
      " 20%|█▉        | 355/1798 [5:19:49<22:40:09, 56.56s/it]"
     ]
    },
    {
     "name": "stdout",
     "output_type": "stream",
     "text": [
      "0: 608x800 300 Bubbless, 43.9ms\n",
      "Speed: 3.0ms preprocess, 43.9ms inference, 4.0ms postprocess per image at shape (1, 3, 608, 800)\n"
     ]
    },
    {
     "name": "stderr",
     "output_type": "stream",
     "text": [
      " 20%|█▉        | 356/1798 [5:20:46<22:41:09, 56.64s/it]"
     ]
    },
    {
     "name": "stdout",
     "output_type": "stream",
     "text": [
      "0: 608x800 300 Bubbless, 10.0ms\n",
      "Speed: 4.0ms preprocess, 10.0ms inference, 7.0ms postprocess per image at shape (1, 3, 608, 800)\n"
     ]
    },
    {
     "name": "stderr",
     "output_type": "stream",
     "text": [
      " 20%|█▉        | 357/1798 [5:21:43<22:42:05, 56.71s/it]"
     ]
    },
    {
     "name": "stdout",
     "output_type": "stream",
     "text": [
      "0: 608x800 300 Bubbless, 10.0ms\n",
      "Speed: 4.0ms preprocess, 10.0ms inference, 7.0ms postprocess per image at shape (1, 3, 608, 800)\n"
     ]
    },
    {
     "name": "stderr",
     "output_type": "stream",
     "text": [
      " 20%|█▉        | 358/1798 [5:22:43<23:08:26, 57.85s/it]"
     ]
    },
    {
     "name": "stdout",
     "output_type": "stream",
     "text": [
      "0: 608x800 300 Bubbless, 17.0ms\n",
      "Speed: 4.0ms preprocess, 17.0ms inference, 4.0ms postprocess per image at shape (1, 3, 608, 800)\n"
     ]
    },
    {
     "name": "stderr",
     "output_type": "stream",
     "text": [
      " 20%|█▉        | 359/1798 [5:23:41<23:03:18, 57.68s/it]"
     ]
    },
    {
     "name": "stdout",
     "output_type": "stream",
     "text": [
      "0: 608x800 300 Bubbless, 20.9ms\n",
      "Speed: 4.0ms preprocess, 20.9ms inference, 5.0ms postprocess per image at shape (1, 3, 608, 800)\n"
     ]
    },
    {
     "name": "stderr",
     "output_type": "stream",
     "text": [
      " 20%|██        | 360/1798 [5:24:41<23:23:55, 58.58s/it]"
     ]
    },
    {
     "name": "stdout",
     "output_type": "stream",
     "text": [
      "0: 608x800 300 Bubbless, 17.0ms\n",
      "Speed: 4.0ms preprocess, 17.0ms inference, 4.0ms postprocess per image at shape (1, 3, 608, 800)\n"
     ]
    },
    {
     "name": "stderr",
     "output_type": "stream",
     "text": [
      " 20%|██        | 361/1798 [5:25:38<23:13:17, 58.18s/it]"
     ]
    },
    {
     "name": "stdout",
     "output_type": "stream",
     "text": [
      "0: 608x800 300 Bubbless, 9.0ms\n",
      "Speed: 4.0ms preprocess, 9.0ms inference, 11.0ms postprocess per image at shape (1, 3, 608, 800)\n"
     ]
    },
    {
     "name": "stderr",
     "output_type": "stream",
     "text": [
      " 20%|██        | 362/1798 [5:26:36<23:07:17, 57.96s/it]"
     ]
    },
    {
     "name": "stdout",
     "output_type": "stream",
     "text": [
      "0: 608x800 300 Bubbless, 17.0ms\n",
      "Speed: 4.0ms preprocess, 17.0ms inference, 10.0ms postprocess per image at shape (1, 3, 608, 800)\n"
     ]
    },
    {
     "name": "stderr",
     "output_type": "stream",
     "text": [
      " 20%|██        | 363/1798 [5:27:35<23:16:11, 58.38s/it]"
     ]
    },
    {
     "name": "stdout",
     "output_type": "stream",
     "text": [
      "0: 608x800 300 Bubbless, 14.0ms\n",
      "Speed: 3.0ms preprocess, 14.0ms inference, 3.0ms postprocess per image at shape (1, 3, 608, 800)\n"
     ]
    },
    {
     "name": "stderr",
     "output_type": "stream",
     "text": [
      " 20%|██        | 364/1798 [5:28:43<24:21:27, 61.15s/it]"
     ]
    },
    {
     "name": "stdout",
     "output_type": "stream",
     "text": [
      "0: 608x800 300 Bubbless, 16.0ms\n",
      "Speed: 4.0ms preprocess, 16.0ms inference, 4.0ms postprocess per image at shape (1, 3, 608, 800)\n"
     ]
    },
    {
     "name": "stderr",
     "output_type": "stream",
     "text": [
      " 20%|██        | 365/1798 [5:29:47<24:39:30, 61.95s/it]"
     ]
    },
    {
     "name": "stdout",
     "output_type": "stream",
     "text": [
      "0: 608x800 300 Bubbless, 17.0ms\n",
      "Speed: 4.0ms preprocess, 17.0ms inference, 3.0ms postprocess per image at shape (1, 3, 608, 800)\n"
     ]
    },
    {
     "name": "stderr",
     "output_type": "stream",
     "text": [
      " 20%|██        | 366/1798 [5:30:49<24:43:57, 62.18s/it]"
     ]
    },
    {
     "name": "stdout",
     "output_type": "stream",
     "text": [
      "0: 608x800 300 Bubbless, 14.0ms\n",
      "Speed: 5.0ms preprocess, 14.0ms inference, 6.0ms postprocess per image at shape (1, 3, 608, 800)\n"
     ]
    },
    {
     "name": "stderr",
     "output_type": "stream",
     "text": [
      " 20%|██        | 367/1798 [5:31:51<24:40:54, 62.09s/it]"
     ]
    },
    {
     "name": "stdout",
     "output_type": "stream",
     "text": [
      "0: 608x800 300 Bubbless, 12.0ms\n",
      "Speed: 3.0ms preprocess, 12.0ms inference, 9.0ms postprocess per image at shape (1, 3, 608, 800)\n"
     ]
    },
    {
     "name": "stderr",
     "output_type": "stream",
     "text": [
      " 20%|██        | 368/1798 [5:32:54<24:42:47, 62.21s/it]"
     ]
    },
    {
     "name": "stdout",
     "output_type": "stream",
     "text": [
      "\n",
      "0: 608x800 300 Bubbless, 14.0ms\n",
      "Speed: 5.0ms preprocess, 14.0ms inference, 4.0ms postprocess per image at shape (1, 3, 608, 800)\n"
     ]
    },
    {
     "name": "stderr",
     "output_type": "stream",
     "text": [
      " 21%|██        | 369/1798 [5:33:56<24:37:50, 62.05s/it]"
     ]
    },
    {
     "name": "stdout",
     "output_type": "stream",
     "text": [
      "\n",
      "0: 608x800 300 Bubbless, 8.0ms\n",
      "Speed: 3.5ms preprocess, 8.0ms inference, 3.0ms postprocess per image at shape (1, 3, 608, 800)\n"
     ]
    },
    {
     "name": "stderr",
     "output_type": "stream",
     "text": [
      " 21%|██        | 370/1798 [5:34:57<24:30:48, 61.80s/it]"
     ]
    },
    {
     "name": "stdout",
     "output_type": "stream",
     "text": [
      "0: 608x800 300 Bubbless, 11.0ms\n",
      "Speed: 5.0ms preprocess, 11.0ms inference, 11.0ms postprocess per image at shape (1, 3, 608, 800)\n"
     ]
    },
    {
     "name": "stderr",
     "output_type": "stream",
     "text": [
      " 21%|██        | 371/1798 [5:35:59<24:32:42, 61.92s/it]"
     ]
    },
    {
     "name": "stdout",
     "output_type": "stream",
     "text": [
      "0: 608x800 300 Bubbless, 12.0ms\n",
      "Speed: 4.0ms preprocess, 12.0ms inference, 8.0ms postprocess per image at shape (1, 3, 608, 800)\n"
     ]
    },
    {
     "name": "stderr",
     "output_type": "stream",
     "text": [
      " 21%|██        | 372/1798 [5:37:00<24:28:16, 61.78s/it]"
     ]
    },
    {
     "name": "stdout",
     "output_type": "stream",
     "text": [
      "0: 608x800 300 Bubbless, 14.0ms\n",
      "Speed: 4.0ms preprocess, 14.0ms inference, 9.0ms postprocess per image at shape (1, 3, 608, 800)\n"
     ]
    },
    {
     "name": "stderr",
     "output_type": "stream",
     "text": [
      " 21%|██        | 373/1798 [5:38:02<24:28:47, 61.84s/it]"
     ]
    },
    {
     "name": "stdout",
     "output_type": "stream",
     "text": [
      "0: 608x800 300 Bubbless, 17.0ms\n",
      "Speed: 6.0ms preprocess, 17.0ms inference, 9.0ms postprocess per image at shape (1, 3, 608, 800)\n"
     ]
    },
    {
     "name": "stderr",
     "output_type": "stream",
     "text": [
      " 21%|██        | 374/1798 [5:38:59<23:54:04, 60.42s/it]"
     ]
    },
    {
     "name": "stdout",
     "output_type": "stream",
     "text": [
      "0: 608x800 300 Bubbless, 29.9ms\n",
      "Speed: 5.0ms preprocess, 29.9ms inference, 4.0ms postprocess per image at shape (1, 3, 608, 800)\n"
     ]
    },
    {
     "name": "stderr",
     "output_type": "stream",
     "text": [
      " 21%|██        | 375/1798 [5:39:54<23:11:28, 58.67s/it]"
     ]
    },
    {
     "name": "stdout",
     "output_type": "stream",
     "text": [
      "0: 608x800 300 Bubbless, 39.9ms\n",
      "Speed: 5.0ms preprocess, 39.9ms inference, 4.0ms postprocess per image at shape (1, 3, 608, 800)\n"
     ]
    },
    {
     "name": "stderr",
     "output_type": "stream",
     "text": [
      " 21%|██        | 376/1798 [5:40:48<22:39:14, 57.35s/it]"
     ]
    },
    {
     "name": "stdout",
     "output_type": "stream",
     "text": [
      "0: 608x800 300 Bubbless, 31.9ms\n",
      "Speed: 5.0ms preprocess, 31.9ms inference, 12.0ms postprocess per image at shape (1, 3, 608, 800)\n"
     ]
    },
    {
     "name": "stderr",
     "output_type": "stream",
     "text": [
      " 21%|██        | 377/1798 [5:41:43<22:17:53, 56.49s/it]"
     ]
    },
    {
     "name": "stdout",
     "output_type": "stream",
     "text": [
      "0: 608x800 300 Bubbless, 31.9ms\n",
      "Speed: 4.0ms preprocess, 31.9ms inference, 6.0ms postprocess per image at shape (1, 3, 608, 800)\n"
     ]
    },
    {
     "name": "stderr",
     "output_type": "stream",
     "text": [
      " 21%|██        | 378/1798 [5:42:37<22:02:43, 55.89s/it]"
     ]
    },
    {
     "name": "stdout",
     "output_type": "stream",
     "text": [
      "0: 608x800 300 Bubbless, 22.9ms\n",
      "Speed: 4.0ms preprocess, 22.9ms inference, 11.0ms postprocess per image at shape (1, 3, 608, 800)\n"
     ]
    },
    {
     "name": "stderr",
     "output_type": "stream",
     "text": [
      " 21%|██        | 379/1798 [5:43:32<21:51:35, 55.46s/it]"
     ]
    },
    {
     "name": "stdout",
     "output_type": "stream",
     "text": [
      "0: 608x800 300 Bubbless, 25.9ms\n",
      "Speed: 3.0ms preprocess, 25.9ms inference, 7.0ms postprocess per image at shape (1, 3, 608, 800)\n"
     ]
    },
    {
     "name": "stderr",
     "output_type": "stream",
     "text": [
      " 21%|██        | 380/1798 [5:44:26<21:43:09, 55.14s/it]"
     ]
    },
    {
     "name": "stdout",
     "output_type": "stream",
     "text": [
      "0: 608x800 300 Bubbless, 26.9ms\n",
      "Speed: 5.0ms preprocess, 26.9ms inference, 11.0ms postprocess per image at shape (1, 3, 608, 800)\n"
     ]
    },
    {
     "name": "stderr",
     "output_type": "stream",
     "text": [
      " 21%|██        | 381/1798 [5:45:21<21:41:12, 55.10s/it]"
     ]
    },
    {
     "name": "stdout",
     "output_type": "stream",
     "text": [
      "0: 608x800 300 Bubbless, 25.9ms\n",
      "Speed: 3.0ms preprocess, 25.9ms inference, 10.0ms postprocess per image at shape (1, 3, 608, 800)\n"
     ]
    },
    {
     "name": "stderr",
     "output_type": "stream",
     "text": [
      " 21%|██        | 382/1798 [5:46:15<21:31:49, 54.74s/it]"
     ]
    },
    {
     "name": "stdout",
     "output_type": "stream",
     "text": [
      "0: 608x800 300 Bubbless, 22.9ms\n",
      "Speed: 6.0ms preprocess, 22.9ms inference, 4.0ms postprocess per image at shape (1, 3, 608, 800)\n"
     ]
    },
    {
     "name": "stderr",
     "output_type": "stream",
     "text": [
      " 21%|██▏       | 383/1798 [5:47:09<21:26:52, 54.57s/it]"
     ]
    },
    {
     "name": "stdout",
     "output_type": "stream",
     "text": [
      "0: 608x800 300 Bubbless, 26.9ms\n",
      "Speed: 5.0ms preprocess, 26.9ms inference, 7.0ms postprocess per image at shape (1, 3, 608, 800)\n"
     ]
    },
    {
     "name": "stderr",
     "output_type": "stream",
     "text": [
      " 21%|██▏       | 384/1798 [5:48:06<21:41:24, 55.22s/it]"
     ]
    },
    {
     "name": "stdout",
     "output_type": "stream",
     "text": [
      "0: 608x800 300 Bubbless, 25.9ms\n",
      "Speed: 4.0ms preprocess, 25.9ms inference, 6.0ms postprocess per image at shape (1, 3, 608, 800)\n"
     ]
    },
    {
     "name": "stderr",
     "output_type": "stream",
     "text": [
      " 21%|██▏       | 385/1798 [5:49:01<21:35:56, 55.03s/it]"
     ]
    },
    {
     "name": "stdout",
     "output_type": "stream",
     "text": [
      "0: 608x800 300 Bubbless, 24.9ms\n",
      "Speed: 7.0ms preprocess, 24.9ms inference, 4.0ms postprocess per image at shape (1, 3, 608, 800)\n"
     ]
    },
    {
     "name": "stderr",
     "output_type": "stream",
     "text": [
      " 21%|██▏       | 386/1798 [5:49:55<21:27:58, 54.73s/it]"
     ]
    },
    {
     "name": "stdout",
     "output_type": "stream",
     "text": [
      "\n",
      "0: 608x800 300 Bubbless, 41.4ms\n",
      "Speed: 4.0ms preprocess, 41.4ms inference, 7.0ms postprocess per image at shape (1, 3, 608, 800)\n"
     ]
    },
    {
     "name": "stderr",
     "output_type": "stream",
     "text": [
      " 22%|██▏       | 387/1798 [5:50:48<21:19:53, 54.42s/it]"
     ]
    },
    {
     "name": "stdout",
     "output_type": "stream",
     "text": [
      "0: 608x800 300 Bubbless, 28.9ms\n",
      "Speed: 5.0ms preprocess, 28.9ms inference, 11.0ms postprocess per image at shape (1, 3, 608, 800)\n"
     ]
    },
    {
     "name": "stderr",
     "output_type": "stream",
     "text": [
      " 22%|██▏       | 388/1798 [5:51:46<21:42:48, 55.44s/it]"
     ]
    },
    {
     "name": "stdout",
     "output_type": "stream",
     "text": [
      "0: 608x800 300 Bubbless, 18.0ms\n",
      "Speed: 4.0ms preprocess, 18.0ms inference, 4.0ms postprocess per image at shape (1, 3, 608, 800)\n"
     ]
    },
    {
     "name": "stderr",
     "output_type": "stream",
     "text": [
      " 22%|██▏       | 389/1798 [5:52:45<22:06:31, 56.49s/it]"
     ]
    },
    {
     "name": "stdout",
     "output_type": "stream",
     "text": [
      "0: 608x800 300 Bubbless, 8.0ms\n",
      "Speed: 4.0ms preprocess, 8.0ms inference, 11.0ms postprocess per image at shape (1, 3, 608, 800)\n"
     ]
    },
    {
     "name": "stderr",
     "output_type": "stream",
     "text": [
      " 22%|██▏       | 390/1798 [5:53:43<22:18:17, 57.03s/it]"
     ]
    },
    {
     "name": "stdout",
     "output_type": "stream",
     "text": [
      "0: 608x800 300 Bubbless, 11.0ms\n",
      "Speed: 4.0ms preprocess, 11.0ms inference, 7.0ms postprocess per image at shape (1, 3, 608, 800)\n"
     ]
    },
    {
     "name": "stderr",
     "output_type": "stream",
     "text": [
      " 22%|██▏       | 391/1798 [5:54:42<22:31:40, 57.64s/it]"
     ]
    },
    {
     "name": "stdout",
     "output_type": "stream",
     "text": [
      "0: 608x800 300 Bubbless, 21.9ms\n",
      "Speed: 5.0ms preprocess, 21.9ms inference, 6.0ms postprocess per image at shape (1, 3, 608, 800)\n"
     ]
    },
    {
     "name": "stderr",
     "output_type": "stream",
     "text": [
      " 22%|██▏       | 392/1798 [5:55:43<22:51:07, 58.51s/it]"
     ]
    },
    {
     "name": "stdout",
     "output_type": "stream",
     "text": [
      "0: 608x800 300 Bubbless, 16.0ms\n",
      "Speed: 4.0ms preprocess, 16.0ms inference, 11.0ms postprocess per image at shape (1, 3, 608, 800)\n"
     ]
    },
    {
     "name": "stderr",
     "output_type": "stream",
     "text": [
      " 22%|██▏       | 393/1798 [5:56:41<22:46:47, 58.37s/it]"
     ]
    },
    {
     "name": "stdout",
     "output_type": "stream",
     "text": [
      "0: 608x800 300 Bubbless, 7.0ms\n",
      "Speed: 4.0ms preprocess, 7.0ms inference, 6.0ms postprocess per image at shape (1, 3, 608, 800)\n"
     ]
    },
    {
     "name": "stderr",
     "output_type": "stream",
     "text": [
      " 22%|██▏       | 394/1798 [5:57:39<22:44:02, 58.29s/it]"
     ]
    },
    {
     "name": "stdout",
     "output_type": "stream",
     "text": [
      "0: 608x800 300 Bubbless, 10.0ms\n",
      "Speed: 4.0ms preprocess, 10.0ms inference, 9.0ms postprocess per image at shape (1, 3, 608, 800)\n"
     ]
    },
    {
     "name": "stderr",
     "output_type": "stream",
     "text": [
      " 22%|██▏       | 395/1798 [5:58:36<22:31:24, 57.79s/it]"
     ]
    },
    {
     "name": "stdout",
     "output_type": "stream",
     "text": [
      "0: 608x800 300 Bubbless, 23.9ms\n",
      "Speed: 6.0ms preprocess, 23.9ms inference, 4.0ms postprocess per image at shape (1, 3, 608, 800)\n"
     ]
    },
    {
     "name": "stderr",
     "output_type": "stream",
     "text": [
      " 22%|██▏       | 396/1798 [5:59:32<22:16:36, 57.20s/it]"
     ]
    },
    {
     "name": "stdout",
     "output_type": "stream",
     "text": [
      "0: 608x800 300 Bubbless, 10.0ms\n",
      "Speed: 4.0ms preprocess, 10.0ms inference, 4.0ms postprocess per image at shape (1, 3, 608, 800)\n"
     ]
    },
    {
     "name": "stderr",
     "output_type": "stream",
     "text": [
      " 22%|██▏       | 397/1798 [6:00:27<22:06:19, 56.80s/it]"
     ]
    },
    {
     "name": "stdout",
     "output_type": "stream",
     "text": [
      "0: 608x800 300 Bubbless, 10.0ms\n",
      "Speed: 4.0ms preprocess, 10.0ms inference, 9.0ms postprocess per image at shape (1, 3, 608, 800)\n"
     ]
    },
    {
     "name": "stderr",
     "output_type": "stream",
     "text": [
      " 22%|██▏       | 398/1798 [6:01:25<22:08:03, 56.92s/it]"
     ]
    },
    {
     "name": "stdout",
     "output_type": "stream",
     "text": [
      "0: 608x800 300 Bubbless, 14.5ms\n",
      "Speed: 5.0ms preprocess, 14.5ms inference, 4.0ms postprocess per image at shape (1, 3, 608, 800)\n"
     ]
    },
    {
     "name": "stderr",
     "output_type": "stream",
     "text": [
      " 22%|██▏       | 399/1798 [6:02:21<22:03:50, 56.78s/it]"
     ]
    },
    {
     "name": "stdout",
     "output_type": "stream",
     "text": [
      "0: 608x800 300 Bubbless, 25.9ms\n",
      "Speed: 5.1ms preprocess, 25.9ms inference, 4.0ms postprocess per image at shape (1, 3, 608, 800)\n"
     ]
    },
    {
     "name": "stderr",
     "output_type": "stream",
     "text": [
      " 22%|██▏       | 400/1798 [6:03:18<22:02:41, 56.77s/it]"
     ]
    },
    {
     "name": "stdout",
     "output_type": "stream",
     "text": [
      "0: 608x800 300 Bubbless, 19.9ms\n",
      "Speed: 5.0ms preprocess, 19.9ms inference, 8.0ms postprocess per image at shape (1, 3, 608, 800)\n"
     ]
    },
    {
     "name": "stderr",
     "output_type": "stream",
     "text": [
      " 22%|██▏       | 401/1798 [6:04:15<22:06:07, 56.96s/it]"
     ]
    },
    {
     "name": "stdout",
     "output_type": "stream",
     "text": [
      "0: 608x800 300 Bubbless, 8.0ms\n",
      "Speed: 4.0ms preprocess, 8.0ms inference, 9.0ms postprocess per image at shape (1, 3, 608, 800)\n"
     ]
    },
    {
     "name": "stderr",
     "output_type": "stream",
     "text": [
      " 22%|██▏       | 402/1798 [6:05:13<22:13:10, 57.30s/it]"
     ]
    },
    {
     "name": "stdout",
     "output_type": "stream",
     "text": [
      "0: 608x800 300 Bubbless, 17.0ms\n",
      "Speed: 6.0ms preprocess, 17.0ms inference, 4.0ms postprocess per image at shape (1, 3, 608, 800)\n"
     ]
    },
    {
     "name": "stderr",
     "output_type": "stream",
     "text": [
      " 22%|██▏       | 403/1798 [6:06:13<22:25:56, 57.89s/it]"
     ]
    },
    {
     "name": "stdout",
     "output_type": "stream",
     "text": [
      "0: 608x800 300 Bubbless, 18.0ms\n",
      "Speed: 5.0ms preprocess, 18.0ms inference, 7.0ms postprocess per image at shape (1, 3, 608, 800)\n"
     ]
    },
    {
     "name": "stderr",
     "output_type": "stream",
     "text": [
      " 22%|██▏       | 404/1798 [6:07:11<22:31:29, 58.17s/it]"
     ]
    },
    {
     "name": "stdout",
     "output_type": "stream",
     "text": [
      "0: 608x800 300 Bubbless, 28.9ms\n",
      "Speed: 4.0ms preprocess, 28.9ms inference, 4.0ms postprocess per image at shape (1, 3, 608, 800)\n"
     ]
    },
    {
     "name": "stderr",
     "output_type": "stream",
     "text": [
      " 23%|██▎       | 405/1798 [6:08:12<22:48:09, 58.93s/it]"
     ]
    },
    {
     "name": "stdout",
     "output_type": "stream",
     "text": [
      "0: 608x800 300 Bubbless, 32.9ms\n",
      "Speed: 6.0ms preprocess, 32.9ms inference, 10.0ms postprocess per image at shape (1, 3, 608, 800)\n"
     ]
    },
    {
     "name": "stderr",
     "output_type": "stream",
     "text": [
      " 23%|██▎       | 406/1798 [6:09:20<23:50:41, 61.67s/it]"
     ]
    },
    {
     "name": "stdout",
     "output_type": "stream",
     "text": [
      "0: 608x800 300 Bubbless, 10.0ms\n",
      "Speed: 6.0ms preprocess, 10.0ms inference, 10.0ms postprocess per image at shape (1, 3, 608, 800)\n"
     ]
    },
    {
     "name": "stderr",
     "output_type": "stream",
     "text": [
      " 23%|██▎       | 407/1798 [6:10:26<24:16:13, 62.81s/it]"
     ]
    },
    {
     "name": "stdout",
     "output_type": "stream",
     "text": [
      "0: 608x800 300 Bubbless, 10.5ms\n",
      "Speed: 6.0ms preprocess, 10.5ms inference, 8.0ms postprocess per image at shape (1, 3, 608, 800)\n"
     ]
    },
    {
     "name": "stderr",
     "output_type": "stream",
     "text": [
      " 23%|██▎       | 408/1798 [6:11:30<24:29:15, 63.42s/it]"
     ]
    },
    {
     "name": "stdout",
     "output_type": "stream",
     "text": [
      "0: 608x800 300 Bubbless, 10.0ms\n",
      "Speed: 6.0ms preprocess, 10.0ms inference, 8.0ms postprocess per image at shape (1, 3, 608, 800)\n"
     ]
    },
    {
     "name": "stderr",
     "output_type": "stream",
     "text": [
      " 23%|██▎       | 409/1798 [6:12:36<24:44:45, 64.14s/it]"
     ]
    },
    {
     "name": "stdout",
     "output_type": "stream",
     "text": [
      "0: 608x800 300 Bubbless, 12.0ms\n",
      "Speed: 4.0ms preprocess, 12.0ms inference, 3.0ms postprocess per image at shape (1, 3, 608, 800)\n"
     ]
    },
    {
     "name": "stderr",
     "output_type": "stream",
     "text": [
      " 23%|██▎       | 410/1798 [6:13:42<24:56:23, 64.69s/it]"
     ]
    },
    {
     "name": "stdout",
     "output_type": "stream",
     "text": [
      "\n",
      "0: 608x800 300 Bubbless, 15.0ms\n",
      "Speed: 4.0ms preprocess, 15.0ms inference, 4.0ms postprocess per image at shape (1, 3, 608, 800)\n"
     ]
    },
    {
     "name": "stderr",
     "output_type": "stream",
     "text": [
      " 23%|██▎       | 411/1798 [6:14:49<25:07:13, 65.20s/it]"
     ]
    },
    {
     "name": "stdout",
     "output_type": "stream",
     "text": [
      "0: 608x800 300 Bubbless, 14.0ms\n",
      "Speed: 5.0ms preprocess, 14.0ms inference, 6.0ms postprocess per image at shape (1, 3, 608, 800)\n"
     ]
    },
    {
     "name": "stderr",
     "output_type": "stream",
     "text": [
      " 23%|██▎       | 412/1798 [6:15:55<25:12:51, 65.49s/it]"
     ]
    },
    {
     "name": "stdout",
     "output_type": "stream",
     "text": [
      "0: 608x800 300 Bubbless, 18.0ms\n",
      "Speed: 4.0ms preprocess, 18.0ms inference, 9.0ms postprocess per image at shape (1, 3, 608, 800)\n"
     ]
    },
    {
     "name": "stderr",
     "output_type": "stream",
     "text": [
      " 23%|██▎       | 413/1798 [6:16:56<24:41:14, 64.17s/it]"
     ]
    },
    {
     "name": "stdout",
     "output_type": "stream",
     "text": [
      "0: 608x800 300 Bubbless, 24.7ms\n",
      "Speed: 6.0ms preprocess, 24.7ms inference, 3.0ms postprocess per image at shape (1, 3, 608, 800)\n"
     ]
    },
    {
     "name": "stderr",
     "output_type": "stream",
     "text": [
      " 23%|██▎       | 414/1798 [6:17:56<24:11:06, 62.91s/it]"
     ]
    },
    {
     "name": "stdout",
     "output_type": "stream",
     "text": [
      "0: 608x800 300 Bubbless, 9.0ms\n",
      "Speed: 4.0ms preprocess, 9.0ms inference, 10.0ms postprocess per image at shape (1, 3, 608, 800)\n"
     ]
    },
    {
     "name": "stderr",
     "output_type": "stream",
     "text": [
      " 23%|██▎       | 415/1798 [6:18:56<23:52:24, 62.14s/it]"
     ]
    },
    {
     "name": "stdout",
     "output_type": "stream",
     "text": [
      "0: 608x800 300 Bubbless, 24.4ms\n",
      "Speed: 6.0ms preprocess, 24.4ms inference, 13.0ms postprocess per image at shape (1, 3, 608, 800)\n"
     ]
    },
    {
     "name": "stderr",
     "output_type": "stream",
     "text": [
      " 23%|██▎       | 416/1798 [6:19:56<23:37:35, 61.55s/it]"
     ]
    },
    {
     "name": "stdout",
     "output_type": "stream",
     "text": [
      "0: 608x800 300 Bubbless, 12.0ms\n",
      "Speed: 6.0ms preprocess, 12.0ms inference, 9.0ms postprocess per image at shape (1, 3, 608, 800)\n"
     ]
    },
    {
     "name": "stderr",
     "output_type": "stream",
     "text": [
      " 23%|██▎       | 417/1798 [6:20:58<23:34:50, 61.47s/it]"
     ]
    },
    {
     "name": "stdout",
     "output_type": "stream",
     "text": [
      "0: 608x800 300 Bubbless, 14.0ms\n",
      "Speed: 5.0ms preprocess, 14.0ms inference, 9.0ms postprocess per image at shape (1, 3, 608, 800)\n"
     ]
    },
    {
     "name": "stderr",
     "output_type": "stream",
     "text": [
      " 23%|██▎       | 418/1798 [6:22:01<23:45:43, 61.99s/it]"
     ]
    },
    {
     "name": "stdout",
     "output_type": "stream",
     "text": [
      "0: 608x800 300 Bubbless, 23.9ms\n",
      "Speed: 5.0ms preprocess, 23.9ms inference, 6.0ms postprocess per image at shape (1, 3, 608, 800)\n"
     ]
    },
    {
     "name": "stderr",
     "output_type": "stream",
     "text": [
      " 23%|██▎       | 419/1798 [6:23:01<23:33:04, 61.48s/it]"
     ]
    },
    {
     "name": "stdout",
     "output_type": "stream",
     "text": [
      "0: 608x800 300 Bubbless, 22.9ms\n",
      "Speed: 5.0ms preprocess, 22.9ms inference, 4.0ms postprocess per image at shape (1, 3, 608, 800)\n"
     ]
    },
    {
     "name": "stderr",
     "output_type": "stream",
     "text": [
      " 23%|██▎       | 420/1798 [6:23:58<23:02:03, 60.18s/it]"
     ]
    },
    {
     "name": "stdout",
     "output_type": "stream",
     "text": [
      "0: 608x800 300 Bubbless, 18.0ms\n",
      "Speed: 4.0ms preprocess, 18.0ms inference, 3.0ms postprocess per image at shape (1, 3, 608, 800)\n"
     ]
    },
    {
     "name": "stderr",
     "output_type": "stream",
     "text": [
      " 23%|██▎       | 421/1798 [6:24:56<22:47:08, 59.57s/it]"
     ]
    },
    {
     "name": "stdout",
     "output_type": "stream",
     "text": [
      "0: 608x800 300 Bubbless, 11.0ms\n",
      "Speed: 5.0ms preprocess, 11.0ms inference, 4.0ms postprocess per image at shape (1, 3, 608, 800)\n"
     ]
    },
    {
     "name": "stderr",
     "output_type": "stream",
     "text": [
      " 23%|██▎       | 422/1798 [6:26:03<23:36:12, 61.75s/it]"
     ]
    },
    {
     "name": "stdout",
     "output_type": "stream",
     "text": [
      "0: 608x800 300 Bubbless, 23.5ms\n",
      "Speed: 5.0ms preprocess, 23.5ms inference, 6.0ms postprocess per image at shape (1, 3, 608, 800)\n"
     ]
    },
    {
     "name": "stderr",
     "output_type": "stream",
     "text": [
      " 24%|██▎       | 423/1798 [6:27:10<24:10:22, 63.29s/it]"
     ]
    },
    {
     "name": "stdout",
     "output_type": "stream",
     "text": [
      "\n",
      "0: 608x800 300 Bubbless, 9.0ms\n",
      "Speed: 5.0ms preprocess, 9.0ms inference, 4.0ms postprocess per image at shape (1, 3, 608, 800)\n"
     ]
    },
    {
     "name": "stderr",
     "output_type": "stream",
     "text": [
      " 24%|██▎       | 424/1798 [6:28:18<24:37:57, 64.54s/it]"
     ]
    },
    {
     "name": "stdout",
     "output_type": "stream",
     "text": [
      "0: 608x800 300 Bubbless, 7.0ms\n",
      "Speed: 5.0ms preprocess, 7.0ms inference, 3.0ms postprocess per image at shape (1, 3, 608, 800)\n"
     ]
    },
    {
     "name": "stderr",
     "output_type": "stream",
     "text": [
      " 24%|██▎       | 425/1798 [6:29:28<25:17:12, 66.30s/it]"
     ]
    },
    {
     "name": "stdout",
     "output_type": "stream",
     "text": [
      "0: 608x800 300 Bubbless, 13.0ms\n",
      "Speed: 6.0ms preprocess, 13.0ms inference, 12.0ms postprocess per image at shape (1, 3, 608, 800)\n"
     ]
    },
    {
     "name": "stderr",
     "output_type": "stream",
     "text": [
      " 24%|██▎       | 426/1798 [6:30:46<26:35:52, 69.79s/it]"
     ]
    },
    {
     "name": "stdout",
     "output_type": "stream",
     "text": [
      "0: 608x800 300 Bubbless, 18.0ms\n",
      "Speed: 3.0ms preprocess, 18.0ms inference, 4.0ms postprocess per image at shape (1, 3, 608, 800)\n"
     ]
    },
    {
     "name": "stderr",
     "output_type": "stream",
     "text": [
      " 24%|██▎       | 427/1798 [6:32:04<27:31:23, 72.27s/it]"
     ]
    },
    {
     "name": "stdout",
     "output_type": "stream",
     "text": [
      "0: 608x800 300 Bubbless, 17.0ms\n",
      "Speed: 5.0ms preprocess, 17.0ms inference, 5.0ms postprocess per image at shape (1, 3, 608, 800)\n"
     ]
    },
    {
     "name": "stderr",
     "output_type": "stream",
     "text": [
      " 24%|██▍       | 428/1798 [6:33:37<29:51:23, 78.46s/it]"
     ]
    },
    {
     "name": "stdout",
     "output_type": "stream",
     "text": [
      "0: 608x800 300 Bubbless, 13.0ms\n",
      "Speed: 5.0ms preprocess, 13.0ms inference, 7.0ms postprocess per image at shape (1, 3, 608, 800)\n"
     ]
    },
    {
     "name": "stderr",
     "output_type": "stream",
     "text": [
      " 24%|██▍       | 429/1798 [6:34:53<29:34:26, 77.77s/it]"
     ]
    },
    {
     "name": "stdout",
     "output_type": "stream",
     "text": [
      "0: 608x800 300 Bubbless, 14.0ms\n",
      "Speed: 4.0ms preprocess, 14.0ms inference, 8.0ms postprocess per image at shape (1, 3, 608, 800)\n"
     ]
    },
    {
     "name": "stderr",
     "output_type": "stream",
     "text": [
      " 24%|██▍       | 430/1798 [6:36:02<28:29:39, 74.99s/it]"
     ]
    },
    {
     "name": "stdout",
     "output_type": "stream",
     "text": [
      "0: 608x800 300 Bubbless, 18.0ms\n",
      "Speed: 5.0ms preprocess, 18.0ms inference, 9.0ms postprocess per image at shape (1, 3, 608, 800)\n"
     ]
    },
    {
     "name": "stderr",
     "output_type": "stream",
     "text": [
      " 24%|██▍       | 431/1798 [6:37:01<26:42:23, 70.33s/it]"
     ]
    },
    {
     "name": "stdout",
     "output_type": "stream",
     "text": [
      "0: 608x800 300 Bubbless, 19.9ms\n",
      "Speed: 6.0ms preprocess, 19.9ms inference, 5.0ms postprocess per image at shape (1, 3, 608, 800)\n"
     ]
    },
    {
     "name": "stderr",
     "output_type": "stream",
     "text": [
      " 24%|██▍       | 432/1798 [6:38:00<25:23:15, 66.91s/it]"
     ]
    },
    {
     "name": "stdout",
     "output_type": "stream",
     "text": [
      "0: 608x800 300 Bubbless, 20.9ms\n",
      "Speed: 3.0ms preprocess, 20.9ms inference, 6.0ms postprocess per image at shape (1, 3, 608, 800)\n"
     ]
    },
    {
     "name": "stderr",
     "output_type": "stream",
     "text": [
      " 24%|██▍       | 433/1798 [6:39:00<24:33:18, 64.76s/it]"
     ]
    },
    {
     "name": "stdout",
     "output_type": "stream",
     "text": [
      "0: 608x800 300 Bubbless, 18.0ms\n",
      "Speed: 3.0ms preprocess, 18.0ms inference, 4.0ms postprocess per image at shape (1, 3, 608, 800)\n"
     ]
    },
    {
     "name": "stderr",
     "output_type": "stream",
     "text": [
      " 24%|██▍       | 434/1798 [6:40:03<24:20:30, 64.25s/it]"
     ]
    },
    {
     "name": "stdout",
     "output_type": "stream",
     "text": [
      "0: 608x800 300 Bubbless, 21.9ms\n",
      "Speed: 4.0ms preprocess, 21.9ms inference, 9.0ms postprocess per image at shape (1, 3, 608, 800)\n"
     ]
    },
    {
     "name": "stderr",
     "output_type": "stream",
     "text": [
      " 24%|██▍       | 435/1798 [6:41:03<23:51:21, 63.01s/it]"
     ]
    },
    {
     "name": "stdout",
     "output_type": "stream",
     "text": [
      "0: 608x800 300 Bubbless, 25.9ms\n",
      "Speed: 5.0ms preprocess, 25.9ms inference, 5.0ms postprocess per image at shape (1, 3, 608, 800)\n"
     ]
    },
    {
     "name": "stderr",
     "output_type": "stream",
     "text": [
      " 24%|██▍       | 436/1798 [6:42:03<23:31:09, 62.17s/it]"
     ]
    },
    {
     "name": "stdout",
     "output_type": "stream",
     "text": [
      "0: 608x800 300 Bubbless, 15.5ms\n",
      "Speed: 4.0ms preprocess, 15.5ms inference, 6.0ms postprocess per image at shape (1, 3, 608, 800)\n"
     ]
    },
    {
     "name": "stderr",
     "output_type": "stream",
     "text": [
      " 24%|██▍       | 437/1798 [6:43:03<23:12:49, 61.40s/it]"
     ]
    },
    {
     "name": "stdout",
     "output_type": "stream",
     "text": [
      "0: 608x800 300 Bubbless, 12.0ms\n",
      "Speed: 3.0ms preprocess, 12.0ms inference, 3.0ms postprocess per image at shape (1, 3, 608, 800)\n"
     ]
    },
    {
     "name": "stderr",
     "output_type": "stream",
     "text": [
      " 24%|██▍       | 438/1798 [6:44:04<23:08:03, 61.24s/it]"
     ]
    },
    {
     "name": "stdout",
     "output_type": "stream",
     "text": [
      "0: 608x800 300 Bubbless, 25.9ms\n",
      "Speed: 4.0ms preprocess, 25.9ms inference, 4.0ms postprocess per image at shape (1, 3, 608, 800)\n"
     ]
    },
    {
     "name": "stderr",
     "output_type": "stream",
     "text": [
      " 24%|██▍       | 439/1798 [6:45:04<23:02:14, 61.03s/it]"
     ]
    },
    {
     "name": "stdout",
     "output_type": "stream",
     "text": [
      "0: 608x800 300 Bubbless, 18.0ms\n",
      "Speed: 5.0ms preprocess, 18.0ms inference, 11.0ms postprocess per image at shape (1, 3, 608, 800)\n"
     ]
    },
    {
     "name": "stderr",
     "output_type": "stream",
     "text": [
      " 24%|██▍       | 440/1798 [6:46:08<23:20:37, 61.88s/it]"
     ]
    },
    {
     "name": "stdout",
     "output_type": "stream",
     "text": [
      "0: 608x800 300 Bubbless, 12.0ms\n",
      "Speed: 6.0ms preprocess, 12.0ms inference, 6.0ms postprocess per image at shape (1, 3, 608, 800)\n"
     ]
    },
    {
     "name": "stderr",
     "output_type": "stream",
     "text": [
      " 25%|██▍       | 441/1798 [6:47:15<23:57:53, 63.58s/it]"
     ]
    },
    {
     "name": "stdout",
     "output_type": "stream",
     "text": [
      "0: 608x800 300 Bubbless, 16.0ms\n",
      "Speed: 4.0ms preprocess, 16.0ms inference, 8.0ms postprocess per image at shape (1, 3, 608, 800)\n"
     ]
    },
    {
     "name": "stderr",
     "output_type": "stream",
     "text": [
      " 25%|██▍       | 442/1798 [6:48:20<24:03:08, 63.86s/it]"
     ]
    },
    {
     "name": "stdout",
     "output_type": "stream",
     "text": [
      "0: 608x800 300 Bubbless, 15.0ms\n",
      "Speed: 4.0ms preprocess, 15.0ms inference, 4.0ms postprocess per image at shape (1, 3, 608, 800)\n"
     ]
    },
    {
     "name": "stderr",
     "output_type": "stream",
     "text": [
      " 25%|██▍       | 443/1798 [6:49:25<24:09:54, 64.20s/it]"
     ]
    },
    {
     "name": "stdout",
     "output_type": "stream",
     "text": [
      "0: 608x800 300 Bubbless, 14.0ms\n",
      "Speed: 4.0ms preprocess, 14.0ms inference, 4.0ms postprocess per image at shape (1, 3, 608, 800)\n"
     ]
    },
    {
     "name": "stderr",
     "output_type": "stream",
     "text": [
      " 25%|██▍       | 444/1798 [6:50:26<23:49:08, 63.33s/it]"
     ]
    },
    {
     "name": "stdout",
     "output_type": "stream",
     "text": [
      "0: 608x800 300 Bubbless, 18.9ms\n",
      "Speed: 5.0ms preprocess, 18.9ms inference, 5.0ms postprocess per image at shape (1, 3, 608, 800)\n"
     ]
    },
    {
     "name": "stderr",
     "output_type": "stream",
     "text": [
      " 25%|██▍       | 445/1798 [6:51:41<25:07:35, 66.86s/it]"
     ]
    },
    {
     "name": "stdout",
     "output_type": "stream",
     "text": [
      "0: 608x800 300 Bubbless, 19.9ms\n",
      "Speed: 5.0ms preprocess, 19.9ms inference, 9.0ms postprocess per image at shape (1, 3, 608, 800)\n"
     ]
    },
    {
     "name": "stderr",
     "output_type": "stream",
     "text": [
      " 25%|██▍       | 446/1798 [6:53:03<26:46:05, 71.28s/it]"
     ]
    },
    {
     "name": "stdout",
     "output_type": "stream",
     "text": [
      "0: 608x800 300 Bubbless, 24.9ms\n",
      "Speed: 7.0ms preprocess, 24.9ms inference, 7.0ms postprocess per image at shape (1, 3, 608, 800)\n"
     ]
    },
    {
     "name": "stderr",
     "output_type": "stream",
     "text": [
      " 25%|██▍       | 447/1798 [6:54:17<27:00:51, 71.99s/it]"
     ]
    },
    {
     "name": "stdout",
     "output_type": "stream",
     "text": [
      "0: 608x800 281 Bubbless, 12.0ms\n",
      "Speed: 5.0ms preprocess, 12.0ms inference, 3.0ms postprocess per image at shape (1, 3, 608, 800)\n"
     ]
    },
    {
     "name": "stderr",
     "output_type": "stream",
     "text": [
      " 25%|██▍       | 448/1798 [6:55:38<28:01:18, 74.72s/it]"
     ]
    },
    {
     "name": "stdout",
     "output_type": "stream",
     "text": [
      "0: 608x800 300 Bubbless, 28.9ms\n",
      "Speed: 8.0ms preprocess, 28.9ms inference, 12.0ms postprocess per image at shape (1, 3, 608, 800)\n"
     ]
    },
    {
     "name": "stderr",
     "output_type": "stream",
     "text": [
      " 25%|██▍       | 449/1798 [6:57:03<29:11:06, 77.88s/it]"
     ]
    },
    {
     "name": "stdout",
     "output_type": "stream",
     "text": [
      "0: 608x800 300 Bubbless, 16.0ms\n",
      "Speed: 6.0ms preprocess, 16.0ms inference, 14.0ms postprocess per image at shape (1, 3, 608, 800)\n"
     ]
    },
    {
     "name": "stderr",
     "output_type": "stream",
     "text": [
      " 25%|██▌       | 450/1798 [6:58:23<29:22:32, 78.45s/it]"
     ]
    },
    {
     "name": "stdout",
     "output_type": "stream",
     "text": [
      "0: 608x800 300 Bubbless, 17.0ms\n",
      "Speed: 5.0ms preprocess, 17.0ms inference, 5.0ms postprocess per image at shape (1, 3, 608, 800)\n"
     ]
    },
    {
     "name": "stderr",
     "output_type": "stream",
     "text": [
      " 25%|██▌       | 451/1798 [6:59:43<29:33:11, 78.98s/it]"
     ]
    },
    {
     "name": "stdout",
     "output_type": "stream",
     "text": [
      "0: 608x800 300 Bubbless, 10.0ms\n",
      "Speed: 5.0ms preprocess, 10.0ms inference, 5.0ms postprocess per image at shape (1, 3, 608, 800)\n"
     ]
    },
    {
     "name": "stderr",
     "output_type": "stream",
     "text": [
      " 25%|██▌       | 452/1798 [7:01:01<29:23:10, 78.60s/it]"
     ]
    },
    {
     "name": "stdout",
     "output_type": "stream",
     "text": [
      "0: 608x800 300 Bubbless, 15.0ms\n",
      "Speed: 6.0ms preprocess, 15.0ms inference, 10.0ms postprocess per image at shape (1, 3, 608, 800)\n"
     ]
    },
    {
     "name": "stderr",
     "output_type": "stream",
     "text": [
      " 25%|██▌       | 453/1798 [7:02:17<29:08:57, 78.02s/it]"
     ]
    },
    {
     "name": "stdout",
     "output_type": "stream",
     "text": [
      "0: 608x800 300 Bubbless, 17.0ms\n",
      "Speed: 4.0ms preprocess, 17.0ms inference, 12.0ms postprocess per image at shape (1, 3, 608, 800)\n"
     ]
    },
    {
     "name": "stderr",
     "output_type": "stream",
     "text": [
      " 25%|██▌       | 454/1798 [7:03:36<29:14:09, 78.31s/it]"
     ]
    },
    {
     "name": "stdout",
     "output_type": "stream",
     "text": [
      "0: 608x800 300 Bubbless, 16.0ms\n",
      "Speed: 6.0ms preprocess, 16.0ms inference, 8.0ms postprocess per image at shape (1, 3, 608, 800)\n"
     ]
    },
    {
     "name": "stderr",
     "output_type": "stream",
     "text": [
      " 25%|██▌       | 455/1798 [7:04:53<29:02:46, 77.86s/it]"
     ]
    },
    {
     "name": "stdout",
     "output_type": "stream",
     "text": [
      "0: 608x800 300 Bubbless, 17.0ms\n",
      "Speed: 7.0ms preprocess, 17.0ms inference, 6.0ms postprocess per image at shape (1, 3, 608, 800)\n"
     ]
    },
    {
     "name": "stderr",
     "output_type": "stream",
     "text": [
      " 25%|██▌       | 456/1798 [7:06:10<28:52:28, 77.46s/it]"
     ]
    },
    {
     "name": "stdout",
     "output_type": "stream",
     "text": [
      "0: 608x800 300 Bubbless, 21.2ms\n",
      "Speed: 5.5ms preprocess, 21.2ms inference, 16.0ms postprocess per image at shape (1, 3, 608, 800)\n"
     ]
    },
    {
     "name": "stderr",
     "output_type": "stream",
     "text": [
      " 25%|██▌       | 457/1798 [7:07:26<28:44:02, 77.14s/it]"
     ]
    },
    {
     "name": "stdout",
     "output_type": "stream",
     "text": [
      "0: 608x800 300 Bubbless, 14.0ms\n",
      "Speed: 6.0ms preprocess, 14.0ms inference, 7.0ms postprocess per image at shape (1, 3, 608, 800)\n"
     ]
    },
    {
     "name": "stderr",
     "output_type": "stream",
     "text": [
      " 25%|██▌       | 458/1798 [7:08:45<28:51:28, 77.53s/it]"
     ]
    },
    {
     "name": "stdout",
     "output_type": "stream",
     "text": [
      "0: 608x800 300 Bubbless, 13.0ms\n",
      "Speed: 5.0ms preprocess, 13.0ms inference, 8.0ms postprocess per image at shape (1, 3, 608, 800)\n"
     ]
    },
    {
     "name": "stderr",
     "output_type": "stream",
     "text": [
      " 26%|██▌       | 459/1798 [7:10:01<28:42:39, 77.19s/it]"
     ]
    },
    {
     "name": "stdout",
     "output_type": "stream",
     "text": [
      "0: 608x800 300 Bubbless, 14.0ms\n",
      "Speed: 5.0ms preprocess, 14.0ms inference, 14.0ms postprocess per image at shape (1, 3, 608, 800)\n"
     ]
    },
    {
     "name": "stderr",
     "output_type": "stream",
     "text": [
      " 26%|██▌       | 460/1798 [7:11:19<28:45:21, 77.37s/it]"
     ]
    },
    {
     "name": "stdout",
     "output_type": "stream",
     "text": [
      "0: 608x800 300 Bubbless, 19.9ms\n",
      "Speed: 5.0ms preprocess, 19.9ms inference, 4.0ms postprocess per image at shape (1, 3, 608, 800)\n"
     ]
    },
    {
     "name": "stderr",
     "output_type": "stream",
     "text": [
      " 26%|██▌       | 461/1798 [7:12:36<28:45:06, 77.42s/it]"
     ]
    },
    {
     "name": "stdout",
     "output_type": "stream",
     "text": [
      "0: 608x800 300 Bubbless, 16.0ms\n",
      "Speed: 5.0ms preprocess, 16.0ms inference, 6.0ms postprocess per image at shape (1, 3, 608, 800)\n"
     ]
    },
    {
     "name": "stderr",
     "output_type": "stream",
     "text": [
      " 26%|██▌       | 462/1798 [7:13:53<28:39:11, 77.21s/it]"
     ]
    },
    {
     "name": "stdout",
     "output_type": "stream",
     "text": [
      "0: 608x800 300 Bubbless, 15.0ms\n",
      "Speed: 5.0ms preprocess, 15.0ms inference, 8.0ms postprocess per image at shape (1, 3, 608, 800)\n"
     ]
    },
    {
     "name": "stderr",
     "output_type": "stream",
     "text": [
      " 26%|██▌       | 463/1798 [7:15:09<28:30:33, 76.88s/it]"
     ]
    },
    {
     "name": "stdout",
     "output_type": "stream",
     "text": [
      "0: 608x800 300 Bubbless, 14.0ms\n",
      "Speed: 5.0ms preprocess, 14.0ms inference, 7.0ms postprocess per image at shape (1, 3, 608, 800)\n"
     ]
    },
    {
     "name": "stderr",
     "output_type": "stream",
     "text": [
      " 26%|██▌       | 464/1798 [7:16:26<28:30:13, 76.92s/it]"
     ]
    },
    {
     "name": "stdout",
     "output_type": "stream",
     "text": [
      "0: 608x800 300 Bubbless, 14.0ms\n",
      "Speed: 4.0ms preprocess, 14.0ms inference, 8.0ms postprocess per image at shape (1, 3, 608, 800)\n"
     ]
    },
    {
     "name": "stderr",
     "output_type": "stream",
     "text": [
      " 26%|██▌       | 465/1798 [7:17:42<28:19:49, 76.51s/it]"
     ]
    },
    {
     "name": "stdout",
     "output_type": "stream",
     "text": [
      "0: 608x800 300 Bubbless, 14.0ms\n",
      "Speed: 4.0ms preprocess, 14.0ms inference, 6.0ms postprocess per image at shape (1, 3, 608, 800)\n"
     ]
    },
    {
     "name": "stderr",
     "output_type": "stream",
     "text": [
      " 26%|██▌       | 466/1798 [7:18:59<28:23:52, 76.75s/it]"
     ]
    },
    {
     "name": "stdout",
     "output_type": "stream",
     "text": [
      "0: 608x800 300 Bubbless, 17.0ms\n",
      "Speed: 5.0ms preprocess, 17.0ms inference, 8.0ms postprocess per image at shape (1, 3, 608, 800)\n"
     ]
    },
    {
     "name": "stderr",
     "output_type": "stream",
     "text": [
      " 26%|██▌       | 467/1798 [7:20:19<28:47:42, 77.88s/it]"
     ]
    },
    {
     "name": "stdout",
     "output_type": "stream",
     "text": [
      "0: 608x800 300 Bubbless, 8.0ms\n",
      "Speed: 6.0ms preprocess, 8.0ms inference, 4.0ms postprocess per image at shape (1, 3, 608, 800)\n"
     ]
    },
    {
     "name": "stderr",
     "output_type": "stream",
     "text": [
      " 26%|██▌       | 468/1798 [7:21:38<28:48:49, 77.99s/it]"
     ]
    },
    {
     "name": "stdout",
     "output_type": "stream",
     "text": [
      "0: 608x800 300 Bubbless, 18.0ms\n",
      "Speed: 5.0ms preprocess, 18.0ms inference, 5.0ms postprocess per image at shape (1, 3, 608, 800)\n"
     ]
    },
    {
     "name": "stderr",
     "output_type": "stream",
     "text": [
      " 26%|██▌       | 469/1798 [7:22:56<28:49:02, 78.06s/it]"
     ]
    },
    {
     "name": "stdout",
     "output_type": "stream",
     "text": [
      "0: 608x800 278 Bubbless, 17.0ms\n",
      "Speed: 5.0ms preprocess, 17.0ms inference, 3.0ms postprocess per image at shape (1, 3, 608, 800)\n"
     ]
    },
    {
     "name": "stderr",
     "output_type": "stream",
     "text": [
      " 26%|██▌       | 470/1798 [7:24:13<28:42:57, 77.84s/it]"
     ]
    },
    {
     "name": "stdout",
     "output_type": "stream",
     "text": [
      "0: 608x800 300 Bubbless, 18.9ms\n",
      "Speed: 4.0ms preprocess, 18.9ms inference, 6.0ms postprocess per image at shape (1, 3, 608, 800)\n"
     ]
    },
    {
     "name": "stderr",
     "output_type": "stream",
     "text": [
      " 26%|██▌       | 471/1798 [7:25:30<28:36:38, 77.62s/it]"
     ]
    },
    {
     "name": "stdout",
     "output_type": "stream",
     "text": [
      "0: 608x800 300 Bubbless, 18.0ms\n",
      "Speed: 6.0ms preprocess, 18.0ms inference, 5.0ms postprocess per image at shape (1, 3, 608, 800)\n"
     ]
    },
    {
     "name": "stderr",
     "output_type": "stream",
     "text": [
      " 26%|██▋       | 472/1798 [7:26:47<28:27:21, 77.26s/it]"
     ]
    },
    {
     "name": "stdout",
     "output_type": "stream",
     "text": [
      "0: 608x800 300 Bubbless, 16.0ms\n",
      "Speed: 5.0ms preprocess, 16.0ms inference, 14.0ms postprocess per image at shape (1, 3, 608, 800)\n"
     ]
    },
    {
     "name": "stderr",
     "output_type": "stream",
     "text": [
      " 26%|██▋       | 473/1798 [7:28:04<28:22:36, 77.10s/it]"
     ]
    },
    {
     "name": "stdout",
     "output_type": "stream",
     "text": [
      "0: 608x800 300 Bubbless, 17.0ms\n",
      "Speed: 5.0ms preprocess, 17.0ms inference, 7.0ms postprocess per image at shape (1, 3, 608, 800)\n"
     ]
    },
    {
     "name": "stderr",
     "output_type": "stream",
     "text": [
      " 26%|██▋       | 474/1798 [7:29:24<28:40:26, 77.97s/it]"
     ]
    },
    {
     "name": "stdout",
     "output_type": "stream",
     "text": [
      "0: 608x800 300 Bubbless, 15.0ms\n",
      "Speed: 7.0ms preprocess, 15.0ms inference, 4.0ms postprocess per image at shape (1, 3, 608, 800)\n"
     ]
    },
    {
     "name": "stderr",
     "output_type": "stream",
     "text": [
      " 26%|██▋       | 475/1798 [7:30:42<28:43:08, 78.15s/it]"
     ]
    },
    {
     "name": "stdout",
     "output_type": "stream",
     "text": [
      "0: 608x800 300 Bubbless, 16.0ms\n",
      "Speed: 5.0ms preprocess, 16.0ms inference, 7.0ms postprocess per image at shape (1, 3, 608, 800)\n"
     ]
    },
    {
     "name": "stderr",
     "output_type": "stream",
     "text": [
      " 26%|██▋       | 476/1798 [7:31:59<28:34:30, 77.81s/it]"
     ]
    },
    {
     "name": "stdout",
     "output_type": "stream",
     "text": [
      "0: 608x800 300 Bubbless, 19.9ms\n",
      "Speed: 4.0ms preprocess, 19.9ms inference, 4.0ms postprocess per image at shape (1, 3, 608, 800)\n"
     ]
    },
    {
     "name": "stderr",
     "output_type": "stream",
     "text": [
      " 27%|██▋       | 477/1798 [7:33:15<28:21:53, 77.30s/it]"
     ]
    },
    {
     "name": "stdout",
     "output_type": "stream",
     "text": [
      "0: 608x800 300 Bubbless, 12.0ms\n",
      "Speed: 5.0ms preprocess, 12.0ms inference, 5.0ms postprocess per image at shape (1, 3, 608, 800)\n"
     ]
    },
    {
     "name": "stderr",
     "output_type": "stream",
     "text": [
      " 27%|██▋       | 478/1798 [7:34:34<28:28:25, 77.66s/it]"
     ]
    },
    {
     "name": "stdout",
     "output_type": "stream",
     "text": [
      "0: 608x800 300 Bubbless, 11.0ms\n",
      "Speed: 7.0ms preprocess, 11.0ms inference, 9.0ms postprocess per image at shape (1, 3, 608, 800)\n"
     ]
    },
    {
     "name": "stderr",
     "output_type": "stream",
     "text": [
      " 27%|██▋       | 479/1798 [7:35:51<28:25:11, 77.57s/it]"
     ]
    },
    {
     "name": "stdout",
     "output_type": "stream",
     "text": [
      "0: 608x800 300 Bubbless, 18.9ms\n",
      "Speed: 4.0ms preprocess, 18.9ms inference, 4.0ms postprocess per image at shape (1, 3, 608, 800)\n"
     ]
    },
    {
     "name": "stderr",
     "output_type": "stream",
     "text": [
      " 27%|██▋       | 480/1798 [7:37:08<28:20:19, 77.41s/it]"
     ]
    },
    {
     "name": "stdout",
     "output_type": "stream",
     "text": [
      "0: 608x800 300 Bubbless, 18.0ms\n",
      "Speed: 6.0ms preprocess, 18.0ms inference, 4.0ms postprocess per image at shape (1, 3, 608, 800)\n"
     ]
    },
    {
     "name": "stderr",
     "output_type": "stream",
     "text": [
      " 27%|██▋       | 481/1798 [7:38:26<28:24:33, 77.66s/it]"
     ]
    },
    {
     "name": "stdout",
     "output_type": "stream",
     "text": [
      "0: 608x800 300 Bubbless, 20.9ms\n",
      "Speed: 5.0ms preprocess, 20.9ms inference, 5.0ms postprocess per image at shape (1, 3, 608, 800)\n"
     ]
    },
    {
     "name": "stderr",
     "output_type": "stream",
     "text": [
      " 27%|██▋       | 482/1798 [7:39:43<28:16:35, 77.35s/it]"
     ]
    },
    {
     "name": "stdout",
     "output_type": "stream",
     "text": [
      "0: 608x800 300 Bubbless, 14.0ms\n",
      "Speed: 6.0ms preprocess, 14.0ms inference, 9.0ms postprocess per image at shape (1, 3, 608, 800)\n"
     ]
    },
    {
     "name": "stderr",
     "output_type": "stream",
     "text": [
      " 27%|██▋       | 483/1798 [7:40:58<27:57:56, 76.56s/it]"
     ]
    },
    {
     "name": "stdout",
     "output_type": "stream",
     "text": [
      "0: 608x800 300 Bubbless, 92.8ms\n",
      "Speed: 6.0ms preprocess, 92.8ms inference, 6.0ms postprocess per image at shape (1, 3, 608, 800)\n"
     ]
    },
    {
     "name": "stderr",
     "output_type": "stream",
     "text": [
      " 27%|██▋       | 484/1798 [7:41:57<26:00:21, 71.25s/it]"
     ]
    },
    {
     "name": "stdout",
     "output_type": "stream",
     "text": [
      "0: 608x800 300 Bubbless, 18.0ms\n",
      "Speed: 5.0ms preprocess, 18.0ms inference, 8.0ms postprocess per image at shape (1, 3, 608, 800)\n"
     ]
    },
    {
     "name": "stderr",
     "output_type": "stream",
     "text": [
      " 27%|██▋       | 485/1798 [7:42:56<24:41:35, 67.70s/it]"
     ]
    },
    {
     "name": "stdout",
     "output_type": "stream",
     "text": [
      "0: 608x800 300 Bubbless, 10.0ms\n",
      "Speed: 4.0ms preprocess, 10.0ms inference, 3.0ms postprocess per image at shape (1, 3, 608, 800)\n"
     ]
    },
    {
     "name": "stderr",
     "output_type": "stream",
     "text": [
      " 27%|██▋       | 486/1798 [7:43:56<23:50:16, 65.41s/it]"
     ]
    },
    {
     "name": "stdout",
     "output_type": "stream",
     "text": [
      "0: 608x800 300 Bubbless, 84.8ms\n",
      "Speed: 5.0ms preprocess, 84.8ms inference, 8.5ms postprocess per image at shape (1, 3, 608, 800)\n"
     ]
    },
    {
     "name": "stderr",
     "output_type": "stream",
     "text": [
      " 27%|██▋       | 487/1798 [7:45:09<24:37:14, 67.61s/it]"
     ]
    },
    {
     "name": "stdout",
     "output_type": "stream",
     "text": [
      "0: 608x800 300 Bubbless, 13.5ms\n",
      "Speed: 5.0ms preprocess, 13.5ms inference, 5.0ms postprocess per image at shape (1, 3, 608, 800)\n"
     ]
    },
    {
     "name": "stderr",
     "output_type": "stream",
     "text": [
      " 27%|██▋       | 488/1798 [7:46:10<23:57:06, 65.82s/it]"
     ]
    },
    {
     "name": "stdout",
     "output_type": "stream",
     "text": [
      "0: 608x800 300 Bubbless, 60.8ms\n",
      "Speed: 5.0ms preprocess, 60.8ms inference, 8.0ms postprocess per image at shape (1, 3, 608, 800)\n"
     ]
    },
    {
     "name": "stderr",
     "output_type": "stream",
     "text": [
      " 27%|██▋       | 489/1798 [7:47:05<22:40:35, 62.36s/it]"
     ]
    },
    {
     "name": "stdout",
     "output_type": "stream",
     "text": [
      "0: 608x800 300 Bubbless, 26.9ms\n",
      "Speed: 3.9ms preprocess, 26.9ms inference, 4.0ms postprocess per image at shape (1, 3, 608, 800)\n"
     ]
    },
    {
     "name": "stderr",
     "output_type": "stream",
     "text": [
      " 27%|██▋       | 490/1798 [7:47:59<21:46:30, 59.93s/it]"
     ]
    },
    {
     "name": "stdout",
     "output_type": "stream",
     "text": [
      "0: 608x800 300 Bubbless, 90.8ms\n",
      "Speed: 9.9ms preprocess, 90.8ms inference, 7.0ms postprocess per image at shape (1, 3, 608, 800)\n"
     ]
    },
    {
     "name": "stderr",
     "output_type": "stream",
     "text": [
      " 27%|██▋       | 491/1798 [7:48:53<21:06:16, 58.13s/it]"
     ]
    },
    {
     "name": "stdout",
     "output_type": "stream",
     "text": [
      "0: 608x800 268 Bubbless, 164.4ms\n",
      "Speed: 9.0ms preprocess, 164.4ms inference, 11.0ms postprocess per image at shape (1, 3, 608, 800)\n"
     ]
    },
    {
     "name": "stderr",
     "output_type": "stream",
     "text": [
      " 27%|██▋       | 492/1798 [7:49:54<21:26:12, 59.09s/it]"
     ]
    },
    {
     "name": "stdout",
     "output_type": "stream",
     "text": [
      "0: 608x800 300 Bubbless, 130.6ms\n",
      "Speed: 5.0ms preprocess, 130.6ms inference, 6.0ms postprocess per image at shape (1, 3, 608, 800)\n"
     ]
    },
    {
     "name": "stderr",
     "output_type": "stream",
     "text": [
      " 27%|██▋       | 493/1798 [7:50:50<21:00:25, 57.95s/it]"
     ]
    },
    {
     "name": "stdout",
     "output_type": "stream",
     "text": [
      "0: 608x800 300 Bubbless, 62.9ms\n",
      "Speed: 7.0ms preprocess, 62.9ms inference, 7.0ms postprocess per image at shape (1, 3, 608, 800)\n"
     ]
    },
    {
     "name": "stderr",
     "output_type": "stream",
     "text": [
      " 27%|██▋       | 494/1798 [7:51:44<20:36:55, 56.91s/it]"
     ]
    },
    {
     "name": "stdout",
     "output_type": "stream",
     "text": [
      "0: 608x800 300 Bubbless, 64.4ms\n",
      "Speed: 5.0ms preprocess, 64.4ms inference, 10.0ms postprocess per image at shape (1, 3, 608, 800)\n"
     ]
    },
    {
     "name": "stderr",
     "output_type": "stream",
     "text": [
      " 28%|██▊       | 495/1798 [7:52:38<20:19:10, 56.14s/it]"
     ]
    },
    {
     "name": "stdout",
     "output_type": "stream",
     "text": [
      "0: 608x800 300 Bubbless, 83.7ms\n",
      "Speed: 8.0ms preprocess, 83.7ms inference, 5.0ms postprocess per image at shape (1, 3, 608, 800)\n"
     ]
    },
    {
     "name": "stderr",
     "output_type": "stream",
     "text": [
      " 28%|██▊       | 496/1798 [7:53:31<19:57:39, 55.19s/it]"
     ]
    },
    {
     "name": "stdout",
     "output_type": "stream",
     "text": [
      "0: 608x800 300 Bubbless, 30.9ms\n",
      "Speed: 4.0ms preprocess, 30.9ms inference, 3.0ms postprocess per image at shape (1, 3, 608, 800)\n"
     ]
    },
    {
     "name": "stderr",
     "output_type": "stream",
     "text": [
      " 28%|██▊       | 497/1798 [7:54:25<19:46:33, 54.72s/it]"
     ]
    },
    {
     "name": "stdout",
     "output_type": "stream",
     "text": [
      "0: 608x800 300 Bubbless, 113.7ms\n",
      "Speed: 5.0ms preprocess, 113.7ms inference, 46.9ms postprocess per image at shape (1, 3, 608, 800)\n"
     ]
    },
    {
     "name": "stderr",
     "output_type": "stream",
     "text": [
      " 28%|██▊       | 498/1798 [7:55:19<19:40:56, 54.50s/it]"
     ]
    },
    {
     "name": "stdout",
     "output_type": "stream",
     "text": [
      "0: 608x800 300 Bubbless, 61.8ms\n",
      "Speed: 4.0ms preprocess, 61.8ms inference, 7.0ms postprocess per image at shape (1, 3, 608, 800)\n"
     ]
    },
    {
     "name": "stderr",
     "output_type": "stream",
     "text": [
      " 28%|██▊       | 499/1798 [7:56:12<19:29:49, 54.03s/it]"
     ]
    },
    {
     "name": "stdout",
     "output_type": "stream",
     "text": [
      "0: 608x800 300 Bubbless, 52.9ms\n",
      "Speed: 4.0ms preprocess, 52.9ms inference, 7.0ms postprocess per image at shape (1, 3, 608, 800)\n"
     ]
    },
    {
     "name": "stderr",
     "output_type": "stream",
     "text": [
      " 28%|██▊       | 500/1798 [7:57:04<19:15:47, 53.43s/it]"
     ]
    },
    {
     "name": "stdout",
     "output_type": "stream",
     "text": [
      "0: 608x800 300 Bubbless, 52.8ms\n",
      "Speed: 4.0ms preprocess, 52.8ms inference, 7.0ms postprocess per image at shape (1, 3, 608, 800)\n"
     ]
    },
    {
     "name": "stderr",
     "output_type": "stream",
     "text": [
      " 28%|██▊       | 501/1798 [7:57:56<19:07:10, 53.07s/it]"
     ]
    },
    {
     "name": "stdout",
     "output_type": "stream",
     "text": [
      "0: 608x800 300 Bubbless, 243.3ms\n",
      "Speed: 28.9ms preprocess, 243.3ms inference, 3.0ms postprocess per image at shape (1, 3, 608, 800)\n"
     ]
    },
    {
     "name": "stderr",
     "output_type": "stream",
     "text": [
      " 28%|██▊       | 502/1798 [7:58:49<19:04:37, 52.99s/it]"
     ]
    },
    {
     "name": "stdout",
     "output_type": "stream",
     "text": [
      "0: 608x800 273 Bubbless, 51.9ms\n",
      "Speed: 5.0ms preprocess, 51.9ms inference, 7.0ms postprocess per image at shape (1, 3, 608, 800)\n"
     ]
    },
    {
     "name": "stderr",
     "output_type": "stream",
     "text": [
      " 28%|██▊       | 503/1798 [7:59:41<18:55:10, 52.60s/it]"
     ]
    },
    {
     "name": "stdout",
     "output_type": "stream",
     "text": [
      "0: 608x800 300 Bubbless, 72.8ms\n",
      "Speed: 5.0ms preprocess, 72.8ms inference, 7.0ms postprocess per image at shape (1, 3, 608, 800)\n"
     ]
    },
    {
     "name": "stderr",
     "output_type": "stream",
     "text": [
      " 28%|██▊       | 504/1798 [8:00:34<18:57:00, 52.72s/it]"
     ]
    },
    {
     "name": "stdout",
     "output_type": "stream",
     "text": [
      "0: 608x800 300 Bubbless, 70.8ms\n",
      "Speed: 5.0ms preprocess, 70.8ms inference, 6.0ms postprocess per image at shape (1, 3, 608, 800)\n"
     ]
    },
    {
     "name": "stderr",
     "output_type": "stream",
     "text": [
      " 28%|██▊       | 505/1798 [8:01:27<19:02:44, 53.03s/it]"
     ]
    },
    {
     "name": "stdout",
     "output_type": "stream",
     "text": [
      "0: 608x800 300 Bubbless, 76.8ms\n",
      "Speed: 7.0ms preprocess, 76.8ms inference, 6.0ms postprocess per image at shape (1, 3, 608, 800)\n"
     ]
    },
    {
     "name": "stderr",
     "output_type": "stream",
     "text": [
      " 28%|██▊       | 506/1798 [8:02:22<19:13:51, 53.58s/it]"
     ]
    },
    {
     "name": "stdout",
     "output_type": "stream",
     "text": [
      "0: 608x800 300 Bubbless, 101.8ms\n",
      "Speed: 4.0ms preprocess, 101.8ms inference, 13.0ms postprocess per image at shape (1, 3, 608, 800)\n"
     ]
    },
    {
     "name": "stderr",
     "output_type": "stream",
     "text": [
      " 28%|██▊       | 507/1798 [8:03:16<19:16:52, 53.77s/it]"
     ]
    },
    {
     "name": "stdout",
     "output_type": "stream",
     "text": [
      "0: 608x800 300 Bubbless, 68.8ms\n",
      "Speed: 4.0ms preprocess, 68.8ms inference, 7.0ms postprocess per image at shape (1, 3, 608, 800)\n"
     ]
    },
    {
     "name": "stderr",
     "output_type": "stream",
     "text": [
      " 28%|██▊       | 508/1798 [8:04:11<19:18:15, 53.87s/it]"
     ]
    },
    {
     "name": "stdout",
     "output_type": "stream",
     "text": [
      "0: 608x800 300 Bubbless, 138.4ms\n",
      "Speed: 5.0ms preprocess, 138.4ms inference, 7.0ms postprocess per image at shape (1, 3, 608, 800)\n"
     ]
    },
    {
     "name": "stderr",
     "output_type": "stream",
     "text": [
      " 28%|██▊       | 509/1798 [8:05:05<19:22:52, 54.13s/it]"
     ]
    },
    {
     "name": "stdout",
     "output_type": "stream",
     "text": [
      "0: 608x800 300 Bubbless, 103.0ms\n",
      "Speed: 14.0ms preprocess, 103.0ms inference, 16.0ms postprocess per image at shape (1, 3, 608, 800)\n"
     ]
    },
    {
     "name": "stderr",
     "output_type": "stream",
     "text": [
      " 28%|██▊       | 510/1798 [8:06:00<19:25:39, 54.30s/it]"
     ]
    },
    {
     "name": "stdout",
     "output_type": "stream",
     "text": [
      "0: 608x800 300 Bubbless, 70.2ms\n",
      "Speed: 5.0ms preprocess, 70.2ms inference, 7.0ms postprocess per image at shape (1, 3, 608, 800)\n"
     ]
    },
    {
     "name": "stderr",
     "output_type": "stream",
     "text": [
      " 28%|██▊       | 511/1798 [8:06:54<19:22:33, 54.20s/it]"
     ]
    },
    {
     "name": "stdout",
     "output_type": "stream",
     "text": [
      "0: 608x800 300 Bubbless, 109.4ms\n",
      "Speed: 5.0ms preprocess, 109.4ms inference, 7.0ms postprocess per image at shape (1, 3, 608, 800)\n"
     ]
    },
    {
     "name": "stderr",
     "output_type": "stream",
     "text": [
      " 28%|██▊       | 512/1798 [8:07:49<19:26:39, 54.43s/it]"
     ]
    },
    {
     "name": "stdout",
     "output_type": "stream",
     "text": [
      "0: 608x800 300 Bubbless, 119.7ms\n",
      "Speed: 7.0ms preprocess, 119.7ms inference, 3.0ms postprocess per image at shape (1, 3, 608, 800)\n"
     ]
    },
    {
     "name": "stderr",
     "output_type": "stream",
     "text": [
      " 29%|██▊       | 513/1798 [8:08:43<19:23:51, 54.34s/it]"
     ]
    },
    {
     "name": "stdout",
     "output_type": "stream",
     "text": [
      "\n",
      "0: 608x800 276 Bubbless, 6.0ms\n",
      "Speed: 3.0ms preprocess, 6.0ms inference, 3.0ms postprocess per image at shape (1, 3, 608, 800)\n"
     ]
    },
    {
     "name": "stderr",
     "output_type": "stream",
     "text": [
      " 29%|██▊       | 514/1798 [8:09:34<18:59:21, 53.24s/it]"
     ]
    },
    {
     "name": "stdout",
     "output_type": "stream",
     "text": [
      "0: 608x800 300 Bubbless, 6.0ms\n",
      "Speed: 4.0ms preprocess, 6.0ms inference, 3.0ms postprocess per image at shape (1, 3, 608, 800)\n"
     ]
    },
    {
     "name": "stderr",
     "output_type": "stream",
     "text": [
      " 29%|██▊       | 515/1798 [8:10:25<18:48:26, 52.77s/it]"
     ]
    },
    {
     "name": "stdout",
     "output_type": "stream",
     "text": [
      "0: 608x800 300 Bubbless, 81.8ms\n",
      "Speed: 4.0ms preprocess, 81.8ms inference, 5.0ms postprocess per image at shape (1, 3, 608, 800)\n"
     ]
    },
    {
     "name": "stderr",
     "output_type": "stream",
     "text": [
      " 29%|██▊       | 516/1798 [8:11:18<18:49:22, 52.86s/it]"
     ]
    },
    {
     "name": "stdout",
     "output_type": "stream",
     "text": [
      "0: 608x800 300 Bubbless, 85.8ms\n",
      "Speed: 9.0ms preprocess, 85.8ms inference, 6.0ms postprocess per image at shape (1, 3, 608, 800)\n"
     ]
    },
    {
     "name": "stderr",
     "output_type": "stream",
     "text": [
      " 29%|██▉       | 517/1798 [8:12:12<18:50:22, 52.95s/it]"
     ]
    },
    {
     "name": "stdout",
     "output_type": "stream",
     "text": [
      "0: 608x800 300 Bubbless, 78.8ms\n",
      "Speed: 3.0ms preprocess, 78.8ms inference, 6.0ms postprocess per image at shape (1, 3, 608, 800)\n"
     ]
    },
    {
     "name": "stderr",
     "output_type": "stream",
     "text": [
      " 29%|██▉       | 518/1798 [8:13:04<18:45:52, 52.78s/it]"
     ]
    },
    {
     "name": "stdout",
     "output_type": "stream",
     "text": [
      "0: 608x800 300 Bubbless, 75.8ms\n",
      "Speed: 5.0ms preprocess, 75.8ms inference, 9.0ms postprocess per image at shape (1, 3, 608, 800)\n"
     ]
    },
    {
     "name": "stderr",
     "output_type": "stream",
     "text": [
      " 29%|██▉       | 519/1798 [8:13:57<18:43:14, 52.69s/it]"
     ]
    },
    {
     "name": "stdout",
     "output_type": "stream",
     "text": [
      "0: 608x800 300 Bubbless, 50.9ms\n",
      "Speed: 4.0ms preprocess, 50.9ms inference, 6.0ms postprocess per image at shape (1, 3, 608, 800)\n"
     ]
    },
    {
     "name": "stderr",
     "output_type": "stream",
     "text": [
      " 29%|██▉       | 520/1798 [8:14:49<18:42:23, 52.69s/it]"
     ]
    },
    {
     "name": "stdout",
     "output_type": "stream",
     "text": [
      "0: 608x800 300 Bubbless, 52.9ms\n",
      "Speed: 7.0ms preprocess, 52.9ms inference, 5.0ms postprocess per image at shape (1, 3, 608, 800)\n"
     ]
    },
    {
     "name": "stderr",
     "output_type": "stream",
     "text": [
      " 29%|██▉       | 521/1798 [8:15:41<18:35:02, 52.39s/it]"
     ]
    },
    {
     "name": "stdout",
     "output_type": "stream",
     "text": [
      "0: 608x800 300 Bubbless, 50.9ms\n",
      "Speed: 5.0ms preprocess, 50.9ms inference, 6.0ms postprocess per image at shape (1, 3, 608, 800)\n"
     ]
    },
    {
     "name": "stderr",
     "output_type": "stream",
     "text": [
      " 29%|██▉       | 522/1798 [8:16:32<18:27:38, 52.08s/it]"
     ]
    },
    {
     "name": "stdout",
     "output_type": "stream",
     "text": [
      "0: 608x800 300 Bubbless, 51.9ms\n",
      "Speed: 5.0ms preprocess, 51.9ms inference, 6.0ms postprocess per image at shape (1, 3, 608, 800)\n"
     ]
    },
    {
     "name": "stderr",
     "output_type": "stream",
     "text": [
      " 29%|██▉       | 523/1798 [8:17:24<18:22:56, 51.90s/it]"
     ]
    },
    {
     "name": "stdout",
     "output_type": "stream",
     "text": [
      "0: 608x800 300 Bubbless, 50.9ms\n",
      "Speed: 9.0ms preprocess, 50.9ms inference, 12.0ms postprocess per image at shape (1, 3, 608, 800)\n"
     ]
    },
    {
     "name": "stderr",
     "output_type": "stream",
     "text": [
      " 29%|██▉       | 524/1798 [8:18:15<18:17:14, 51.68s/it]"
     ]
    },
    {
     "name": "stdout",
     "output_type": "stream",
     "text": [
      "0: 608x800 300 Bubbless, 58.8ms\n",
      "Speed: 10.0ms preprocess, 58.8ms inference, 5.0ms postprocess per image at shape (1, 3, 608, 800)\n"
     ]
    },
    {
     "name": "stderr",
     "output_type": "stream",
     "text": [
      " 29%|██▉       | 525/1798 [8:19:07<18:17:59, 51.75s/it]"
     ]
    },
    {
     "name": "stdout",
     "output_type": "stream",
     "text": [
      "0: 608x800 300 Bubbless, 50.9ms\n",
      "Speed: 4.0ms preprocess, 50.9ms inference, 7.0ms postprocess per image at shape (1, 3, 608, 800)\n"
     ]
    },
    {
     "name": "stderr",
     "output_type": "stream",
     "text": [
      " 29%|██▉       | 526/1798 [8:20:00<18:28:27, 52.29s/it]"
     ]
    },
    {
     "name": "stdout",
     "output_type": "stream",
     "text": [
      "0: 608x800 300 Bubbless, 66.8ms\n",
      "Speed: 8.0ms preprocess, 66.8ms inference, 5.0ms postprocess per image at shape (1, 3, 608, 800)\n"
     ]
    },
    {
     "name": "stderr",
     "output_type": "stream",
     "text": [
      " 29%|██▉       | 527/1798 [8:20:52<18:26:24, 52.23s/it]"
     ]
    },
    {
     "name": "stdout",
     "output_type": "stream",
     "text": [
      "0: 608x800 300 Bubbless, 73.8ms\n",
      "Speed: 5.0ms preprocess, 73.8ms inference, 11.0ms postprocess per image at shape (1, 3, 608, 800)\n"
     ]
    },
    {
     "name": "stderr",
     "output_type": "stream",
     "text": [
      " 29%|██▉       | 528/1798 [8:21:45<18:26:12, 52.26s/it]"
     ]
    },
    {
     "name": "stdout",
     "output_type": "stream",
     "text": [
      "0: 608x800 300 Bubbless, 108.4ms\n",
      "Speed: 5.0ms preprocess, 108.4ms inference, 12.0ms postprocess per image at shape (1, 3, 608, 800)\n"
     ]
    },
    {
     "name": "stderr",
     "output_type": "stream",
     "text": [
      " 29%|██▉       | 529/1798 [8:22:36<18:21:24, 52.08s/it]"
     ]
    },
    {
     "name": "stdout",
     "output_type": "stream",
     "text": [
      "0: 608x800 300 Bubbless, 113.7ms\n",
      "Speed: 4.0ms preprocess, 113.7ms inference, 12.0ms postprocess per image at shape (1, 3, 608, 800)\n"
     ]
    },
    {
     "name": "stderr",
     "output_type": "stream",
     "text": [
      " 29%|██▉       | 530/1798 [8:23:28<18:16:28, 51.88s/it]"
     ]
    },
    {
     "name": "stdout",
     "output_type": "stream",
     "text": [
      "0: 608x800 300 Bubbless, 111.7ms\n",
      "Speed: 4.0ms preprocess, 111.7ms inference, 9.0ms postprocess per image at shape (1, 3, 608, 800)\n"
     ]
    },
    {
     "name": "stderr",
     "output_type": "stream",
     "text": [
      " 30%|██▉       | 531/1798 [8:24:19<18:13:13, 51.77s/it]"
     ]
    },
    {
     "name": "stdout",
     "output_type": "stream",
     "text": [
      "0: 608x800 300 Bubbless, 100.7ms\n",
      "Speed: 4.0ms preprocess, 100.7ms inference, 8.0ms postprocess per image at shape (1, 3, 608, 800)\n"
     ]
    },
    {
     "name": "stderr",
     "output_type": "stream",
     "text": [
      " 30%|██▉       | 532/1798 [8:25:11<18:11:42, 51.74s/it]"
     ]
    },
    {
     "name": "stdout",
     "output_type": "stream",
     "text": [
      "0: 608x800 300 Bubbless, 111.4ms\n",
      "Speed: 5.0ms preprocess, 111.4ms inference, 5.0ms postprocess per image at shape (1, 3, 608, 800)\n"
     ]
    },
    {
     "name": "stderr",
     "output_type": "stream",
     "text": [
      " 30%|██▉       | 533/1798 [8:26:02<18:08:32, 51.63s/it]"
     ]
    },
    {
     "name": "stdout",
     "output_type": "stream",
     "text": [
      "0: 608x800 300 Bubbless, 117.1ms\n",
      "Speed: 13.9ms preprocess, 117.1ms inference, 4.0ms postprocess per image at shape (1, 3, 608, 800)\n"
     ]
    },
    {
     "name": "stderr",
     "output_type": "stream",
     "text": [
      " 30%|██▉       | 534/1798 [8:26:54<18:07:26, 51.62s/it]"
     ]
    },
    {
     "name": "stdout",
     "output_type": "stream",
     "text": [
      "0: 608x800 300 Bubbless, 110.7ms\n",
      "Speed: 4.0ms preprocess, 110.7ms inference, 6.0ms postprocess per image at shape (1, 3, 608, 800)\n"
     ]
    },
    {
     "name": "stderr",
     "output_type": "stream",
     "text": [
      " 30%|██▉       | 535/1798 [8:27:46<18:06:36, 51.62s/it]"
     ]
    },
    {
     "name": "stdout",
     "output_type": "stream",
     "text": [
      "0: 608x800 300 Bubbless, 94.7ms\n",
      "Speed: 5.0ms preprocess, 94.7ms inference, 11.3ms postprocess per image at shape (1, 3, 608, 800)\n"
     ]
    },
    {
     "name": "stderr",
     "output_type": "stream",
     "text": [
      " 30%|██▉       | 536/1798 [8:28:37<18:06:51, 51.67s/it]"
     ]
    },
    {
     "name": "stdout",
     "output_type": "stream",
     "text": [
      "0: 608x800 300 Bubbless, 111.7ms\n",
      "Speed: 4.0ms preprocess, 111.7ms inference, 4.0ms postprocess per image at shape (1, 3, 608, 800)\n"
     ]
    },
    {
     "name": "stderr",
     "output_type": "stream",
     "text": [
      " 30%|██▉       | 537/1798 [8:29:29<18:05:36, 51.65s/it]"
     ]
    },
    {
     "name": "stdout",
     "output_type": "stream",
     "text": [
      "0: 608x800 300 Bubbless, 95.7ms\n",
      "Speed: 3.0ms preprocess, 95.7ms inference, 4.0ms postprocess per image at shape (1, 3, 608, 800)\n"
     ]
    },
    {
     "name": "stderr",
     "output_type": "stream",
     "text": [
      " 30%|██▉       | 538/1798 [8:30:21<18:03:53, 51.61s/it]"
     ]
    },
    {
     "name": "stdout",
     "output_type": "stream",
     "text": [
      "0: 608x800 300 Bubbless, 98.7ms\n",
      "Speed: 4.0ms preprocess, 98.7ms inference, 5.0ms postprocess per image at shape (1, 3, 608, 800)\n"
     ]
    },
    {
     "name": "stderr",
     "output_type": "stream",
     "text": [
      " 30%|██▉       | 539/1798 [8:31:12<18:03:06, 51.62s/it]"
     ]
    },
    {
     "name": "stdout",
     "output_type": "stream",
     "text": [
      "0: 608x800 300 Bubbless, 99.0ms\n",
      "Speed: 4.0ms preprocess, 99.0ms inference, 6.0ms postprocess per image at shape (1, 3, 608, 800)\n"
     ]
    },
    {
     "name": "stderr",
     "output_type": "stream",
     "text": [
      " 30%|███       | 540/1798 [8:32:04<18:00:34, 51.54s/it]"
     ]
    },
    {
     "name": "stdout",
     "output_type": "stream",
     "text": [
      "0: 608x800 300 Bubbless, 104.7ms\n",
      "Speed: 5.0ms preprocess, 104.7ms inference, 11.9ms postprocess per image at shape (1, 3, 608, 800)\n"
     ]
    },
    {
     "name": "stderr",
     "output_type": "stream",
     "text": [
      " 30%|███       | 541/1798 [8:32:55<17:58:09, 51.46s/it]"
     ]
    },
    {
     "name": "stdout",
     "output_type": "stream",
     "text": [
      "0: 608x800 300 Bubbless, 96.7ms\n",
      "Speed: 5.0ms preprocess, 96.7ms inference, 11.1ms postprocess per image at shape (1, 3, 608, 800)\n"
     ]
    },
    {
     "name": "stderr",
     "output_type": "stream",
     "text": [
      " 30%|███       | 542/1798 [8:33:46<17:57:06, 51.45s/it]"
     ]
    },
    {
     "name": "stdout",
     "output_type": "stream",
     "text": [
      "0: 608x800 300 Bubbless, 118.4ms\n",
      "Speed: 15.0ms preprocess, 118.4ms inference, 10.5ms postprocess per image at shape (1, 3, 608, 800)\n"
     ]
    },
    {
     "name": "stderr",
     "output_type": "stream",
     "text": [
      " 30%|███       | 543/1798 [8:34:38<17:56:36, 51.47s/it]"
     ]
    },
    {
     "name": "stdout",
     "output_type": "stream",
     "text": [
      "0: 608x800 300 Bubbless, 72.8ms\n",
      "Speed: 5.0ms preprocess, 72.8ms inference, 5.0ms postprocess per image at shape (1, 3, 608, 800)\n"
     ]
    },
    {
     "name": "stderr",
     "output_type": "stream",
     "text": [
      " 30%|███       | 544/1798 [8:35:30<18:02:49, 51.81s/it]"
     ]
    },
    {
     "name": "stdout",
     "output_type": "stream",
     "text": [
      "0: 608x800 300 Bubbless, 134.8ms\n",
      "Speed: 5.0ms preprocess, 134.8ms inference, 8.9ms postprocess per image at shape (1, 3, 608, 800)\n"
     ]
    },
    {
     "name": "stderr",
     "output_type": "stream",
     "text": [
      " 30%|███       | 545/1798 [8:36:23<18:05:21, 51.97s/it]"
     ]
    },
    {
     "name": "stdout",
     "output_type": "stream",
     "text": [
      "0: 608x800 300 Bubbless, 143.0ms\n",
      "Speed: 4.0ms preprocess, 143.0ms inference, 7.0ms postprocess per image at shape (1, 3, 608, 800)\n"
     ]
    },
    {
     "name": "stderr",
     "output_type": "stream",
     "text": [
      " 30%|███       | 546/1798 [8:37:20<18:36:08, 53.49s/it]"
     ]
    },
    {
     "name": "stdout",
     "output_type": "stream",
     "text": [
      "0: 608x800 300 Bubbless, 56.4ms\n",
      "Speed: 4.0ms preprocess, 56.4ms inference, 12.0ms postprocess per image at shape (1, 3, 608, 800)\n"
     ]
    },
    {
     "name": "stderr",
     "output_type": "stream",
     "text": [
      " 30%|███       | 547/1798 [8:38:14<18:38:07, 53.63s/it]"
     ]
    },
    {
     "name": "stdout",
     "output_type": "stream",
     "text": [
      "0: 608x800 300 Bubbless, 96.7ms\n",
      "Speed: 8.0ms preprocess, 96.7ms inference, 5.0ms postprocess per image at shape (1, 3, 608, 800)\n"
     ]
    },
    {
     "name": "stderr",
     "output_type": "stream",
     "text": [
      " 30%|███       | 548/1798 [8:39:07<18:32:22, 53.39s/it]"
     ]
    },
    {
     "name": "stdout",
     "output_type": "stream",
     "text": [
      "0: 608x800 300 Bubbless, 107.1ms\n",
      "Speed: 5.0ms preprocess, 107.1ms inference, 5.0ms postprocess per image at shape (1, 3, 608, 800)\n"
     ]
    },
    {
     "name": "stderr",
     "output_type": "stream",
     "text": [
      " 31%|███       | 549/1798 [8:39:58<18:19:31, 52.82s/it]"
     ]
    },
    {
     "name": "stdout",
     "output_type": "stream",
     "text": [
      "0: 608x800 300 Bubbless, 81.8ms\n",
      "Speed: 4.0ms preprocess, 81.8ms inference, 5.0ms postprocess per image at shape (1, 3, 608, 800)\n"
     ]
    },
    {
     "name": "stderr",
     "output_type": "stream",
     "text": [
      " 31%|███       | 550/1798 [8:40:51<18:18:17, 52.80s/it]"
     ]
    },
    {
     "name": "stdout",
     "output_type": "stream",
     "text": [
      "0: 608x800 300 Bubbless, 76.8ms\n",
      "Speed: 5.0ms preprocess, 76.8ms inference, 10.0ms postprocess per image at shape (1, 3, 608, 800)\n"
     ]
    },
    {
     "name": "stderr",
     "output_type": "stream",
     "text": [
      " 31%|███       | 551/1798 [8:41:44<18:17:52, 52.82s/it]"
     ]
    },
    {
     "name": "stdout",
     "output_type": "stream",
     "text": [
      "0: 608x800 300 Bubbless, 113.0ms\n",
      "Speed: 5.0ms preprocess, 113.0ms inference, 5.0ms postprocess per image at shape (1, 3, 608, 800)\n"
     ]
    },
    {
     "name": "stderr",
     "output_type": "stream",
     "text": [
      " 31%|███       | 552/1798 [8:42:36<18:13:35, 52.66s/it]"
     ]
    },
    {
     "name": "stdout",
     "output_type": "stream",
     "text": [
      "0: 608x800 300 Bubbless, 78.8ms\n",
      "Speed: 4.0ms preprocess, 78.8ms inference, 5.0ms postprocess per image at shape (1, 3, 608, 800)\n"
     ]
    },
    {
     "name": "stderr",
     "output_type": "stream",
     "text": [
      " 31%|███       | 553/1798 [8:43:28<18:06:17, 52.35s/it]"
     ]
    },
    {
     "name": "stdout",
     "output_type": "stream",
     "text": [
      "0: 608x800 300 Bubbless, 25.9ms\n",
      "Speed: 4.0ms preprocess, 25.9ms inference, 5.0ms postprocess per image at shape (1, 3, 608, 800)\n"
     ]
    },
    {
     "name": "stderr",
     "output_type": "stream",
     "text": [
      " 31%|███       | 554/1798 [8:44:23<18:24:20, 53.26s/it]"
     ]
    },
    {
     "name": "stdout",
     "output_type": "stream",
     "text": [
      "0: 608x800 300 Bubbless, 54.5ms\n",
      "Speed: 5.0ms preprocess, 54.5ms inference, 5.1ms postprocess per image at shape (1, 3, 608, 800)\n"
     ]
    },
    {
     "name": "stderr",
     "output_type": "stream",
     "text": [
      " 31%|███       | 555/1798 [8:45:17<18:28:00, 53.48s/it]"
     ]
    },
    {
     "name": "stdout",
     "output_type": "stream",
     "text": [
      "0: 608x800 300 Bubbless, 100.8ms\n",
      "Speed: 4.0ms preprocess, 100.8ms inference, 4.0ms postprocess per image at shape (1, 3, 608, 800)\n"
     ]
    },
    {
     "name": "stderr",
     "output_type": "stream",
     "text": [
      " 31%|███       | 556/1798 [8:46:09<18:20:07, 53.15s/it]"
     ]
    },
    {
     "name": "stdout",
     "output_type": "stream",
     "text": [
      "0: 608x800 300 Bubbless, 87.8ms\n",
      "Speed: 12.0ms preprocess, 87.8ms inference, 8.0ms postprocess per image at shape (1, 3, 608, 800)\n"
     ]
    }
   ],
   "source": [
    "folder = folders_list[1]\n",
    "segment_images_from_folder(folder)"
   ],
   "metadata": {
    "collapsed": false,
    "is_executing": true,
    "ExecuteTime": {
     "start_time": "2024-01-24T12:19:45.236789800Z"
    }
   },
   "id": "11258b21110d5ddc"
  },
  {
   "cell_type": "code",
   "execution_count": null,
   "outputs": [],
   "source": [],
   "metadata": {
    "collapsed": false,
    "ExecuteTime": {
     "end_time": "2024-01-23T17:14:17.609527400Z",
     "start_time": "2024-01-23T17:14:17.595538500Z"
    }
   },
   "id": "f193ce0e31ef7b74"
  }
 ],
 "metadata": {
  "kernelspec": {
   "display_name": "Python 3",
   "language": "python",
   "name": "python3"
  },
  "language_info": {
   "codemirror_mode": {
    "name": "ipython",
    "version": 2
   },
   "file_extension": ".py",
   "mimetype": "text/x-python",
   "name": "python",
   "nbconvert_exporter": "python",
   "pygments_lexer": "ipython2",
   "version": "2.7.6"
  }
 },
 "nbformat": 4,
 "nbformat_minor": 5
}
