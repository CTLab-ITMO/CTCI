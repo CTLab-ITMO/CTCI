{
 "cells": [
  {
   "cell_type": "markdown",
   "source": [
    "# Imports"
   ],
   "metadata": {
    "collapsed": false
   },
   "id": "9a93509566f2ac08"
  },
  {
   "cell_type": "code",
   "execution_count": 1,
   "id": "initial_id",
   "metadata": {
    "collapsed": true,
    "ExecuteTime": {
     "end_time": "2024-01-29T17:20:59.694334Z",
     "start_time": "2024-01-29T17:20:56.077333800Z"
    }
   },
   "outputs": [],
   "source": [
    "import os\n",
    "import sys\n",
    "\n",
    "import numpy as np\n",
    "from tqdm import tqdm\n",
    "import cv2\n",
    "\n",
    "from src.sam_segmentation.yolo import load_yolov8_detector, yolov8_detect\n",
    "from src.sam_segmentation.sam import load_sam_predictor, sam_segmentation\n",
    "from src.sam_segmentation.utils import unite_masks, masks_narrowing"
   ]
  },
  {
   "cell_type": "markdown",
   "source": [
    "# Data"
   ],
   "metadata": {
    "collapsed": false
   },
   "id": "64138b686e0e43da"
  },
  {
   "cell_type": "code",
   "execution_count": 4,
   "outputs": [],
   "source": [
    "DATA_DIR = r\"C:\\Internship\\ITMO_ML\\data\\raw_frames\\Frames_bubbles\\Bubbles_every_frame\""
   ],
   "metadata": {
    "collapsed": false,
    "ExecuteTime": {
     "end_time": "2024-01-29T17:21:13.385403700Z",
     "start_time": "2024-01-29T17:21:13.234426800Z"
    }
   },
   "id": "94927a50811630a0"
  },
  {
   "cell_type": "code",
   "execution_count": 5,
   "outputs": [
    {
     "data": {
      "text/plain": "['F1_1_1_1_frames',\n 'F1_1_1_2_frames',\n 'F1_1_2_1_frames',\n 'F1_1_2_2_frames',\n 'F1_1_3_1_frames',\n 'F1_1_3_2_frames',\n 'F1_1_4_1_frames',\n 'F1_1_4_2_frames',\n 'F1_1_5_1_frames',\n 'F1_1_5_2_frames',\n 'F1_2_2_1_frames',\n 'F1_2_2_2_frames',\n 'F1_2_3_1_frames',\n 'F1_2_3_2_frames']"
     },
     "execution_count": 5,
     "metadata": {},
     "output_type": "execute_result"
    }
   ],
   "source": [
    "folders_list = os.listdir(DATA_DIR)\n",
    "folders_list"
   ],
   "metadata": {
    "collapsed": false,
    "ExecuteTime": {
     "end_time": "2024-01-29T17:21:13.453381100Z",
     "start_time": "2024-01-29T17:21:13.431280500Z"
    }
   },
   "id": "c6c1ad79608d7671"
  },
  {
   "cell_type": "code",
   "execution_count": 6,
   "outputs": [],
   "source": [
    "def count_images(image_folder_path):\n",
    "    images_num = len(os.listdir(image_folder_path))\n",
    "    return images_num\n",
    "\n",
    "def summarize_folders(data_dir, folders_list):\n",
    "    folders_info = {}\n",
    "    images_sum = 0\n",
    "    \n",
    "    for folder in folders_list:\n",
    "        images_num = count_images(os.path.join(data_dir, folder))\n",
    "        folders_info[folder] = images_num\n",
    "        images_sum += images_num\n",
    "        \n",
    "    print(f\"There is {images_sum} images:\")\n",
    "    for folder in folders_info.keys():\n",
    "        print(f\"\\t{folder} folder has {folders_info[folder]} images\")\n",
    "    "
   ],
   "metadata": {
    "collapsed": false,
    "ExecuteTime": {
     "end_time": "2024-01-29T17:21:13.643872200Z",
     "start_time": "2024-01-29T17:21:13.622928100Z"
    }
   },
   "id": "f6586033c89806ea"
  },
  {
   "cell_type": "code",
   "execution_count": 7,
   "outputs": [
    {
     "name": "stdout",
     "output_type": "stream",
     "text": [
      "There is 20721 images:\n",
      "\tF1_1_1_1_frames folder has 1787 images\n",
      "\tF1_1_1_2_frames folder has 1798 images\n",
      "\tF1_1_2_1_frames folder has 1508 images\n",
      "\tF1_1_2_2_frames folder has 1491 images\n",
      "\tF1_1_3_1_frames folder has 1479 images\n",
      "\tF1_1_3_2_frames folder has 1512 images\n",
      "\tF1_1_4_1_frames folder has 1797 images\n",
      "\tF1_1_4_2_frames folder has 1783 images\n",
      "\tF1_1_5_1_frames folder has 1502 images\n",
      "\tF1_1_5_2_frames folder has 1493 images\n",
      "\tF1_2_2_1_frames folder has 1474 images\n",
      "\tF1_2_2_2_frames folder has 1484 images\n",
      "\tF1_2_3_1_frames folder has 1480 images\n",
      "\tF1_2_3_2_frames folder has 133 images\n"
     ]
    }
   ],
   "source": [
    "summarize_folders(DATA_DIR, folders_list)"
   ],
   "metadata": {
    "collapsed": false,
    "ExecuteTime": {
     "end_time": "2024-01-29T17:21:14.798957200Z",
     "start_time": "2024-01-29T17:21:13.828399200Z"
    }
   },
   "id": "5a6d902ee413c57d"
  },
  {
   "cell_type": "markdown",
   "source": [
    "# SAM+YOLO Labeling"
   ],
   "metadata": {
    "collapsed": false
   },
   "id": "1d59d65d1c78526d"
  },
  {
   "cell_type": "markdown",
   "source": [
    "Yolo detector:"
   ],
   "metadata": {
    "collapsed": false
   },
   "id": "f94afe22ff89b906"
  },
  {
   "cell_type": "code",
   "execution_count": 8,
   "outputs": [],
   "source": [
    "custom_yolo_checkpoint_path = r\"C:\\Internship\\ITMO_ML\\CTCI\\checkpoints\\yolov8\\yolov8s_on_bubbles_24\\run3\\weights\\best.pt\"\n",
    "detector = load_yolov8_detector(custom_yolo_checkpoint_path)"
   ],
   "metadata": {
    "collapsed": false,
    "ExecuteTime": {
     "end_time": "2024-01-29T17:21:14.937584600Z",
     "start_time": "2024-01-29T17:21:14.794966300Z"
    }
   },
   "id": "63db24b519d2ae6b"
  },
  {
   "cell_type": "markdown",
   "source": [
    "SAM:"
   ],
   "metadata": {
    "collapsed": false
   },
   "id": "aa34121c96a97dbc"
  },
  {
   "cell_type": "code",
   "execution_count": 9,
   "outputs": [],
   "source": [
    "sam_checkpoint = r\"C:\\Internship\\ITMO_ML\\CTCI\\checkpoints\\sam_checkpoints\\sam_vit_h_4b8939.pth\"\n",
    "model_type = \"vit_h\"\n",
    "device=\"cuda\"\n",
    "\n",
    "predictor = load_sam_predictor(checkpoint_path=sam_checkpoint, model_type=model_type, device=device)"
   ],
   "metadata": {
    "collapsed": false,
    "ExecuteTime": {
     "end_time": "2024-01-29T17:21:19.633096500Z",
     "start_time": "2024-01-29T17:21:14.934593700Z"
    }
   },
   "id": "ac44a246ef8971ac"
  },
  {
   "cell_type": "markdown",
   "source": [
    "## Labeling"
   ],
   "metadata": {
    "collapsed": false
   },
   "id": "486276d9a8073c3b"
  },
  {
   "cell_type": "code",
   "execution_count": 10,
   "outputs": [],
   "source": [
    "def segment_images_from_folder(folder, narrowing=0.20):\n",
    "    masks_folder_name = folder + \"_masks\"\n",
    "    dirlist = os.listdir(DATA_DIR)\n",
    "    if masks_folder_name not in dirlist:\n",
    "        os.mkdir(os.path.join(DATA_DIR, masks_folder_name))\n",
    "    \n",
    "    images_list = os.listdir(os.path.join(DATA_DIR, folder))\n",
    "    masks_list = os.listdir(os.path.join(DATA_DIR, masks_folder_name))\n",
    "    for image_name in tqdm(images_list):\n",
    "        if image_name in masks_list:\n",
    "            continue\n",
    "        image = cv2.imread(os.path.join(DATA_DIR, folder,image_name))\n",
    "        boxes = yolov8_detect(image=image, detector=detector,    return_objects=False)\n",
    "        masks_list = sam_segmentation(image=image,predictor=predictor,  boxes=boxes, prompt_point=True)\n",
    "    \n",
    "        masks_united = []\n",
    "        for masks in masks_list:\n",
    "            masks_united.append(unite_masks(masks))\n",
    "        masks_narrowed = masks_narrowing(masks_united, narrowing=narrowing)\n",
    "        mask = unite_masks(masks_narrowed)\n",
    "        cv2.imwrite(filename=os.path.join(DATA_DIR,masks_folder_name,   image_name), img=mask)\n",
    "\n",
    "    print(f\"Images from the folder {folder} were segmented!\")"
   ],
   "metadata": {
    "collapsed": false,
    "ExecuteTime": {
     "end_time": "2024-01-29T17:21:19.655544800Z",
     "start_time": "2024-01-29T17:21:19.634094300Z"
    }
   },
   "id": "8fe2b886619c6c82"
  },
  {
   "cell_type": "code",
   "execution_count": 11,
   "outputs": [],
   "source": [
    "folder = folders_list[1]\n",
    "narrowing = 0.25"
   ],
   "metadata": {
    "collapsed": false,
    "ExecuteTime": {
     "end_time": "2024-01-29T17:21:19.678482600Z",
     "start_time": "2024-01-29T17:21:19.649053900Z"
    }
   },
   "id": "e0f3ff791a275f70"
  },
  {
   "cell_type": "code",
   "execution_count": null,
   "outputs": [
    {
     "name": "stderr",
     "output_type": "stream",
     "text": [
      "  0%|          | 0/1798 [00:00<?, ?it/s]"
     ]
    },
    {
     "name": "stdout",
     "output_type": "stream",
     "text": [
      "0: 608x800 300 Bubbless, 145.6ms\n",
      "Speed: 3.0ms preprocess, 145.6ms inference, 52.9ms postprocess per image at shape (1, 3, 608, 800)\n"
     ]
    }
   ],
   "source": [
    "segment_images_from_folder(folder, narrowing=narrowing)"
   ],
   "metadata": {
    "collapsed": false,
    "is_executing": true,
    "ExecuteTime": {
     "start_time": "2024-01-29T17:21:26.800377700Z"
    }
   },
   "id": "11258b21110d5ddc"
  },
  {
   "cell_type": "code",
   "execution_count": null,
   "outputs": [],
   "source": [],
   "metadata": {
    "collapsed": false,
    "ExecuteTime": {
     "end_time": "2024-01-23T17:14:17.609527400Z",
     "start_time": "2024-01-23T17:14:17.595538500Z"
    }
   },
   "id": "f193ce0e31ef7b74"
  }
 ],
 "metadata": {
  "kernelspec": {
   "display_name": "Python 3",
   "language": "python",
   "name": "python3"
  },
  "language_info": {
   "codemirror_mode": {
    "name": "ipython",
    "version": 2
   },
   "file_extension": ".py",
   "mimetype": "text/x-python",
   "name": "python",
   "nbconvert_exporter": "python",
   "pygments_lexer": "ipython2",
   "version": "2.7.6"
  }
 },
 "nbformat": 4,
 "nbformat_minor": 5
}
