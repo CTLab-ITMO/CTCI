{
 "cells": [
  {
   "cell_type": "code",
   "execution_count": null,
   "id": "initial_id",
   "metadata": {
    "collapsed": true
   },
   "outputs": [],
   "source": [
    "import os\n",
    "from PIL import Image\n",
    "import numpy as np\n",
    "from tqdm import tqdm\n",
    "\n",
    "import torch \n",
    "import torch.nn as nn\n",
    "from torch.utils.data import DataLoader, Dataset\n",
    "import torchvision.transforms as transforms\n",
    "\n",
    "from transformers import ViTMAEForPreTraining, AutoImageProcessor"
   ]
  },
  {
   "cell_type": "code",
   "execution_count": null,
   "outputs": [],
   "source": [
    "device = torch.device('cuda' if torch.cuda.is_available() else 'cpu')"
   ],
   "metadata": {
    "collapsed": false
   },
   "id": "4b493d2579efed88"
  },
  {
   "cell_type": "markdown",
   "source": [
    "# Image Processor"
   ],
   "metadata": {
    "collapsed": false
   },
   "id": "d37c58276ed3e7f1"
  },
  {
   "cell_type": "code",
   "execution_count": null,
   "outputs": [],
   "source": [
    "image_processor_checkpoint = \"\"\n",
    "image_processor = AutoImageProcessor.from_pretrained(image_processor_checkpoint)"
   ],
   "metadata": {
    "collapsed": false
   },
   "id": "2767621dc1f259e"
  },
  {
   "cell_type": "markdown",
   "source": [
    "# Dataset"
   ],
   "metadata": {
    "collapsed": false
   },
   "id": "eda34319a42f07ec"
  },
  {
   "cell_type": "code",
   "execution_count": null,
   "outputs": [],
   "source": [
    "class BubblesDataset(Dataset):\n",
    "    def __init__(self, images_dir, image_processor, transform=None):\n",
    "        self.images_dir = images_dir\n",
    "        self.image_processor = image_processor\n",
    "        self.transform = transform\n",
    "        \n",
    "        self.image_list = os.listdir(self.images_dir)\n",
    "        \n",
    "        self.imagenet_mean = np.array([0.485, 0.456, 0.406])\n",
    "        self.imagenet_std = np.array([0.229, 0.224, 0.225])\n",
    "    def __len__(self):\n",
    "        return len(self.image_list)\n",
    "    \n",
    "    def __getitem__(self, item):\n",
    "        image = Image.open(self.image_list[0])\n",
    "        to_tensor = transforms.ToTensor()\n",
    "        image = to_tensor(image)\n",
    "        \n",
    "        image = (image - self.imagenet_mean) / self.imagenet_std\n",
    "        \n",
    "        if self.transform:\n",
    "            image = self.transform(image)\n",
    "            \n",
    "        inputs = self.image_processor(image, return_tensors=\"pt\")\n",
    "        \n",
    "        return inputs, image"
   ],
   "metadata": {
    "collapsed": false
   },
   "id": "1b65bd2aac1e98b1"
  },
  {
   "cell_type": "markdown",
   "source": [
    "# Model"
   ],
   "metadata": {
    "collapsed": false
   },
   "id": "2774bb9203d3e88e"
  },
  {
   "cell_type": "code",
   "execution_count": 1,
   "outputs": [
    {
     "ename": "NameError",
     "evalue": "name 'ViTMAEForPreTraining' is not defined",
     "output_type": "error",
     "traceback": [
      "\u001B[1;31m---------------------------------------------------------------------------\u001B[0m",
      "\u001B[1;31mNameError\u001B[0m                                 Traceback (most recent call last)",
      "Cell \u001B[1;32mIn[1], line 2\u001B[0m\n\u001B[0;32m      1\u001B[0m model_checkpoint \u001B[38;5;241m=\u001B[39m \u001B[38;5;124m\"\u001B[39m\u001B[38;5;124m\"\u001B[39m\n\u001B[1;32m----> 2\u001B[0m model \u001B[38;5;241m=\u001B[39m \u001B[43mViTMAEForPreTraining\u001B[49m\u001B[38;5;241m.\u001B[39mfrom_pretrained(model_checkpoint)\n",
      "\u001B[1;31mNameError\u001B[0m: name 'ViTMAEForPreTraining' is not defined"
     ]
    }
   ],
   "source": [
    "model_checkpoint = \"\"\n",
    "model = ViTMAEForPreTraining.from_pretrained(model_checkpoint)"
   ],
   "metadata": {
    "collapsed": false,
    "ExecuteTime": {
     "end_time": "2024-01-11T15:40:28.513872400Z",
     "start_time": "2024-01-11T15:40:28.250546100Z"
    }
   },
   "id": "3a7d2460e4bda85d"
  },
  {
   "cell_type": "code",
   "execution_count": null,
   "outputs": [],
   "source": [],
   "metadata": {
    "collapsed": false
   },
   "id": "992cf58b60392396"
  },
  {
   "cell_type": "code",
   "execution_count": null,
   "outputs": [],
   "source": [
    "criterion = nn.MSELoss()\n",
    "optim = torch.optim.Adam(model.parameters(), lr=1e-4)"
   ],
   "metadata": {
    "collapsed": false
   },
   "id": "901ddd4eb9538bd"
  },
  {
   "cell_type": "code",
   "execution_count": null,
   "outputs": [],
   "source": [
    "def train(model, optim, criterion, train_dataloader, val_dataloader, epochs_num=1, device='cpu'):\n",
    "    for epoch in range(epochs_num):\n",
    "        for inputs in tqdm(train_dataloader):\n",
    "             pass"
   ],
   "metadata": {
    "collapsed": false
   },
   "id": "37bbf5cd278df281"
  }
 ],
 "metadata": {
  "kernelspec": {
   "display_name": "Python 3",
   "language": "python",
   "name": "python3"
  },
  "language_info": {
   "codemirror_mode": {
    "name": "ipython",
    "version": 2
   },
   "file_extension": ".py",
   "mimetype": "text/x-python",
   "name": "python",
   "nbconvert_exporter": "python",
   "pygments_lexer": "ipython2",
   "version": "2.7.6"
  }
 },
 "nbformat": 4,
 "nbformat_minor": 5
}
